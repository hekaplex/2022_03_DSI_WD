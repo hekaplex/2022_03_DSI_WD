{
 "cells": [
  {
   "cell_type": "code",
   "execution_count": 2,
   "metadata": {},
   "outputs": [],
   "source": [
    "alphabet = \"abcdefghijklmnopqrstuvwxyz\""
   ]
  },
  {
   "cell_type": "code",
   "execution_count": 3,
   "metadata": {},
   "outputs": [
    {
     "data": {
      "text/plain": [
       "'abcdefghijklm'"
      ]
     },
     "execution_count": 3,
     "metadata": {},
     "output_type": "execute_result"
    }
   ],
   "source": [
    "#list\n",
    "alphabet[0:13]"
   ]
  },
  {
   "cell_type": "code",
   "execution_count": 10,
   "metadata": {},
   "outputs": [
    {
     "data": {
      "text/plain": [
       "4.44"
      ]
     },
     "execution_count": 10,
     "metadata": {},
     "output_type": "execute_result"
    }
   ],
   "source": [
    "(60+170+88+69+8+49)/100"
   ]
  },
  {
   "cell_type": "code",
   "execution_count": 1,
   "metadata": {},
   "outputs": [
    {
     "name": "stdout",
     "output_type": "stream",
     "text": [
      "['goose', 'loose', 'moose']\n"
     ]
    }
   ],
   "source": [
    "import orangewhip"
   ]
  },
  {
   "cell_type": "code",
   "execution_count": 7,
   "metadata": {},
   "outputs": [
    {
     "ename": "NameError",
     "evalue": "name 'orangewhip' is not defined",
     "output_type": "error",
     "traceback": [
      "\u001b[1;31m---------------------------------------------------------------------------\u001b[0m",
      "\u001b[1;31mNameError\u001b[0m                                 Traceback (most recent call last)",
      "\u001b[1;32m~\\AppData\\Local\\Temp/ipykernel_48644/1934583901.py\u001b[0m in \u001b[0;36m<module>\u001b[1;34m\u001b[0m\n\u001b[1;32m----> 1\u001b[1;33m \u001b[0morangewhip\u001b[0m\u001b[1;33m.\u001b[0m\u001b[0morange_whip\u001b[0m\u001b[1;33m(\u001b[0m\u001b[1;34m\"*ouch\"\u001b[0m\u001b[1;33m,\u001b[0m\u001b[1;34m\"fieryabtgmbndc\"\u001b[0m\u001b[1;33m)\u001b[0m\u001b[1;33m\u001b[0m\u001b[1;33m\u001b[0m\u001b[0m\n\u001b[0m",
      "\u001b[1;31mNameError\u001b[0m: name 'orangewhip' is not defined"
     ]
    }
   ],
   "source": [
    "orangewhip.orange_whip(\"*ouch\",\"fieryabtgmbndc\")"
   ]
  },
  {
   "cell_type": "code",
   "execution_count": 5,
   "metadata": {},
   "outputs": [
    {
     "name": "stdout",
     "output_type": "stream",
     "text": [
      "Coeff of Variance: 8.1%\n"
     ]
    }
   ],
   "source": [
    "# coefficent of variance = stdev/mean\n",
    "# AMD: < 3% was OK, 3-5% was yellow flag > 5% unacceptable\n",
    "print(\"Coeff of Variance: {}%\".format(round((1325.290521/16366.887463)*100,2)))\n"
   ]
  },
  {
   "cell_type": "code",
   "execution_count": 23,
   "metadata": {},
   "outputs": [
    {
     "name": "stdout",
     "output_type": "stream",
     "text": [
      "Collecting skl2onnx"
     ]
    },
    {
     "name": "stderr",
     "output_type": "stream",
     "text": [
      "WARNING: Ignoring invalid distribution -ywin32 (c:\\users\\andre\\appdata\\roaming\\python\\python39\\site-packages)\n",
      "WARNING: Ignoring invalid distribution -p (c:\\python39\\lib\\site-packages)\n",
      "WARNING: Ignoring invalid distribution -p (c:\\python39\\lib\\site-packages)\n",
      "WARNING: Ignoring invalid distribution -ip (c:\\python39\\lib\\site-packages)\n",
      "WARNING: Ignoring invalid distribution - (c:\\python39\\lib\\site-packages)\n",
      "WARNING: Ignoring invalid distribution -ywin32 (c:\\users\\andre\\appdata\\roaming\\python\\python39\\site-packages)\n"
     ]
    },
    {
     "name": "stdout",
     "output_type": "stream",
     "text": [
      "\n",
      "  Downloading skl2onnx-1.11.1-py3-none-any.whl (276 kB)\n",
      "     -------------------------------------- 276.4/276.4 KB 2.8 MB/s eta 0:00:00\n",
      "Requirement already satisfied: numpy>=1.15 in c:\\users\\andre\\appdata\\roaming\\python\\python39\\site-packages (from skl2onnx) (1.19.5)\n",
      "Requirement already satisfied: protobuf in c:\\users\\andre\\appdata\\roaming\\python\\python39\\site-packages (from skl2onnx) (3.19.4)\n",
      "Collecting onnxconverter-common>=1.7.0\n",
      "  Downloading onnxconverter_common-1.9.0-py2.py3-none-any.whl (78 kB)\n",
      "     ---------------------------------------- 78.8/78.8 KB 4.3 MB/s eta 0:00:00\n",
      "Collecting onnx>=1.2.1\n",
      "  Downloading onnx-1.11.0-cp39-cp39-win_amd64.whl (11.2 MB)\n",
      "     ---------------------------------------- 11.2/11.2 MB 6.8 MB/s eta 0:00:00\n",
      "Requirement already satisfied: scipy>=1.0 in c:\\users\\andre\\appdata\\roaming\\python\\python39\\site-packages (from skl2onnx) (1.5.4)\n",
      "Requirement already satisfied: scikit-learn>=0.19 in c:\\users\\andre\\appdata\\roaming\\python\\python39\\site-packages (from skl2onnx) (0.23.2)\n",
      "Requirement already satisfied: typing-extensions>=3.6.2.1 in c:\\users\\andre\\appdata\\roaming\\python\\python39\\site-packages (from onnx>=1.2.1->skl2onnx) (4.1.1)\n",
      "Requirement already satisfied: threadpoolctl>=2.0.0 in c:\\python39\\lib\\site-packages (from scikit-learn>=0.19->skl2onnx) (3.0.0)\n",
      "Requirement already satisfied: joblib>=0.11 in c:\\python39\\lib\\site-packages (from scikit-learn>=0.19->skl2onnx) (1.1.0)\n",
      "Installing collected packages: onnx, onnxconverter-common, skl2onnx\n"
     ]
    },
    {
     "name": "stderr",
     "output_type": "stream",
     "text": [
      "WARNING: Ignoring invalid distribution -p (c:\\python39\\lib\\site-packages)\n",
      "WARNING: Ignoring invalid distribution -p (c:\\python39\\lib\\site-packages)\n",
      "WARNING: Ignoring invalid distribution -ip (c:\\python39\\lib\\site-packages)\n",
      "WARNING: Ignoring invalid distribution - (c:\\python39\\lib\\site-packages)\n",
      "WARNING: Ignoring invalid distribution -ywin32 (c:\\users\\andre\\appdata\\roaming\\python\\python39\\site-packages)\n",
      "WARNING: Ignoring invalid distribution -p (c:\\python39\\lib\\site-packages)\n",
      "WARNING: Ignoring invalid distribution -p (c:\\python39\\lib\\site-packages)\n",
      "WARNING: Ignoring invalid distribution -ip (c:\\python39\\lib\\site-packages)\n",
      "WARNING: Ignoring invalid distribution - (c:\\python39\\lib\\site-packages)\n",
      "  WARNING: Failed to write executable - trying to use .deleteme logic\n",
      "ERROR: Could not install packages due to an OSError: [WinError 2] The system cannot find the file specified: 'c:\\\\python39\\\\Scripts\\\\backend-test-tools.exe' -> 'c:\\\\python39\\\\Scripts\\\\backend-test-tools.exe.deleteme'\n",
      "\n",
      "WARNING: Ignoring invalid distribution -ywin32 (c:\\users\\andre\\appdata\\roaming\\python\\python39\\site-packages)\n",
      "WARNING: Ignoring invalid distribution -p (c:\\python39\\lib\\site-packages)\n",
      "WARNING: Ignoring invalid distribution -p (c:\\python39\\lib\\site-packages)\n",
      "WARNING: Ignoring invalid distribution -ip (c:\\python39\\lib\\site-packages)\n",
      "WARNING: Ignoring invalid distribution - (c:\\python39\\lib\\site-packages)\n",
      "WARNING: Ignoring invalid distribution -ywin32 (c:\\users\\andre\\appdata\\roaming\\python\\python39\\site-packages)\n",
      "WARNING: Ignoring invalid distribution -ywin32 (c:\\users\\andre\\appdata\\roaming\\python\\python39\\site-packages)\n",
      "WARNING: You are using pip version 22.0.4; however, version 22.1 is available.\n",
      "You should consider upgrading via the 'c:\\python39\\python.exe -m pip install --upgrade pip' command.\n"
     ]
    }
   ],
   "source": [
    "!pip install skl2onnx"
   ]
  },
  {
   "cell_type": "code",
   "execution_count": 2,
   "metadata": {},
   "outputs": [
    {
     "name": "stdout",
     "output_type": "stream",
     "text": [
      "Collecting git+https://github.com/onnx/sklearn-onnx.git\n",
      "  Cloning https://github.com/onnx/sklearn-onnx.git to c:\\users\\andre\\appdata\\local\\temp\\pip-req-build-c0gmcnvy\n",
      "  Resolved https://github.com/onnx/sklearn-onnx.git to commit 5dc552f5c2d622e3c6b0028cb3c67f810a8d1bf5\n",
      "Requirement already satisfied: numpy>=1.15 in c:\\users\\andre\\anaconda3\\lib\\site-packages (from skl2onnx==1.11.1) (1.19.5)\n",
      "Requirement already satisfied: scipy>=1.0 in c:\\users\\andre\\anaconda3\\lib\\site-packages (from skl2onnx==1.11.1) (1.6.2)\n",
      "Requirement already satisfied: protobuf in c:\\users\\andre\\anaconda3\\lib\\site-packages (from skl2onnx==1.11.1) (3.19.1)\n",
      "Collecting onnx>=1.2.1\n",
      "  Downloading onnx-1.11.0-cp38-cp38-win_amd64.whl (11.2 MB)\n",
      "Requirement already satisfied: scikit-learn>=0.19 in c:\\users\\andre\\anaconda3\\lib\\site-packages (from skl2onnx==1.11.1) (1.0.2)\n",
      "Collecting onnxconverter-common>=1.7.0\n",
      "  Using cached onnxconverter_common-1.9.0-py2.py3-none-any.whl (78 kB)\n",
      "Requirement already satisfied: typing-extensions>=3.6.2.1 in c:\\users\\andre\\anaconda3\\lib\\site-packages (from onnx>=1.2.1->skl2onnx==1.11.1) (3.10.0.2)\n",
      "Requirement already satisfied: threadpoolctl>=2.0.0 in c:\\users\\andre\\anaconda3\\lib\\site-packages (from scikit-learn>=0.19->skl2onnx==1.11.1) (2.2.0)\n",
      "Requirement already satisfied: joblib>=0.11 in c:\\users\\andre\\anaconda3\\lib\\site-packages (from scikit-learn>=0.19->skl2onnx==1.11.1) (1.1.0)\n",
      "Building wheels for collected packages: skl2onnx\n",
      "  Building wheel for skl2onnx (setup.py): started\n",
      "  Building wheel for skl2onnx (setup.py): finished with status 'done'\n",
      "  Created wheel for skl2onnx: filename=skl2onnx-1.11.1-py2.py3-none-any.whl size=278067 sha256=edb60484f5a7e2ed285a9bb447d7a355816874b7307837e8db8b282a260fa558\n",
      "  Stored in directory: C:\\Users\\andre\\AppData\\Local\\Temp\\pip-ephem-wheel-cache-woz00pni\\wheels\\a9\\c3\\16\\517a4b415e711477f04a053b869b9603225d216193a24bc040\n",
      "Successfully built skl2onnx\n",
      "Installing collected packages: onnx, onnxconverter-common, skl2onnx\n",
      "Successfully installed onnx-1.11.0 onnxconverter-common-1.9.0 skl2onnx-1.11.1\n"
     ]
    },
    {
     "name": "stderr",
     "output_type": "stream",
     "text": [
      "WARNING: Ignoring invalid distribution -atplotlib (c:\\users\\andre\\anaconda3\\lib\\site-packages)\n",
      "WARNING: Ignoring invalid distribution -atplotlib (c:\\users\\andre\\anaconda3\\lib\\site-packages)\n",
      "  Running command git clone -q https://github.com/onnx/sklearn-onnx.git 'C:\\Users\\andre\\AppData\\Local\\Temp\\pip-req-build-c0gmcnvy'\n",
      "WARNING: Ignoring invalid distribution -atplotlib (c:\\users\\andre\\anaconda3\\lib\\site-packages)\n",
      "WARNING: Error parsing requirements for google-pasta: [Errno 2] No such file or directory: 'c:\\\\users\\\\andre\\\\anaconda3\\\\lib\\\\site-packages\\\\google_pasta-0.2.0.dist-info\\\\METADATA'\n",
      "WARNING: Ignoring invalid distribution -atplotlib (c:\\users\\andre\\anaconda3\\lib\\site-packages)\n",
      "WARNING: Ignoring invalid distribution -atplotlib (c:\\users\\andre\\anaconda3\\lib\\site-packages)\n",
      "WARNING: Ignoring invalid distribution -atplotlib (c:\\users\\andre\\anaconda3\\lib\\site-packages)\n",
      "WARNING: Ignoring invalid distribution -atplotlib (c:\\users\\andre\\anaconda3\\lib\\site-packages)\n",
      "WARNING: Ignoring invalid distribution -atplotlib (c:\\users\\andre\\anaconda3\\lib\\site-packages)\n",
      "WARNING: Ignoring invalid distribution -atplotlib (c:\\users\\andre\\anaconda3\\lib\\site-packages)\n"
     ]
    }
   ],
   "source": [
    "!pip install git+https://github.com/onnx/sklearn-onnx.git"
   ]
  },
  {
   "cell_type": "code",
   "execution_count": 3,
   "metadata": {},
   "outputs": [],
   "source": [
    "import skl2onnx"
   ]
  },
  {
   "cell_type": "code",
   "execution_count": 5,
   "metadata": {},
   "outputs": [],
   "source": [
    "import joblib\n",
    "x_train = joblib.load(\"train_inputs.pkl\")\n",
    "clf = joblib.load(\"taxi_model.pkl\")\n"
   ]
  },
  {
   "cell_type": "code",
   "execution_count": 7,
   "metadata": {},
   "outputs": [],
   "source": [
    "from skl2onnx import convert_sklearn\n",
    "from skl2onnx.common.data_types import FloatTensorType, Int64TensorType, DoubleTensorType, StringTensorType\n",
    "\n",
    "def convert_dataframe_schema(df, drop=None):\n",
    "    inputs = []\n",
    "    for k, v in zip(df.columns, df.dtypes):\n",
    "        if drop is not None and k in drop:\n",
    "            continue\n",
    "        if v == 'int64':\n",
    "            t = Int64TensorType([1, 1])\n",
    "        elif v == 'float32':\n",
    "            t = FloatTensorType([1, 1])\n",
    "        elif v == 'float64':\n",
    "            t = DoubleTensorType([1, 1])\n",
    "        else:\n",
    "            t = StringTensorType([1, 1])\n",
    "        inputs.append((k, t))\n",
    "    return inputs\n",
    "\n",
    "model_inputs = convert_dataframe_schema(x_train)\n",
    "onnx_model = convert_sklearn(clf, \"nyc_taxi_tip_predict\", model_inputs)"
   ]
  },
  {
   "cell_type": "code",
   "execution_count": 9,
   "metadata": {},
   "outputs": [
    {
     "data": {
      "text/plain": [
       "b'\\x08\\x08\\x12\\x08skl2onnx\\x1a\\x061.11.1\"\\x07ai.onnx(\\x002\\x00:\\xbf\\x13\\n?\\n\\x0epassengerCount\\x12\\x13passengerCount_cast\\x1a\\x05Cast3\"\\x04Cast*\\t\\n\\x02to\\x18\\x07\\xa0\\x01\\x02:\\x00\\n;\\n\\x0ctripDistance\\x12\\x11tripDistance_cast\\x1a\\x05Cast1\"\\x04Cast*\\t\\n\\x02to\\x18\\x01\\xa0\\x01\\x02:\\x00\\n6\\n\\nfareAmount\\x12\\x0ffareAmount_cast\\x1a\\x04Cast\"\\x04Cast*\\t\\n\\x02to\\x18\\x01\\xa0\\x01\\x02:\\x00\\n9\\n\\x0bpaymentType\\x12\\x10paymentType_cast\\x1a\\x05Cast2\"\\x04Cast*\\t\\n\\x02to\\x18\\x07\\xa0\\x01\\x02:\\x00\\nj\\n\\rpickupTimeBin\\n\\x0epickupTimeBin0\\x12\\x0fpickupTimeBin01\\x1a\\x15ArrayFeatureExtractor\"\\x15ArrayFeatureExtractor:\\nai.onnx.ml\\n;\\n\\x0ctripTimeSecs\\x12\\x11tripTimeSecs_cast\\x1a\\x05Cast4\"\\x04Cast*\\t\\n\\x02to\\x18\\x07\\xa0\\x01\\x02:\\x00\\nS\\n\\x0ffareAmount_cast\\n\\x11tripDistance_cast\\x12\\x0emerged_columns\\x1a\\x06Concat\"\\x06Concat*\\x0b\\n\\x04axis\\x18\\x01\\xa0\\x01\\x02:\\x00\\nk\\n\\x10paymentType_cast\\n\\x13passengerCount_cast\\n\\x11tripTimeSecs_cast\\x12\\x0fmerged_columns1\\x1a\\x07Concat1\"\\x06Concat*\\x0b\\n\\x04axis\\x18\\x01\\xa0\\x01\\x02:\\x00\\n\\x92\\x01\\n\\x0fpickupTimeBin01\\x12\\x12pickupTimeBin01out\\x1a\\rOneHotEncoder\"\\rOneHotEncoder*3\\n\\x0ccats_stringsJ\\x06AMRushJ\\tAfternoonJ\\x05NightJ\\x06PMRush\\xa0\\x01\\x08*\\x0c\\n\\x05zeros\\x18\\x01\\xa0\\x01\\x02:\\nai.onnx.ml\\n}\\n\\x0emerged_columns\\x12\\x08variable\\x1a\\x07Imputer\"\\x07Imputer*#\\n\\x14imputed_value_floats=\\x00\\x00\\x18A=\\x9a\\x99\\xd9?\\xa0\\x01\\x06*\\x1e\\n\\x14replaced_value_float\\x15\\x00\\x00\\xc0\\x7f\\xa0\\x01\\x01:\\nai.onnx.ml\\n\\x83\\x01\\n\\x0fmerged_columns1\\x12\\tvariable2\\x1a\\x08Imputer1\"\\x07Imputer* \\n\\x14imputed_value_int64s@\\x01@\\x01@\\xab\\x05\\xa0\\x01\\x07*$\\n\\x14replaced_value_int64\\x18\\x80\\x80\\x80\\x80\\x80\\x80\\x80\\x80\\x80\\x01\\xa0\\x01\\x02:\\nai.onnx.ml\\nC\\n\\x12pickupTimeBin01out\\x12\\rconcat_result\\x1a\\x07Concat2\"\\x06Concat*\\x0b\\n\\x04axis\\x18\\x02\\xa0\\x01\\x02:\\x00\\n^\\n\\x08variable\\x12\\tvariable1\\x1a\\x06Scaler\"\\x06Scaler*\\x15\\n\\x06offset=QbTA=\\xe1gB@\\xa0\\x01\\x06*\\x14\\n\\x05scale=Y%\\xb6==\\xb9\\x1c\\x87>\\xa0\\x01\\x06:\\nai.onnx.ml\\nj\\n\\tvariable2\\x12\\tvariable3\\x1a\\x07Scaler1\"\\x06Scaler*\\x1a\\n\\x06offset=g\\x81\\xa7?=\\xccO\\xd1?=\\x92@`D\\xa0\\x01\\x06*\\x19\\n\\x05scale=\\x85\\x8c\\n@=\\xf2uI?=~\\xaa\\xb1:\\xa0\\x01\\x06:\\nai.onnx.ml\\n<\\n\\rconcat_result\\n\\x0cshape_tensor\\x12\\tvariable4\\x1a\\x07Reshape\"\\x07Reshape:\\x00\\n5\\n\\tvariable3\\x12\\x0evariable3_cast\\x1a\\x05Cast6\"\\x04Cast*\\t\\n\\x02to\\x18\\x01\\xa0\\x01\\x02:\\x00\\n5\\n\\tvariable4\\x12\\x0evariable4_cast\\x1a\\x05Cast7\"\\x04Cast*\\t\\n\\x02to\\x18\\x01\\xa0\\x01\\x02:\\x00\\n5\\n\\tvariable1\\x12\\x0evariable1_cast\\x1a\\x05Cast5\"\\x04Cast*\\t\\n\\x02to\\x18\\x01\\xa0\\x01\\x02:\\x00\\nd\\n\\x0evariable1_cast\\n\\x0evariable3_cast\\n\\x0evariable4_cast\\x12\\x12transformed_column\\x1a\\x07Concat3\"\\x06Concat*\\x0b\\n\\x04axis\\x18\\x01\\xa0\\x01\\x02:\\x00\\n\\xb5\\x02\\n\\x12transformed_column\\x12\\x05label\\x12\\x12probability_tensor\\x1a\\x10LinearClassifier\"\\x10LinearClassifier*\\x19\\n\\x10classlabels_ints@\\x00@\\x01\\xa0\\x01\\x07*k\\n\\x0ccoefficients=\\x8b\\x10E>=\\x01\\xc6\\xd8==\\xa01\\x93@=\\x10:\\x01==\\xec\\xd8\\xc2\\xbc=\\x92\\xb7\\xfa<=\\x9fm-\\xbd=\\x87\\x00\\xda<=\\xc3\\x8cr\\xbc=\\x8b\\x10E\\xbe=\\x01\\xc6\\xd8\\xbd=\\xa01\\x93\\xc0=\\x10:\\x01\\xbd=\\xec\\xd8\\xc2<=\\x92\\xb7\\xfa\\xbc=\\x9fm-==\\x87\\x00\\xda\\xbc=\\xc3\\x8cr<\\xa0\\x01\\x06*\\x19\\n\\nintercepts=\\xff\\xc5\\x84==\\xff\\xc5\\x84\\xbd\\xa0\\x01\\x06*\\x12\\n\\x0bmulti_class\\x18\\x01\\xa0\\x01\\x02*\\x1d\\n\\x0epost_transform\"\\x08LOGISTIC\\xa0\\x01\\x03:\\nai.onnx.ml\\nV\\n\\x12probability_tensor\\x12\\rprobabilities\\x1a\\nNormalizer\"\\nNormalizer*\\r\\n\\x04norm\"\\x02L1\\xa0\\x01\\x03:\\nai.onnx.ml\\n/\\n\\x05label\\x12\\x0coutput_label\\x1a\\x05Cast8\"\\x04Cast*\\t\\n\\x02to\\x18\\x07\\xa0\\x01\\x02:\\x00\\n\\\\\\n\\rprobabilities\\x12\\x12output_probability\\x1a\\x06ZipMap\"\\x06ZipMap*\\x1b\\n\\x12classlabels_int64s@\\x00@\\x01\\xa0\\x01\\x07:\\nai.onnx.ml\\x12\\x14nyc_taxi_tip_predict*\\x15\\x10\\x07:\\x01\\x00B\\x0epickupTimeBin0*\\x1f\\x08\\x02\\x10\\x07:\\x0b\\xff\\xff\\xff\\xff\\xff\\xff\\xff\\xff\\xff\\x01\\x04B\\x0cshape_tensorZ\\x1c\\n\\nfareAmount\\x12\\x0e\\n\\x0c\\x08\\x01\\x12\\x08\\n\\x02\\x08\\x01\\n\\x02\\x08\\x01Z\\x1d\\n\\x0bpaymentType\\x12\\x0e\\n\\x0c\\x08\\x07\\x12\\x08\\n\\x02\\x08\\x01\\n\\x02\\x08\\x01Z \\n\\x0epassengerCount\\x12\\x0e\\n\\x0c\\x08\\x07\\x12\\x08\\n\\x02\\x08\\x01\\n\\x02\\x08\\x01Z\\x1e\\n\\x0ctripDistance\\x12\\x0e\\n\\x0c\\x08\\x01\\x12\\x08\\n\\x02\\x08\\x01\\n\\x02\\x08\\x01Z\\x1e\\n\\x0ctripTimeSecs\\x12\\x0e\\n\\x0c\\x08\\x07\\x12\\x08\\n\\x02\\x08\\x01\\n\\x02\\x08\\x01Z\\x1f\\n\\rpickupTimeBin\\x12\\x0e\\n\\x0c\\x08\\x08\\x12\\x08\\n\\x02\\x08\\x01\\n\\x02\\x08\\x01b\\x1a\\n\\x0coutput_label\\x12\\n\\n\\x08\\x08\\x07\\x12\\x04\\n\\x02\\x08\\x01b$\\n\\x12output_probability\\x12\\x0e\"\\x0c\\n\\n*\\x08\\x08\\x07\\x12\\x04\\n\\x02\\x08\\x01B\\x0e\\n\\nai.onnx.ml\\x10\\x01B\\x04\\n\\x00\\x10\\x0b'"
      ]
     },
     "execution_count": 9,
     "metadata": {},
     "output_type": "execute_result"
    }
   ],
   "source": [
    "skl2onnx.helpers.onnx_helper.save_onnx_model(onnx_model,\"nyc_taxi_tip_predict.onnx\")"
   ]
  },
  {
   "cell_type": "code",
   "execution_count": 6,
   "metadata": {},
   "outputs": [
    {
     "ename": "ValueError",
     "evalue": "could not convert string to float: 'AMRush'",
     "output_type": "error",
     "traceback": [
      "\u001b[1;31m---------------------------------------------------------------------------\u001b[0m",
      "\u001b[1;31mValueError\u001b[0m                                Traceback (most recent call last)",
      "\u001b[1;32m~\\AppData\\Local\\Temp/ipykernel_295432/128345507.py\u001b[0m in \u001b[0;36m<module>\u001b[1;34m\u001b[0m\n\u001b[0;32m      1\u001b[0m \u001b[1;32mimport\u001b[0m \u001b[0mnumpy\u001b[0m\u001b[1;33m\u001b[0m\u001b[1;33m\u001b[0m\u001b[0m\n\u001b[1;32m----> 2\u001b[1;33m skl2onnx.to_onnx(clf,x_train[:1].astype(numpy.float32),\n\u001b[0m\u001b[0;32m      3\u001b[0m               target_opset=14)\n",
      "\u001b[1;32mc:\\Users\\andre\\anaconda3\\lib\\site-packages\\pandas\\core\\generic.py\u001b[0m in \u001b[0;36mastype\u001b[1;34m(self, dtype, copy, errors)\u001b[0m\n\u001b[0;32m   5813\u001b[0m         \u001b[1;32melse\u001b[0m\u001b[1;33m:\u001b[0m\u001b[1;33m\u001b[0m\u001b[1;33m\u001b[0m\u001b[0m\n\u001b[0;32m   5814\u001b[0m             \u001b[1;31m# else, only a single dtype is given\u001b[0m\u001b[1;33m\u001b[0m\u001b[1;33m\u001b[0m\u001b[1;33m\u001b[0m\u001b[0m\n\u001b[1;32m-> 5815\u001b[1;33m             \u001b[0mnew_data\u001b[0m \u001b[1;33m=\u001b[0m \u001b[0mself\u001b[0m\u001b[1;33m.\u001b[0m\u001b[0m_mgr\u001b[0m\u001b[1;33m.\u001b[0m\u001b[0mastype\u001b[0m\u001b[1;33m(\u001b[0m\u001b[0mdtype\u001b[0m\u001b[1;33m=\u001b[0m\u001b[0mdtype\u001b[0m\u001b[1;33m,\u001b[0m \u001b[0mcopy\u001b[0m\u001b[1;33m=\u001b[0m\u001b[0mcopy\u001b[0m\u001b[1;33m,\u001b[0m \u001b[0merrors\u001b[0m\u001b[1;33m=\u001b[0m\u001b[0merrors\u001b[0m\u001b[1;33m)\u001b[0m\u001b[1;33m\u001b[0m\u001b[1;33m\u001b[0m\u001b[0m\n\u001b[0m\u001b[0;32m   5816\u001b[0m             \u001b[1;32mreturn\u001b[0m \u001b[0mself\u001b[0m\u001b[1;33m.\u001b[0m\u001b[0m_constructor\u001b[0m\u001b[1;33m(\u001b[0m\u001b[0mnew_data\u001b[0m\u001b[1;33m)\u001b[0m\u001b[1;33m.\u001b[0m\u001b[0m__finalize__\u001b[0m\u001b[1;33m(\u001b[0m\u001b[0mself\u001b[0m\u001b[1;33m,\u001b[0m \u001b[0mmethod\u001b[0m\u001b[1;33m=\u001b[0m\u001b[1;34m\"astype\"\u001b[0m\u001b[1;33m)\u001b[0m\u001b[1;33m\u001b[0m\u001b[1;33m\u001b[0m\u001b[0m\n\u001b[0;32m   5817\u001b[0m \u001b[1;33m\u001b[0m\u001b[0m\n",
      "\u001b[1;32mc:\\Users\\andre\\anaconda3\\lib\\site-packages\\pandas\\core\\internals\\managers.py\u001b[0m in \u001b[0;36mastype\u001b[1;34m(self, dtype, copy, errors)\u001b[0m\n\u001b[0;32m    416\u001b[0m \u001b[1;33m\u001b[0m\u001b[0m\n\u001b[0;32m    417\u001b[0m     \u001b[1;32mdef\u001b[0m \u001b[0mastype\u001b[0m\u001b[1;33m(\u001b[0m\u001b[0mself\u001b[0m\u001b[1;33m:\u001b[0m \u001b[0mT\u001b[0m\u001b[1;33m,\u001b[0m \u001b[0mdtype\u001b[0m\u001b[1;33m,\u001b[0m \u001b[0mcopy\u001b[0m\u001b[1;33m:\u001b[0m \u001b[0mbool\u001b[0m \u001b[1;33m=\u001b[0m \u001b[1;32mFalse\u001b[0m\u001b[1;33m,\u001b[0m \u001b[0merrors\u001b[0m\u001b[1;33m:\u001b[0m \u001b[0mstr\u001b[0m \u001b[1;33m=\u001b[0m \u001b[1;34m\"raise\"\u001b[0m\u001b[1;33m)\u001b[0m \u001b[1;33m->\u001b[0m \u001b[0mT\u001b[0m\u001b[1;33m:\u001b[0m\u001b[1;33m\u001b[0m\u001b[1;33m\u001b[0m\u001b[0m\n\u001b[1;32m--> 418\u001b[1;33m         \u001b[1;32mreturn\u001b[0m \u001b[0mself\u001b[0m\u001b[1;33m.\u001b[0m\u001b[0mapply\u001b[0m\u001b[1;33m(\u001b[0m\u001b[1;34m\"astype\"\u001b[0m\u001b[1;33m,\u001b[0m \u001b[0mdtype\u001b[0m\u001b[1;33m=\u001b[0m\u001b[0mdtype\u001b[0m\u001b[1;33m,\u001b[0m \u001b[0mcopy\u001b[0m\u001b[1;33m=\u001b[0m\u001b[0mcopy\u001b[0m\u001b[1;33m,\u001b[0m \u001b[0merrors\u001b[0m\u001b[1;33m=\u001b[0m\u001b[0merrors\u001b[0m\u001b[1;33m)\u001b[0m\u001b[1;33m\u001b[0m\u001b[1;33m\u001b[0m\u001b[0m\n\u001b[0m\u001b[0;32m    419\u001b[0m \u001b[1;33m\u001b[0m\u001b[0m\n\u001b[0;32m    420\u001b[0m     def convert(\n",
      "\u001b[1;32mc:\\Users\\andre\\anaconda3\\lib\\site-packages\\pandas\\core\\internals\\managers.py\u001b[0m in \u001b[0;36mapply\u001b[1;34m(self, f, align_keys, ignore_failures, **kwargs)\u001b[0m\n\u001b[0;32m    325\u001b[0m                     \u001b[0mapplied\u001b[0m \u001b[1;33m=\u001b[0m \u001b[0mb\u001b[0m\u001b[1;33m.\u001b[0m\u001b[0mapply\u001b[0m\u001b[1;33m(\u001b[0m\u001b[0mf\u001b[0m\u001b[1;33m,\u001b[0m \u001b[1;33m**\u001b[0m\u001b[0mkwargs\u001b[0m\u001b[1;33m)\u001b[0m\u001b[1;33m\u001b[0m\u001b[1;33m\u001b[0m\u001b[0m\n\u001b[0;32m    326\u001b[0m                 \u001b[1;32melse\u001b[0m\u001b[1;33m:\u001b[0m\u001b[1;33m\u001b[0m\u001b[1;33m\u001b[0m\u001b[0m\n\u001b[1;32m--> 327\u001b[1;33m                     \u001b[0mapplied\u001b[0m \u001b[1;33m=\u001b[0m \u001b[0mgetattr\u001b[0m\u001b[1;33m(\u001b[0m\u001b[0mb\u001b[0m\u001b[1;33m,\u001b[0m \u001b[0mf\u001b[0m\u001b[1;33m)\u001b[0m\u001b[1;33m(\u001b[0m\u001b[1;33m**\u001b[0m\u001b[0mkwargs\u001b[0m\u001b[1;33m)\u001b[0m\u001b[1;33m\u001b[0m\u001b[1;33m\u001b[0m\u001b[0m\n\u001b[0m\u001b[0;32m    328\u001b[0m             \u001b[1;32mexcept\u001b[0m \u001b[1;33m(\u001b[0m\u001b[0mTypeError\u001b[0m\u001b[1;33m,\u001b[0m \u001b[0mNotImplementedError\u001b[0m\u001b[1;33m)\u001b[0m\u001b[1;33m:\u001b[0m\u001b[1;33m\u001b[0m\u001b[1;33m\u001b[0m\u001b[0m\n\u001b[0;32m    329\u001b[0m                 \u001b[1;32mif\u001b[0m \u001b[1;32mnot\u001b[0m \u001b[0mignore_failures\u001b[0m\u001b[1;33m:\u001b[0m\u001b[1;33m\u001b[0m\u001b[1;33m\u001b[0m\u001b[0m\n",
      "\u001b[1;32mc:\\Users\\andre\\anaconda3\\lib\\site-packages\\pandas\\core\\internals\\blocks.py\u001b[0m in \u001b[0;36mastype\u001b[1;34m(self, dtype, copy, errors)\u001b[0m\n\u001b[0;32m    589\u001b[0m         \u001b[0mvalues\u001b[0m \u001b[1;33m=\u001b[0m \u001b[0mself\u001b[0m\u001b[1;33m.\u001b[0m\u001b[0mvalues\u001b[0m\u001b[1;33m\u001b[0m\u001b[1;33m\u001b[0m\u001b[0m\n\u001b[0;32m    590\u001b[0m \u001b[1;33m\u001b[0m\u001b[0m\n\u001b[1;32m--> 591\u001b[1;33m         \u001b[0mnew_values\u001b[0m \u001b[1;33m=\u001b[0m \u001b[0mastype_array_safe\u001b[0m\u001b[1;33m(\u001b[0m\u001b[0mvalues\u001b[0m\u001b[1;33m,\u001b[0m \u001b[0mdtype\u001b[0m\u001b[1;33m,\u001b[0m \u001b[0mcopy\u001b[0m\u001b[1;33m=\u001b[0m\u001b[0mcopy\u001b[0m\u001b[1;33m,\u001b[0m \u001b[0merrors\u001b[0m\u001b[1;33m=\u001b[0m\u001b[0merrors\u001b[0m\u001b[1;33m)\u001b[0m\u001b[1;33m\u001b[0m\u001b[1;33m\u001b[0m\u001b[0m\n\u001b[0m\u001b[0;32m    592\u001b[0m \u001b[1;33m\u001b[0m\u001b[0m\n\u001b[0;32m    593\u001b[0m         \u001b[0mnew_values\u001b[0m \u001b[1;33m=\u001b[0m \u001b[0mmaybe_coerce_values\u001b[0m\u001b[1;33m(\u001b[0m\u001b[0mnew_values\u001b[0m\u001b[1;33m)\u001b[0m\u001b[1;33m\u001b[0m\u001b[1;33m\u001b[0m\u001b[0m\n",
      "\u001b[1;32mc:\\Users\\andre\\anaconda3\\lib\\site-packages\\pandas\\core\\dtypes\\cast.py\u001b[0m in \u001b[0;36mastype_array_safe\u001b[1;34m(values, dtype, copy, errors)\u001b[0m\n\u001b[0;32m   1307\u001b[0m \u001b[1;33m\u001b[0m\u001b[0m\n\u001b[0;32m   1308\u001b[0m     \u001b[1;32mtry\u001b[0m\u001b[1;33m:\u001b[0m\u001b[1;33m\u001b[0m\u001b[1;33m\u001b[0m\u001b[0m\n\u001b[1;32m-> 1309\u001b[1;33m         \u001b[0mnew_values\u001b[0m \u001b[1;33m=\u001b[0m \u001b[0mastype_array\u001b[0m\u001b[1;33m(\u001b[0m\u001b[0mvalues\u001b[0m\u001b[1;33m,\u001b[0m \u001b[0mdtype\u001b[0m\u001b[1;33m,\u001b[0m \u001b[0mcopy\u001b[0m\u001b[1;33m=\u001b[0m\u001b[0mcopy\u001b[0m\u001b[1;33m)\u001b[0m\u001b[1;33m\u001b[0m\u001b[1;33m\u001b[0m\u001b[0m\n\u001b[0m\u001b[0;32m   1310\u001b[0m     \u001b[1;32mexcept\u001b[0m \u001b[1;33m(\u001b[0m\u001b[0mValueError\u001b[0m\u001b[1;33m,\u001b[0m \u001b[0mTypeError\u001b[0m\u001b[1;33m)\u001b[0m\u001b[1;33m:\u001b[0m\u001b[1;33m\u001b[0m\u001b[1;33m\u001b[0m\u001b[0m\n\u001b[0;32m   1311\u001b[0m         \u001b[1;31m# e.g. astype_nansafe can fail on object-dtype of strings\u001b[0m\u001b[1;33m\u001b[0m\u001b[1;33m\u001b[0m\u001b[1;33m\u001b[0m\u001b[0m\n",
      "\u001b[1;32mc:\\Users\\andre\\anaconda3\\lib\\site-packages\\pandas\\core\\dtypes\\cast.py\u001b[0m in \u001b[0;36mastype_array\u001b[1;34m(values, dtype, copy)\u001b[0m\n\u001b[0;32m   1255\u001b[0m \u001b[1;33m\u001b[0m\u001b[0m\n\u001b[0;32m   1256\u001b[0m     \u001b[1;32melse\u001b[0m\u001b[1;33m:\u001b[0m\u001b[1;33m\u001b[0m\u001b[1;33m\u001b[0m\u001b[0m\n\u001b[1;32m-> 1257\u001b[1;33m         \u001b[0mvalues\u001b[0m \u001b[1;33m=\u001b[0m \u001b[0mastype_nansafe\u001b[0m\u001b[1;33m(\u001b[0m\u001b[0mvalues\u001b[0m\u001b[1;33m,\u001b[0m \u001b[0mdtype\u001b[0m\u001b[1;33m,\u001b[0m \u001b[0mcopy\u001b[0m\u001b[1;33m=\u001b[0m\u001b[0mcopy\u001b[0m\u001b[1;33m)\u001b[0m\u001b[1;33m\u001b[0m\u001b[1;33m\u001b[0m\u001b[0m\n\u001b[0m\u001b[0;32m   1258\u001b[0m \u001b[1;33m\u001b[0m\u001b[0m\n\u001b[0;32m   1259\u001b[0m     \u001b[1;31m# in pandas we don't store numpy str dtypes, so convert to object\u001b[0m\u001b[1;33m\u001b[0m\u001b[1;33m\u001b[0m\u001b[1;33m\u001b[0m\u001b[0m\n",
      "\u001b[1;32mc:\\Users\\andre\\anaconda3\\lib\\site-packages\\pandas\\core\\dtypes\\cast.py\u001b[0m in \u001b[0;36mastype_nansafe\u001b[1;34m(arr, dtype, copy, skipna)\u001b[0m\n\u001b[0;32m   1093\u001b[0m     \u001b[1;32mif\u001b[0m \u001b[0marr\u001b[0m\u001b[1;33m.\u001b[0m\u001b[0mndim\u001b[0m \u001b[1;33m>\u001b[0m \u001b[1;36m1\u001b[0m\u001b[1;33m:\u001b[0m\u001b[1;33m\u001b[0m\u001b[1;33m\u001b[0m\u001b[0m\n\u001b[0;32m   1094\u001b[0m         \u001b[0mflat\u001b[0m \u001b[1;33m=\u001b[0m \u001b[0marr\u001b[0m\u001b[1;33m.\u001b[0m\u001b[0mravel\u001b[0m\u001b[1;33m(\u001b[0m\u001b[1;33m)\u001b[0m\u001b[1;33m\u001b[0m\u001b[1;33m\u001b[0m\u001b[0m\n\u001b[1;32m-> 1095\u001b[1;33m         \u001b[0mresult\u001b[0m \u001b[1;33m=\u001b[0m \u001b[0mastype_nansafe\u001b[0m\u001b[1;33m(\u001b[0m\u001b[0mflat\u001b[0m\u001b[1;33m,\u001b[0m \u001b[0mdtype\u001b[0m\u001b[1;33m,\u001b[0m \u001b[0mcopy\u001b[0m\u001b[1;33m=\u001b[0m\u001b[0mcopy\u001b[0m\u001b[1;33m,\u001b[0m \u001b[0mskipna\u001b[0m\u001b[1;33m=\u001b[0m\u001b[0mskipna\u001b[0m\u001b[1;33m)\u001b[0m\u001b[1;33m\u001b[0m\u001b[1;33m\u001b[0m\u001b[0m\n\u001b[0m\u001b[0;32m   1096\u001b[0m         \u001b[1;31m# error: Item \"ExtensionArray\" of \"Union[ExtensionArray, ndarray]\" has no\u001b[0m\u001b[1;33m\u001b[0m\u001b[1;33m\u001b[0m\u001b[1;33m\u001b[0m\u001b[0m\n\u001b[0;32m   1097\u001b[0m         \u001b[1;31m# attribute \"reshape\"\u001b[0m\u001b[1;33m\u001b[0m\u001b[1;33m\u001b[0m\u001b[1;33m\u001b[0m\u001b[0m\n",
      "\u001b[1;32mc:\\Users\\andre\\anaconda3\\lib\\site-packages\\pandas\\core\\dtypes\\cast.py\u001b[0m in \u001b[0;36mastype_nansafe\u001b[1;34m(arr, dtype, copy, skipna)\u001b[0m\n\u001b[0;32m   1199\u001b[0m     \u001b[1;32mif\u001b[0m \u001b[0mcopy\u001b[0m \u001b[1;32mor\u001b[0m \u001b[0mis_object_dtype\u001b[0m\u001b[1;33m(\u001b[0m\u001b[0marr\u001b[0m\u001b[1;33m.\u001b[0m\u001b[0mdtype\u001b[0m\u001b[1;33m)\u001b[0m \u001b[1;32mor\u001b[0m \u001b[0mis_object_dtype\u001b[0m\u001b[1;33m(\u001b[0m\u001b[0mdtype\u001b[0m\u001b[1;33m)\u001b[0m\u001b[1;33m:\u001b[0m\u001b[1;33m\u001b[0m\u001b[1;33m\u001b[0m\u001b[0m\n\u001b[0;32m   1200\u001b[0m         \u001b[1;31m# Explicit copy, or required since NumPy can't view from / to object.\u001b[0m\u001b[1;33m\u001b[0m\u001b[1;33m\u001b[0m\u001b[1;33m\u001b[0m\u001b[0m\n\u001b[1;32m-> 1201\u001b[1;33m         \u001b[1;32mreturn\u001b[0m \u001b[0marr\u001b[0m\u001b[1;33m.\u001b[0m\u001b[0mastype\u001b[0m\u001b[1;33m(\u001b[0m\u001b[0mdtype\u001b[0m\u001b[1;33m,\u001b[0m \u001b[0mcopy\u001b[0m\u001b[1;33m=\u001b[0m\u001b[1;32mTrue\u001b[0m\u001b[1;33m)\u001b[0m\u001b[1;33m\u001b[0m\u001b[1;33m\u001b[0m\u001b[0m\n\u001b[0m\u001b[0;32m   1202\u001b[0m \u001b[1;33m\u001b[0m\u001b[0m\n\u001b[0;32m   1203\u001b[0m     \u001b[1;32mreturn\u001b[0m \u001b[0marr\u001b[0m\u001b[1;33m.\u001b[0m\u001b[0mastype\u001b[0m\u001b[1;33m(\u001b[0m\u001b[0mdtype\u001b[0m\u001b[1;33m,\u001b[0m \u001b[0mcopy\u001b[0m\u001b[1;33m=\u001b[0m\u001b[0mcopy\u001b[0m\u001b[1;33m)\u001b[0m\u001b[1;33m\u001b[0m\u001b[1;33m\u001b[0m\u001b[0m\n",
      "\u001b[1;31mValueError\u001b[0m: could not convert string to float: 'AMRush'"
     ]
    }
   ],
   "source": [
    "import numpy\n",
    "skl2onnx.to_onnx(clf,x_train[:1].astype(numpy.float32),\n",
    "              target_opset=14)"
   ]
  },
  {
   "cell_type": "markdown",
   "metadata": {},
   "source": []
  },
  {
   "cell_type": "code",
   "execution_count": 4,
   "metadata": {},
   "outputs": [
    {
     "name": "stdout",
     "output_type": "stream",
     "text": [
      "a\n",
      "b\n",
      "c\n",
      "d\n",
      "e\n",
      "f\n",
      "g\n",
      "h\n",
      "i\n",
      "j\n",
      "k\n",
      "l\n",
      "m\n",
      "n\n",
      "o\n",
      "p\n",
      "q\n",
      "r\n",
      "s\n",
      "t\n",
      "u\n",
      "v\n",
      "w\n",
      "x\n",
      "y\n",
      "z\n"
     ]
    }
   ],
   "source": [
    "#lists are iterable, items are nounique\n",
    "for ltr in alphabet:\n",
    "    print(ltr)"
   ]
  },
  {
   "cell_type": "code",
   "execution_count": null,
   "metadata": {},
   "outputs": [],
   "source": []
  },
  {
   "cell_type": "code",
   "execution_count": 5,
   "metadata": {},
   "outputs": [
    {
     "data": {
      "text/plain": [
       "13"
      ]
     },
     "execution_count": 5,
     "metadata": {},
     "output_type": "execute_result"
    }
   ],
   "source": [
    "3 + 10"
   ]
  },
  {
   "cell_type": "code",
   "execution_count": 6,
   "metadata": {},
   "outputs": [
    {
     "data": {
      "text/plain": [
       "'abcdefghijklmnopqrstuvwxyzabcdefghijklmnopqrstuvwxyz'"
      ]
     },
     "execution_count": 6,
     "metadata": {},
     "output_type": "execute_result"
    }
   ],
   "source": [
    "alphabets = alphabet + alphabet\n",
    "alphabets"
   ]
  },
  {
   "cell_type": "code",
   "execution_count": 7,
   "metadata": {},
   "outputs": [
    {
     "data": {
      "text/plain": [
       "['a', 'b', 'c', 'd', 'e', 'f', 'g', 'h', 'i', 'j', 'k', 'l', 'm']"
      ]
     },
     "execution_count": 7,
     "metadata": {},
     "output_type": "execute_result"
    }
   ],
   "source": [
    "#python list comprehension\n",
    "listofstrings  = [ltr for ltr in alphabet]\n",
    "listofstrings[0:13]"
   ]
  },
  {
   "cell_type": "code",
   "execution_count": 8,
   "metadata": {},
   "outputs": [
    {
     "data": {
      "text/plain": [
       "str"
      ]
     },
     "execution_count": 8,
     "metadata": {},
     "output_type": "execute_result"
    }
   ],
   "source": [
    "type(alphabet)"
   ]
  },
  {
   "cell_type": "code",
   "execution_count": 9,
   "metadata": {},
   "outputs": [
    {
     "data": {
      "text/plain": [
       "{'a',\n",
       " 'b',\n",
       " 'c',\n",
       " 'd',\n",
       " 'e',\n",
       " 'f',\n",
       " 'g',\n",
       " 'h',\n",
       " 'i',\n",
       " 'j',\n",
       " 'k',\n",
       " 'l',\n",
       " 'm',\n",
       " 'n',\n",
       " 'o',\n",
       " 'p',\n",
       " 'q',\n",
       " 'r',\n",
       " 's',\n",
       " 't',\n",
       " 'u',\n",
       " 'v',\n",
       " 'w',\n",
       " 'x',\n",
       " 'y',\n",
       " 'z'}"
      ]
     },
     "execution_count": 9,
     "metadata": {},
     "output_type": "execute_result"
    }
   ],
   "source": [
    "#set comprehension\n",
    "#set are unique, non-iteratable\n",
    "set_alphabet  = {ltr for ltr in alphabets}\n",
    "set_alphabet"
   ]
  },
  {
   "cell_type": "code",
   "execution_count": 10,
   "metadata": {},
   "outputs": [
    {
     "data": {
      "text/plain": [
       "{'a', 'd', 'n', 'y'}"
      ]
     },
     "execution_count": 10,
     "metadata": {},
     "output_type": "execute_result"
    }
   ],
   "source": [
    "name = {'a','n','d','y', '7'}\n",
    "name & set_alphabet"
   ]
  },
  {
   "cell_type": "code",
   "execution_count": 11,
   "metadata": {},
   "outputs": [
    {
     "data": {
      "text/plain": [
       "{'a',\n",
       " 'b',\n",
       " 'c',\n",
       " 'd',\n",
       " 'e',\n",
       " 'f',\n",
       " 'g',\n",
       " 'h',\n",
       " 'i',\n",
       " 'j',\n",
       " 'k',\n",
       " 'l',\n",
       " 'm',\n",
       " 'n',\n",
       " 'o',\n",
       " 'p',\n",
       " 'q',\n",
       " 'r',\n",
       " 's',\n",
       " 't',\n",
       " 'u',\n",
       " 'v',\n",
       " 'w',\n",
       " 'x',\n",
       " 'y',\n",
       " 'z'}"
      ]
     },
     "execution_count": 11,
     "metadata": {},
     "output_type": "execute_result"
    }
   ],
   "source": [
    "set_of_strings = set(listofstrings)\n",
    "# set_of_strings = {l for l in listofstrings}\n",
    "set_of_strings"
   ]
  },
  {
   "cell_type": "code",
   "execution_count": 2,
   "metadata": {},
   "outputs": [
    {
     "name": "stdout",
     "output_type": "stream",
     "text": [
      "['smoky', 'snowy', 'showy']\n"
     ]
    }
   ],
   "source": [
    "import orangewhip as ow"
   ]
  },
  {
   "cell_type": "code",
   "execution_count": 1,
   "metadata": {},
   "outputs": [
    {
     "ename": "NameError",
     "evalue": "name 'ow' is not defined",
     "output_type": "error",
     "traceback": [
      "\u001b[1;31m---------------------------------------------------------------------------\u001b[0m",
      "\u001b[1;31mNameError\u001b[0m                                 Traceback (most recent call last)",
      "\u001b[1;32m~\\AppData\\Local\\Temp/ipykernel_35708/1311206312.py\u001b[0m in \u001b[0;36m<module>\u001b[1;34m\u001b[0m\n\u001b[1;32m----> 1\u001b[1;33m \u001b[0mow\u001b[0m\u001b[1;33m.\u001b[0m\u001b[0morange_whip\u001b[0m\u001b[1;33m(\u001b[0m\u001b[1;34m\"s*o*y\"\u001b[0m\u001b[1;33m,\u001b[0m \u001b[1;34m\"triedap\"\u001b[0m\u001b[1;33m)\u001b[0m\u001b[1;33m\u001b[0m\u001b[1;33m\u001b[0m\u001b[0m\n\u001b[0m",
      "\u001b[1;31mNameError\u001b[0m: name 'ow' is not defined"
     ]
    }
   ],
   "source": [
    "ow.orange_whip(\"s*o*y\", \"triedap\")\n"
   ]
  },
  {
   "cell_type": "code",
   "execution_count": 1,
   "metadata": {},
   "outputs": [
    {
     "data": {
      "text/plain": [
       "{'delve'}"
      ]
     },
     "execution_count": 1,
     "metadata": {},
     "output_type": "execute_result"
    }
   ],
   "source": [
    "#DE**T - what words?\n",
    "#!pip install english_words\n",
    "alphabet = \"bcdefghjklmnpqtuvwxyz\"\n",
    "wordslop ={\"d\"+ltr1+ltr2+\"ve\" for ltr1 in alphabet for ltr2 in alphabet}\n",
    "from english_words import english_words_lower_alpha_set\n",
    "wordslop & english_words_lower_alpha_set"
   ]
  },
  {
   "cell_type": "code",
   "execution_count": 15,
   "metadata": {},
   "outputs": [
    {
     "data": {
      "text/plain": [
       "[[0, 1, 2, 3, 4], [0, 1, 2, 3, 4], [0, 1, 2, 3, 4]]"
      ]
     },
     "execution_count": 15,
     "metadata": {},
     "output_type": "execute_result"
    }
   ],
   "source": [
    "boards = []\n",
    "for i in range(3):\n",
    "    board = []\n",
    "    boards.append(board)\n",
    "    for j in range(5):\n",
    "        board.append(j)\n",
    "boards        "
   ]
  },
  {
   "cell_type": "code",
   "execution_count": 8,
   "metadata": {},
   "outputs": [
    {
     "data": {
      "text/plain": [
       "64880"
      ]
     },
     "execution_count": 8,
     "metadata": {},
     "output_type": "execute_result"
    }
   ],
   "source": [
    "import pandas as pd\n",
    "df = pd.read_pickle(\"C:\\\\Users\\\\andre\\\\OneDrive\\\\Documents\\\\personal\\\\taxes\\\\Cubby\\\\Azure-Sentinel-Notebooks-master\\\\Azure-Sentinel-Notebooks-master\\\\data\\\\combined_df.pkl\")\n",
    "len(df)"
   ]
  },
  {
   "cell_type": "code",
   "execution_count": 10,
   "metadata": {},
   "outputs": [],
   "source": [
    "df.to_csv('C:\\\\users\\\\Andre\\\\Documents\\\\azure_sentinel.csv')"
   ]
  },
  {
   "cell_type": "code",
   "execution_count": 4,
   "metadata": {},
   "outputs": [
    {
     "name": "stdout",
     "output_type": "stream",
     "text": [
      "Object `pd.read_pickle` not found.\n"
     ]
    }
   ],
   "source": [
    "pd.read_pickle?"
   ]
  },
  {
   "cell_type": "code",
   "execution_count": 17,
   "metadata": {},
   "outputs": [
    {
     "name": "stdout",
     "output_type": "stream",
     "text": [
      "fo\u0007o\n"
     ]
    }
   ],
   "source": [
    "print(\"fo\\o\")"
   ]
  },
  {
   "cell_type": "code",
   "execution_count": null,
   "metadata": {},
   "outputs": [],
   "source": []
  }
 ],
 "metadata": {
  "interpreter": {
   "hash": "c4f92193806e2908606a5f23edd55a5282f2f433b73b1c504507f9256ed9f0b4"
  },
  "kernelspec": {
   "display_name": "Python 3.8.5 ('base')",
   "language": "python",
   "name": "python3"
  },
  "language_info": {
   "codemirror_mode": {
    "name": "ipython",
    "version": 3
   },
   "file_extension": ".py",
   "mimetype": "text/x-python",
   "name": "python",
   "nbconvert_exporter": "python",
   "pygments_lexer": "ipython3",
   "version": "3.8.5"
  },
  "orig_nbformat": 4
 },
 "nbformat": 4,
 "nbformat_minor": 2
}
