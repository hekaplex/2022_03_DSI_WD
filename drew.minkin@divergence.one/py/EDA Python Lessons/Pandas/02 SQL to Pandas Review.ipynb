{
 "cells": [
  {
   "cell_type": "markdown",
   "metadata": {},
   "source": [
    "Python Analysis and Feature Engineering\n",
    "=======\n",
    "\n",
    "\n",
    "This lab will introduce to practical code for two concepts\n",
    "\n",
    "1. SQL style querying in Pandas \n",
    "1. SQL style data shaping in Pandas\n",
    "\n",
    "\n",
    "\n"
   ]
  },
  {
   "cell_type": "markdown",
   "metadata": {},
   "source": [
    "**Notebook Setup**"
   ]
  },
  {
   "cell_type": "code",
   "execution_count": null,
   "metadata": {},
   "outputs": [],
   "source": [
    "#to allow plots to render\n",
    "from IPython.core.interactiveshell import InteractiveShell\n",
    "InteractiveShell.ast_node_interactivity = \"all\"\n",
    "import numpy as np\n",
    "import pandas as pd\n",
    "from scipy import stats\n",
    "import seaborn as sns"
   ]
  },
  {
   "cell_type": "code",
   "execution_count": null,
   "metadata": {
    "scrolled": true
   },
   "outputs": [],
   "source": [
    "df = pd.read_csv('labtrain1.csv')\n",
    "df.info()"
   ]
  },
  {
   "cell_type": "code",
   "execution_count": null,
   "metadata": {},
   "outputs": [],
   "source": [
    "df.describe()"
   ]
  },
  {
   "cell_type": "code",
   "execution_count": null,
   "metadata": {},
   "outputs": [],
   "source": [
    "sns.pairplot(df[\n",
    "    [\"Calendar_Year\",\"Model_Year\",\"NVVar1\",\"NVVar2\",\"NVVar3\",\"NVVar4\",\"HasLoss\"]\n",
    "])"
   ]
  },
  {
   "cell_type": "markdown",
   "metadata": {},
   "source": [
    "**Data Setup**"
   ]
  },
  {
   "cell_type": "code",
   "execution_count": null,
   "metadata": {},
   "outputs": [],
   "source": [
    "df.info()\n"
   ]
  },
  {
   "cell_type": "markdown",
   "metadata": {},
   "source": [
    "SQL style querying in Pandas\n",
    "----\n",
    "1. SELECT or Vertical filters\n",
    "1. WHERE or Horizontal filters\n",
    "1. ORDER BY or Sort\n",
    "1. TOP NN/ LIMIT NN\n",
    "1. GROUP BY and aggregate samples\n",
    "1. HAVING or filtered aggregation"
   ]
  },
  {
   "cell_type": "markdown",
   "metadata": {},
   "source": [
    "**SELECT**"
   ]
  },
  {
   "cell_type": "code",
   "execution_count": null,
   "metadata": {},
   "outputs": [],
   "source": [
    "#SELECT Calendar_Year,NVVar1 from df\n",
    "#by label\n",
    "select_df1 = df[[\"Calendar_Year\",\"NVVar1\"]]\n",
    "select_df1"
   ]
  },
  {
   "cell_type": "code",
   "execution_count": null,
   "metadata": {},
   "outputs": [],
   "source": [
    "collist = \",\".join(list(select_df1.columns)).replace(\",\",\"\\',\\'\")"
   ]
  },
  {
   "cell_type": "code",
   "execution_count": null,
   "metadata": {},
   "outputs": [],
   "source": [
    "collist"
   ]
  },
  {
   "cell_type": "code",
   "execution_count": null,
   "metadata": {},
   "outputs": [],
   "source": [
    "#SELECT Calendar_Year,NVVar1 from df WHERE Calendar_Year = 2006\n",
    "# by position\n",
    "select_df2 = df[df.Calendar_Year == 2006].iloc[:,[0,1,2,3]]\n",
    "select_df2"
   ]
  },
  {
   "cell_type": "code",
   "execution_count": null,
   "metadata": {},
   "outputs": [],
   "source": [
    "#SELECT COUNT(*) FROM select_df2\n",
    "len(select_df2)"
   ]
  },
  {
   "cell_type": "code",
   "execution_count": null,
   "metadata": {},
   "outputs": [],
   "source": [
    "for dt in select_df2.dtypes: print(dt)"
   ]
  },
  {
   "cell_type": "code",
   "execution_count": null,
   "metadata": {},
   "outputs": [],
   "source": [
    "#select only numerics\n",
    "#numerics = ['int16', 'int32', 'int64', 'float16', 'float32', 'float64']\n",
    "numerics = [ 'int64']\n",
    "#df_numeric = df.select_dtypes(include=numerics) \n",
    "df.describe(include=numerics).T"
   ]
  },
  {
   "cell_type": "markdown",
   "metadata": {},
   "source": [
    "**ORDER BY**"
   ]
  },
  {
   "cell_type": "code",
   "execution_count": null,
   "metadata": {},
   "outputs": [],
   "source": [
    "#SELECT \n",
    "#     Calendar_Year,NVVar1 \n",
    "#FROM\n",
    "#     df \n",
    "#ORDER BY Calendar_Year ASC\n",
    "select_df1.sort_values('Calendar_Year')"
   ]
  },
  {
   "cell_type": "code",
   "execution_count": null,
   "metadata": {},
   "outputs": [],
   "source": [
    "#SELECT \n",
    "#     Calendar_Year,NVVar1 \n",
    "\n",
    "#FROM\n",
    "#     df \n",
    "#ORDER BY Calendar_Year DESC\n",
    "select_df1.sort_values('Calendar_Year',ascending=False)"
   ]
  },
  {
   "cell_type": "markdown",
   "metadata": {},
   "source": [
    "**TOP / LIMIT**"
   ]
  },
  {
   "cell_type": "code",
   "execution_count": null,
   "metadata": {},
   "outputs": [],
   "source": [
    "#SELECT TOP 50 \n",
    "#Calendar_Year,NVVar1 \n",
    "#FROM\n",
    "#     df \n",
    "#ORDER BY Calendar_Year DESC\n",
    "#       or\n",
    "#SELECT \n",
    "#Calendar_Year,NVVar1 \n",
    "#FROM\n",
    "#     df \n",
    "#ORDER BY Calendar_Year DESC\n",
    "#LIMIT 50\n",
    "select_df1.sort_values('Calendar_Year',ascending=False)[0:49]"
   ]
  },
  {
   "cell_type": "code",
   "execution_count": null,
   "metadata": {},
   "outputs": [],
   "source": [
    "#SELECT \n",
    "#TOP 50 PERCENT\n",
    "#Calendar_Year,NVVar1 \n",
    "#FROM\n",
    "#     df \n",
    "#ORDER BY Calendar_Year DESC\n",
    "print(\"before:\",len(select_df1))\n",
    "#select_df1_after = select_df1.sort_values('Calendar_Year',ascending=False).head(int(df.shape[0]*.5))\n",
    "select_df1_after = \\\n",
    "    select_df1.sort_values('Calendar_Year',ascending=False) \\\n",
    "    .head(int(len(select_df1)*.5))\n",
    "print(\"after:\",len(select_df1_after))"
   ]
  },
  {
   "cell_type": "code",
   "execution_count": null,
   "metadata": {},
   "outputs": [],
   "source": [
    "# WITH\n",
    "#     foo as\n",
    "#     (\n",
    "#         SELECT \n",
    "#              *\n",
    "#         from \n",
    "#             df\n",
    "#         ORDER By Calendar_Year\n",
    "#         LIMIT 50\n",
    "#     )\n",
    "#     SELECT \n",
    "#         Top 50% *\n",
    "#     FROM\n",
    "#         foo\n",
    "print(\"before:\",len(select_df1))\n",
    "#select_df3 =select_df1[0:49].sort_values('Calendar_Year',ascending=False)\n",
    "select_df2_after = \\\n",
    "    select_df1[0:49].sort_values(\n",
    "        'Calendar_Year',ascending=False).head( \\\n",
    "            int(select_df1[0:49].sort_values(\n",
    "                'Calendar_Year',ascending=False).shape[0]*.5))\n",
    "print(\"after:\",len(select_df2_after))"
   ]
  },
  {
   "cell_type": "markdown",
   "metadata": {},
   "source": [
    "**GROUP BY**"
   ]
  },
  {
   "cell_type": "code",
   "execution_count": null,
   "metadata": {
    "scrolled": true
   },
   "outputs": [],
   "source": [
    "# SELECT\n",
    "#     Calendar_Year\n",
    "#     ,COUNT(NVVar1) AS 'Calendar_Year_Count'\n",
    "#     ,COUNT(DISTINCT NVVar1) AS 'Calendar_Year_Count_Distinct'\n",
    "#     ,AVG(NVVar1) AS 'Calendar_Year_Count'\n",
    "#     ,STDEVP(NVVar1) AS 'Calendar_Year_Count'\n",
    "#     ,MIN(NVVar1) AS 'Calendar_Year_Count'\n",
    "#     ,MAX(NVVar1) AS 'Calendar_Year_Count'\n",
    "# FROM\n",
    "#     df\n",
    "# GROUP BY Calendar_Year\n",
    "df_agg1 = pd.DataFrame(\n",
    "    {\n",
    "        'Calendar_Year_Count':\n",
    "            df.groupby('Calendar_Year')\n",
    "                .count()['NVVar1']\n",
    "        , \n",
    "        'Calendar_Year_NVVar1_Count_Distinct':\n",
    "            df.groupby('Calendar_Year')\n",
    "                ['NVVar1'].nunique()\n",
    "        ,\n",
    "        'Calendar_Year_NVVar1_Avg':\n",
    "            df.groupby('Calendar_Year')\n",
    "                .mean()['NVVar1']\n",
    "        , \n",
    "        'Calendar_Year_NVVar1_Std':\n",
    "            df.groupby('Calendar_Year')\n",
    "                .std()['NVVar1']\n",
    "        , \n",
    "        'Calendar_Year_NVVar1_Min':\n",
    "            df.groupby('Calendar_Year')\n",
    "                .min()['NVVar1']        \n",
    "        , \n",
    "        'Calendar_Year_NVVar1_Max':\n",
    "            df.groupby('Calendar_Year')\n",
    "                .max()['NVVar1']                \n",
    "    }\n",
    ")\n",
    "df_agg1"
   ]
  },
  {
   "cell_type": "code",
   "execution_count": null,
   "metadata": {},
   "outputs": [],
   "source": [
    "#HasLoss by ModelYear\n",
    "df_agg2 = pd.DataFrame(\n",
    "    {\n",
    "        '2005-2006 Loss Count':\n",
    "            df.loc[(df.Calendar_Year <= 2006)  ].groupby('Model_Year')\n",
    "                .sum()['HasLoss']\n",
    ",\n",
    "        '2007-2008 Loss Count':\n",
    "            df.loc[(df.Calendar_Year > 2006)  ].groupby('Model_Year')\n",
    "                .sum()['HasLoss']\n",
    "    }\n",
    ")\n",
    "df_agg2"
   ]
  },
  {
   "cell_type": "code",
   "execution_count": null,
   "metadata": {},
   "outputs": [],
   "source": [
    "dfg =df.groupby('Calendar_Year')\n",
    "type(dfg)"
   ]
  },
  {
   "cell_type": "code",
   "execution_count": null,
   "metadata": {},
   "outputs": [],
   "source": [
    "dfg.sum()['HasLoss']"
   ]
  },
  {
   "cell_type": "code",
   "execution_count": null,
   "metadata": {},
   "outputs": [],
   "source": [
    " df.groupby('Calendar_Year').count()"
   ]
  },
  {
   "cell_type": "markdown",
   "metadata": {},
   "source": [
    "SQL style data shaping in Pandas\n",
    "----\n",
    "1. AS or derived column review\n",
    "1. JOIN or key based\n",
    "1. UNION or schema based\n",
    "1. Pandas operations that don't ft in SQL Box"
   ]
  },
  {
   "cell_type": "markdown",
   "metadata": {},
   "source": [
    "**AS or derived column review**"
   ]
  },
  {
   "cell_type": "code",
   "execution_count": null,
   "metadata": {},
   "outputs": [],
   "source": [
    "# WITH \n",
    "#     NVVar1_Std as\n",
    "#         (\n",
    "#             SELECT\n",
    "#                 STDEVP(NVVar1) AS NVVar1_Std\n",
    "#             FROM \n",
    "#                 df\n",
    "#         )\n",
    "#     NVVar1_Avg as\n",
    "#         (\n",
    "#             SELECT\n",
    "#                 AVG(NVVar1) AS NVVar1_Avg\n",
    "#             FROM \n",
    "#                 df\n",
    "#         )\n",
    "# SELECT\n",
    "#     Calendar_Year\n",
    "#     ,NVVar1\n",
    "#     ,\n",
    "#         (\n",
    "#             NVVar1\n",
    "#             -\n",
    "#             NVVar1_Avg.NVVar1_Avg\n",
    "#         )\n",
    "#         /\n",
    "#         NVVar1_Std.NVVar1_Std\n",
    "#     AS NVVar1_Z_Score\n",
    "# FROM\n",
    "#     df\n",
    "#     ,NVVar1_Std\n",
    "#     ,NVVar1_Avg\n",
    "df['NVVar1_ZScore'] \\\n",
    "    = (\n",
    "            df['NVVar1']  \\\n",
    "            -  \\\n",
    "            df['NVVar1'].mean() \\\n",
    "        )  \\\n",
    "            /  \\\n",
    "        df['NVVar1'].std(ddof=0)\n",
    "#alternately \n",
    "#df['NVVar1_ZScore2']= stats.zscore(df['NVVar1'], axis=1, ddof=10.to_frame()\n",
    "df[[\"Calendar_Year\",\"NVVar1\",\"NVVar1_ZScore\"]].describe()"
   ]
  },
  {
   "cell_type": "code",
   "execution_count": null,
   "metadata": {},
   "outputs": [],
   "source": [
    "from scipy import stats\n",
    "\n",
    "df[\"newz\"] = stats.zscore(df[\"NVVar1\"])\n",
    "df.describe().T"
   ]
  },
  {
   "cell_type": "code",
   "execution_count": null,
   "metadata": {},
   "outputs": [],
   "source": [
    "dfg = (df['NVVar1'] - df['NVVar1'].mean() )/df['NVVar1'].std(ddof=0)"
   ]
  },
  {
   "cell_type": "markdown",
   "metadata": {},
   "source": [
    "**JOIN or key based**"
   ]
  },
  {
   "cell_type": "code",
   "execution_count": null,
   "metadata": {},
   "outputs": [],
   "source": [
    "#WITH tbl_cal AS \n",
    "# (\n",
    "#SELECT\n",
    "# <col> as '<col>',\n",
    "# sum(1) as 'count',\n",
    "# mean(<col>) as 'mean',\n",
    "# stdev(<col>) as 'std',\n",
    "# min(<col>) as 'min',\n",
    "# PERCENTILE_DISC(0.25) OVER (PARTITION BY 1 ORDER BY <col>) as '25',\n",
    "# PERCENTILE_DISC(0.50) OVER (PARTITION BY 1 ORDER BY <col>) as '50',\n",
    "# PERCENTILE_DISC(0.75) OVER (PARTITION BY 1 ORDER BY <col>) as '75',\n",
    "# max(<col>) as 'max'\n",
    "# ...\n",
    "# SELECT tbl1...\n",
    "# PIVOT...\n",
    "\n",
    "newdf = pd.read_csv('labtrain2.csv')\n",
    "newdf.describe()"
   ]
  },
  {
   "cell_type": "code",
   "execution_count": null,
   "metadata": {},
   "outputs": [],
   "source": [
    "#SELECT a.*,b.* from df a inner JOIN newdf b on a.Calendar_Year = b.NVVar1 \n",
    "#SELECT a.*,b.* from df a left JOIN newdf b on a.Calendar_Year = b.NVVar1 \n",
    "#SELECT a.*,b.* from df a right JOIN newdf b on a.Calendar_Year = b.NVVar1 \n",
    "#SELECT a.*,b.* from df a outer JOIN newdf b on a.Calendar_Year = b.NVVar1 \n",
    "innerjoin=df.join(newdf, how=\"inner\", lsuffix ='Calendar_Year', rsuffix ='NVVar1')\n",
    "leftjoin=df.join(newdf, how=\"left\", lsuffix ='Calendar_Year', rsuffix ='NVVar1')\n",
    "righjoin=df.join(newdf, how=\"right\", lsuffix ='Calendar_Year', rsuffix ='NVVar1')\n",
    "outerjoin=df.join(newdf, how=\"outer\", lsuffix ='Calendar_Year', rsuffix ='NVVar1')\n",
    "print(\"rows df: \",len(df))\n",
    "print(\"rows newdf: \",len(newdf))\n",
    "print(\"rows innerjoin: \",len(innerjoin))\n",
    "print(\"rows leftjoin: \",len(leftjoin))\n",
    "print(\"rows rightjoin: \",len(righjoin))\n",
    "print(\"rows outerjoin: \",len(outerjoin))"
   ]
  },
  {
   "cell_type": "code",
   "execution_count": null,
   "metadata": {},
   "outputs": [],
   "source": [
    "df.join?"
   ]
  },
  {
   "cell_type": "markdown",
   "metadata": {},
   "source": [
    "**UNION or schema based**"
   ]
  },
  {
   "cell_type": "code",
   "execution_count": null,
   "metadata": {},
   "outputs": [],
   "source": [
    "#SELECT *,NULL AS Unnamed: 0,\tNULL AS NVVar2_ZScore, NULL AS\tNVVar3_ZScore\tNVVar4_ZScore from df\n",
    "#UNION ALL\n",
    "#SELECT * from newdf\n",
    "df_union= pd.concat([df,newdf],ignore_index=True,sort=False)\n",
    "print(\"rows df_union: \",len(df_union))\n",
    "df_union"
   ]
  },
  {
   "cell_type": "code",
   "execution_count": null,
   "metadata": {},
   "outputs": [],
   "source": [
    "df_union.info()"
   ]
  },
  {
   "cell_type": "markdown",
   "metadata": {},
   "source": [
    "**Pandas operations that don't fit in SQL Box**"
   ]
  },
  {
   "cell_type": "code",
   "execution_count": null,
   "metadata": {},
   "outputs": [],
   "source": [
    "#Where SQL ends and Python begins :)\n",
    "df.info()\n",
    "df.groupby(\n",
    "    ['Calendar_Year']\n",
    ").agg(\n",
    "    [\n",
    "        'min'\n",
    "        ,'max'\n",
    "        ,'count'\n",
    "        ,'nunique'\n",
    "    ]\n",
    ")\n"
   ]
  },
  {
   "cell_type": "code",
   "execution_count": null,
   "metadata": {},
   "outputs": [],
   "source": [
    "#hot encoding or case statements forever\n",
    "df['Calendar_Year_Enum'] = df['Calendar_Year'].astype(str)\n",
    "pd.get_dummies(df)"
   ]
  },
  {
   "cell_type": "code",
   "execution_count": null,
   "metadata": {},
   "outputs": [],
   "source": [
    "df.loc[(df.Calendar_Year <= 2006)  ]"
   ]
  },
  {
   "cell_type": "code",
   "execution_count": null,
   "metadata": {},
   "outputs": [],
   "source": []
  }
 ],
 "metadata": {
  "kernelspec": {
   "display_name": "Python 3",
   "language": "python",
   "name": "python3"
  },
  "language_info": {
   "codemirror_mode": {
    "name": "ipython",
    "version": 3
   },
   "file_extension": ".py",
   "mimetype": "text/x-python",
   "name": "python",
   "nbconvert_exporter": "python",
   "pygments_lexer": "ipython3",
   "version": "3.8.5"
  }
 },
 "nbformat": 4,
 "nbformat_minor": 2
}
