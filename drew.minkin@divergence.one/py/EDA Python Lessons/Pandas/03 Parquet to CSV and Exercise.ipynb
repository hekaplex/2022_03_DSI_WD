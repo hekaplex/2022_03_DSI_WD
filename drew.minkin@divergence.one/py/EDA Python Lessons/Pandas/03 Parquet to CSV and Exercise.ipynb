{
 "cells": [
  {
   "cell_type": "markdown",
   "metadata": {},
   "source": [
    "## Parquet <-> CSV and Exercise\n",
    "\n",
    "### Exercise\n",
    "1. Generate or copy to this diectory any of the following files:\n",
    "    1. Extract of any SQL database \n",
    "    1. Imported file from your capstone work\n",
    "    1. Any other data from other exercises you have aleady used\n",
    "1. Import into Pandas\n",
    "1. Create at least three new Pandas dataframe outputs ether reproducing prios analytics or new analytics"
   ]
  },
  {
   "cell_type": "code",
   "execution_count": null,
   "metadata": {},
   "outputs": [],
   "source": [
    "!head  data.dataset.parquet"
   ]
  },
  {
   "cell_type": "code",
   "execution_count": null,
   "metadata": {},
   "outputs": [],
   "source": [
    "#be sure to have this notebook in the same folder as your parquet file\n",
    "\n",
    "#this line of code loads the library into the notebook\n",
    "import pandas as pd\n",
    "\n",
    "#this line of code reads the parquet into memory to a Pandas DataFrame \n",
    "df = pd.read_parquet('data.dataset.parquet')\n",
    "df"
   ]
  },
  {
   "cell_type": "code",
   "execution_count": null,
   "metadata": {},
   "outputs": [],
   "source": [
    "\n",
    "#this line code exports the data into a format for Power BI\n",
    "df.to_csv('azureml_export.csv')"
   ]
  }
 ],
 "metadata": {
  "kernelspec": {
   "display_name": "Python 3",
   "language": "python",
   "name": "python3"
  },
  "language_info": {
   "codemirror_mode": {
    "name": "ipython",
    "version": 3
   },
   "file_extension": ".py",
   "mimetype": "text/x-python",
   "name": "python",
   "nbconvert_exporter": "python",
   "pygments_lexer": "ipython3",
   "version": "3.8.5"
  }
 },
 "nbformat": 4,
 "nbformat_minor": 4
}
