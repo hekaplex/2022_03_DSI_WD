{
 "cells": [
  {
   "cell_type": "markdown",
   "metadata": {},
   "source": [
    "# Assignment\n",
    "* create a variable for a string\n",
    "* use an input\n",
    "* repeat string a number of times from the input\n",
    "\n",
    "OR\n",
    "\n",
    "* code using any Python and scripting we've learn"
   ]
  },
  {
   "cell_type": "code",
   "execution_count": 2,
   "metadata": {},
   "outputs": [
    {
     "name": "stdout",
     "output_type": "stream",
     "text": [
      "Hello!\n"
     ]
    }
   ],
   "source": [
    "'''\n",
    "Strings can be coded multiple ways. \n",
    "Below I use single quotes ('')\n",
    "'''\n",
    "print('Hello!')"
   ]
  },
  {
   "cell_type": "code",
   "execution_count": 3,
   "metadata": {},
   "outputs": [
    {
     "name": "stdout",
     "output_type": "stream",
     "text": [
      "Hello!\n"
     ]
    }
   ],
   "source": [
    "#Note that double quotes(\" \") returns the same output\n",
    "\n",
    "print(\"Hello!\")"
   ]
  },
  {
   "cell_type": "code",
   "execution_count": 4,
   "metadata": {},
   "outputs": [
    {
     "name": "stdout",
     "output_type": "stream",
     "text": [
      "\"Hello!\"\n"
     ]
    }
   ],
   "source": [
    "#Triple quotes also returns the same output! ('\" \"')\n",
    "\n",
    "print('\"Hello!\"')"
   ]
  },
  {
   "cell_type": "code",
   "execution_count": 5,
   "metadata": {},
   "outputs": [
    {
     "name": "stdout",
     "output_type": "stream",
     "text": [
      "Brandon\n"
     ]
    }
   ],
   "source": [
    "#Naming a variable, and assigning it to a string. In this case, the variable is called name, and the string is Brandon.\n",
    "name = 'Brandon'\n",
    "print(name)"
   ]
  },
  {
   "cell_type": "code",
   "execution_count": 6,
   "metadata": {},
   "outputs": [
    {
     "name": "stdout",
     "output_type": "stream",
     "text": [
      "BigBaller\n"
     ]
    }
   ],
   "source": [
    "val = input('Enter your Name')\n",
    "print(val)"
   ]
  },
  {
   "cell_type": "code",
   "execution_count": 9,
   "metadata": {},
   "outputs": [
    {
     "name": "stdout",
     "output_type": "stream",
     "text": [
      "Hello Brandon!\n",
      "Hello Brandon!\n",
      "Hello Brandon!\n",
      "Hello Brandon!\n",
      "Hello Brandon!\n",
      "\n"
     ]
    }
   ],
   "source": [
    "var = input('Enter your name')\n",
    "repeat =int(input('Number of times to repeat'))\n",
    "output = \"Hello \"+var+'!\\n'\n",
    "print(output * repeat)"
   ]
  }
 ],
 "metadata": {
  "interpreter": {
   "hash": "aecd030d4c8316a52bf122072e28f84bcc79844c2684e041fef2e3f1d9f59078"
  },
  "kernelspec": {
   "display_name": "Python 3.10.3 64-bit",
   "language": "python",
   "name": "python3"
  },
  "language_info": {
   "codemirror_mode": {
    "name": "ipython",
    "version": 3
   },
   "file_extension": ".py",
   "mimetype": "text/x-python",
   "name": "python",
   "nbconvert_exporter": "python",
   "pygments_lexer": "ipython3",
   "version": "3.10.3"
  },
  "orig_nbformat": 4
 },
 "nbformat": 4,
 "nbformat_minor": 2
}
