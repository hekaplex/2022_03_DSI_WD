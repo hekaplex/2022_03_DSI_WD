{
 "cells": [
  {
   "cell_type": "code",
   "execution_count": 6,
   "metadata": {},
   "outputs": [
    {
     "name": "stdout",
     "output_type": "stream",
     "text": [
      "['Pepper', 'Salt', 'Cumin', 'Cinnamon', 'Thyme', 'Oregano', 'Rosemary', 'Garlic Powder', 'Paprika']\n"
     ]
    }
   ],
   "source": [
    "# Creating a list\n",
    "spices = [\"Pepper\", \"Salt\", \"Cumin\", \"Cinnamon\", \"Thyme\", \"Oregano\", \"Rosemary\", \"Garlic Powder\", \"Paprika\"]\n",
    "print (spices)"
   ]
  },
  {
   "cell_type": "code",
   "execution_count": 7,
   "metadata": {},
   "outputs": [
    {
     "name": "stdout",
     "output_type": "stream",
     "text": [
      "8\n"
     ]
    }
   ],
   "source": [
    "# Determining the index of a list\n",
    "print(spices.index(\"Paprika\"))"
   ]
  },
  {
   "cell_type": "code",
   "execution_count": 8,
   "metadata": {},
   "outputs": [
    {
     "data": {
      "text/plain": [
       "list"
      ]
     },
     "execution_count": 8,
     "metadata": {},
     "output_type": "execute_result"
    }
   ],
   "source": [
    "type(spices)"
   ]
  },
  {
   "cell_type": "code",
   "execution_count": 9,
   "metadata": {},
   "outputs": [],
   "source": [
    "spices.append(\"Nutmeg\")"
   ]
  },
  {
   "cell_type": "code",
   "execution_count": 10,
   "metadata": {},
   "outputs": [
    {
     "data": {
      "text/plain": [
       "['Pepper',\n",
       " 'Salt',\n",
       " 'Cumin',\n",
       " 'Cinnamon',\n",
       " 'Thyme',\n",
       " 'Oregano',\n",
       " 'Rosemary',\n",
       " 'Garlic Powder',\n",
       " 'Paprika',\n",
       " 'Nutmeg']"
      ]
     },
     "execution_count": 10,
     "metadata": {},
     "output_type": "execute_result"
    }
   ],
   "source": [
    "spices"
   ]
  },
  {
   "cell_type": "code",
   "execution_count": 11,
   "metadata": {},
   "outputs": [],
   "source": [
    "spicetuple = (\"Pepper\", \"Salt\", \"Cumin\", \"Cinnamon\", \"Thyme\", \"Oregano\", \"Rosemary\", \"Garlic Powder\", \"Paprika\")"
   ]
  },
  {
   "cell_type": "code",
   "execution_count": 13,
   "metadata": {},
   "outputs": [
    {
     "data": {
      "text/plain": [
       "tuple"
      ]
     },
     "execution_count": 13,
     "metadata": {},
     "output_type": "execute_result"
    }
   ],
   "source": [
    "type(spicetuple)"
   ]
  },
  {
   "cell_type": "code",
   "execution_count": 14,
   "metadata": {},
   "outputs": [
    {
     "name": "stdout",
     "output_type": "stream",
     "text": [
      "('Pepper', 'Salt', 'Cumin', 'Cinnamon', 'Thyme', 'Oregano', 'Rosemary', 'Garlic Powder', 'Paprika')\n"
     ]
    }
   ],
   "source": [
    "print(spicetuple)"
   ]
  },
  {
   "cell_type": "code",
   "execution_count": 15,
   "metadata": {},
   "outputs": [
    {
     "data": {
      "text/plain": [
       "('Pepper',\n",
       " 'Salt',\n",
       " 'Cumin',\n",
       " 'Cinnamon',\n",
       " 'Thyme',\n",
       " 'Oregano',\n",
       " 'Rosemary',\n",
       " 'Garlic Powder',\n",
       " 'Paprika')"
      ]
     },
     "execution_count": 15,
     "metadata": {},
     "output_type": "execute_result"
    }
   ],
   "source": [
    "spicetuple"
   ]
  },
  {
   "cell_type": "code",
   "execution_count": null,
   "metadata": {},
   "outputs": [],
   "source": []
  },
  {
   "cell_type": "code",
   "execution_count": 7,
   "metadata": {},
   "outputs": [],
   "source": [
    "piedict = {\n",
    "    \"filling\": [\"Custard\", \"Apple\", \"Cherry\", \"Meat\"],\n",
    "    \"crust\": [\"Flaky\", \"Traditional\"],\n",
    "    \"topping\": [\"Whipped Cream\", \"None\"],\n",
    "    \"cold\": False\n",
    "}"
   ]
  },
  {
   "cell_type": "code",
   "execution_count": 6,
   "metadata": {},
   "outputs": [
    {
     "data": {
      "text/plain": [
       "list"
      ]
     },
     "execution_count": 6,
     "metadata": {},
     "output_type": "execute_result"
    }
   ],
   "source": [
    "type(piedict[\"filling\"])"
   ]
  },
  {
   "cell_type": "code",
   "execution_count": 5,
   "metadata": {},
   "outputs": [
    {
     "data": {
      "text/plain": [
       "['Custard', 'Apple', 'Cherry', 'Meat']"
      ]
     },
     "execution_count": 5,
     "metadata": {},
     "output_type": "execute_result"
    }
   ],
   "source": [
    "piedict[\"filling\"]"
   ]
  },
  {
   "cell_type": "code",
   "execution_count": 22,
   "metadata": {},
   "outputs": [
    {
     "name": "stdout",
     "output_type": "stream",
     "text": [
      "<class 'dict'>\n"
     ]
    }
   ],
   "source": [
    "print(type(piedict))"
   ]
  },
  {
   "cell_type": "code",
   "execution_count": 27,
   "metadata": {},
   "outputs": [
    {
     "name": "stdout",
     "output_type": "stream",
     "text": [
      "3\n"
     ]
    }
   ],
   "source": [
    "print(len(piedict))"
   ]
  }
 ],
 "metadata": {
  "interpreter": {
   "hash": "3b7e9cb8e453d6cda0fe8c8dd13f891a1f09162f0e7c66ffeae7751a7aecf00d"
  },
  "kernelspec": {
   "display_name": "Python 3.10.4 64-bit (windows store)",
   "language": "python",
   "name": "python3"
  },
  "language_info": {
   "codemirror_mode": {
    "name": "ipython",
    "version": 3
   },
   "file_extension": ".py",
   "mimetype": "text/x-python",
   "name": "python",
   "nbconvert_exporter": "python",
   "pygments_lexer": "ipython3",
   "version": "3.10.4"
  },
  "orig_nbformat": 4
 },
 "nbformat": 4,
 "nbformat_minor": 2
}
