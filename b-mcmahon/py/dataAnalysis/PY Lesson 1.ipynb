{
 "cells": [
  {
   "cell_type": "code",
   "execution_count": 14,
   "metadata": {},
   "outputs": [],
   "source": [
    "import pandas as pd"
   ]
  },
  {
   "cell_type": "code",
   "execution_count": 15,
   "metadata": {},
   "outputs": [],
   "source": [
    "name = 'Brian McMahon'"
   ]
  },
  {
   "cell_type": "code",
   "execution_count": 16,
   "metadata": {},
   "outputs": [
    {
     "data": {
      "text/plain": [
       "str"
      ]
     },
     "execution_count": 16,
     "metadata": {},
     "output_type": "execute_result"
    }
   ],
   "source": [
    "type(name)"
   ]
  },
  {
   "cell_type": "markdown",
   "metadata": {},
   "source": []
  },
  {
   "cell_type": "code",
   "execution_count": 13,
   "metadata": {},
   "outputs": [
    {
     "name": "stdout",
     "output_type": "stream",
     "text": [
      "Hello Brian McMahon!\n"
     ]
    }
   ],
   "source": [
    "Username = input(\"Please enter your name: \")\n",
    "print(\"Hello \" + Username + \"!\")"
   ]
  },
  {
   "cell_type": "code",
   "execution_count": 18,
   "metadata": {},
   "outputs": [
    {
     "name": "stdout",
     "output_type": "stream",
     "text": [
      "Hello Brian McMahon\n",
      "Hello Brian McMahon\n",
      "Hello Brian McMahon\n",
      "Hello Brian McMahon\n",
      "Hello Brian McMahon\n",
      "\n"
     ]
    }
   ],
   "source": [
    "name = input(\"Enter Name: \")\n",
    "repeat = int(input(\"number of repeats\"))\n",
    "coreString = \"Hello \"+name+\"\\n\"\n",
    "print(coreString * repeat)"
   ]
  },
  {
   "cell_type": "code",
   "execution_count": 21,
   "metadata": {},
   "outputs": [
    {
     "name": "stdout",
     "output_type": "stream",
     "text": [
      "Roses are REd\n",
      "Violest are Blue\n",
      "Today is grey\n",
      "And I love Jean claude van damne\n"
     ]
    }
   ],
   "source": [
    "firstI = input(\"Enter Color: \")\n",
    "secondI = input(\"Enter Color: \")\n",
    "thirdI = input(\"Enter Adjective: \")\n",
    "fourthI = input(\"Enter Person: \")\n",
    "\n",
    "print(\"Roses are \" + firstI + \"\\n\" + \"Violest are \" + secondI + \"\\n\" + \"Today is \" + thirdI + \"\\n\" + \"And I love \" + fourthI)"
   ]
  }
 ],
 "metadata": {
  "interpreter": {
   "hash": "ae5651488652e961febbac79b6ac121d2261f82ccebdbef63236855c9fe5b051"
  },
  "kernelspec": {
   "display_name": "Python 3.9.7 ('base')",
   "language": "python",
   "name": "python3"
  },
  "language_info": {
   "codemirror_mode": {
    "name": "ipython",
    "version": 3
   },
   "file_extension": ".py",
   "mimetype": "text/x-python",
   "name": "python",
   "nbconvert_exporter": "python",
   "pygments_lexer": "ipython3",
   "version": "3.9.7"
  },
  "orig_nbformat": 4
 },
 "nbformat": 4,
 "nbformat_minor": 2
}
