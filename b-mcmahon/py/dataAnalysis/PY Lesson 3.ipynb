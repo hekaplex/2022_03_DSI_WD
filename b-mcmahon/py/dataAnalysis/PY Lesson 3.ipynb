{
 "cells": [
  {
   "cell_type": "code",
   "execution_count": 1,
   "metadata": {},
   "outputs": [],
   "source": [
    "metals = ['copper','lead','steel','aluminum','titanium']"
   ]
  },
  {
   "cell_type": "code",
   "execution_count": 2,
   "metadata": {},
   "outputs": [],
   "source": [
    "import numpy as np"
   ]
  },
  {
   "cell_type": "code",
   "execution_count": 3,
   "metadata": {},
   "outputs": [
    {
     "name": "stdout",
     "output_type": "stream",
     "text": [
      "['copper', 'lead', 'steel', 'aluminum', 'titanium']\n",
      "['copper', 'lead', 'steel', 'aluminum']\n"
     ]
    }
   ],
   "source": [
    "print (metals)\n",
    "metals.pop()\n",
    "print (metals)"
   ]
  },
  {
   "cell_type": "code",
   "execution_count": 4,
   "metadata": {},
   "outputs": [
    {
     "name": "stdout",
     "output_type": "stream",
     "text": [
      "['copper', 'lead', 'steel', 'aluminum']\n",
      "['copper', 'steel', 'aluminum']\n"
     ]
    }
   ],
   "source": [
    "print (metals)\n",
    "metals.remove('lead')\n",
    "print(metals)"
   ]
  },
  {
   "cell_type": "code",
   "execution_count": 5,
   "metadata": {},
   "outputs": [
    {
     "data": {
      "text/plain": [
       "True"
      ]
     },
     "execution_count": 5,
     "metadata": {},
     "output_type": "execute_result"
    }
   ],
   "source": [
    "'steel' in metals"
   ]
  },
  {
   "cell_type": "code",
   "execution_count": 6,
   "metadata": {},
   "outputs": [
    {
     "data": {
      "text/plain": [
       "True"
      ]
     },
     "execution_count": 6,
     "metadata": {},
     "output_type": "execute_result"
    }
   ],
   "source": [
    "'5' in '8675309'"
   ]
  },
  {
   "cell_type": "code",
   "execution_count": 8,
   "metadata": {},
   "outputs": [],
   "source": [
    "savage =    [[\"308\", 505, 710, 896],\n",
    "            [\"223\", 392, 505, 665],\n",
    "            [\"6.5\", 950, 1000, 1103]]\n",
    "blackRain = [[\"Barrels\", 18, 22],\n",
    "            [\"Triggers\", 2, 4],\n",
    "            [\"Rails\", 13, 15]]"
   ]
  },
  {
   "cell_type": "code",
   "execution_count": 15,
   "metadata": {},
   "outputs": [
    {
     "data": {
      "text/plain": [
       "list"
      ]
     },
     "execution_count": 15,
     "metadata": {},
     "output_type": "execute_result"
    }
   ],
   "source": [
    "type(blackRain)"
   ]
  },
  {
   "cell_type": "code",
   "execution_count": 16,
   "metadata": {},
   "outputs": [
    {
     "data": {
      "text/plain": [
       "int"
      ]
     },
     "execution_count": 16,
     "metadata": {},
     "output_type": "execute_result"
    }
   ],
   "source": [
    "type(blackRain[1][1])"
   ]
  },
  {
   "cell_type": "code",
   "execution_count": 17,
   "metadata": {},
   "outputs": [
    {
     "data": {
      "text/plain": [
       "str"
      ]
     },
     "execution_count": 17,
     "metadata": {},
     "output_type": "execute_result"
    }
   ],
   "source": [
    "type(blackRain[1][0])"
   ]
  },
  {
   "cell_type": "code",
   "execution_count": 18,
   "metadata": {},
   "outputs": [
    {
     "data": {
      "text/plain": [
       "['Triggers']"
      ]
     },
     "execution_count": 18,
     "metadata": {},
     "output_type": "execute_result"
    }
   ],
   "source": [
    "caliber_list = blackRain[1][0].split(\" \")\n",
    "caliber_list"
   ]
  },
  {
   "cell_type": "code",
   "execution_count": 19,
   "metadata": {},
   "outputs": [
    {
     "data": {
      "text/plain": [
       "665"
      ]
     },
     "execution_count": 19,
     "metadata": {},
     "output_type": "execute_result"
    }
   ],
   "source": [
    "savage[1][3]"
   ]
  },
  {
   "cell_type": "code",
   "execution_count": 20,
   "metadata": {},
   "outputs": [],
   "source": [
    "import pandas as pd"
   ]
  },
  {
   "cell_type": "code",
   "execution_count": 26,
   "metadata": {},
   "outputs": [],
   "source": [
    "continuousFlow = pd.read_csv(\"continuous_factory_process.csv\")"
   ]
  },
  {
   "cell_type": "code",
   "execution_count": 29,
   "metadata": {},
   "outputs": [
    {
     "data": {
      "text/html": [
       "<div>\n",
       "<style scoped>\n",
       "    .dataframe tbody tr th:only-of-type {\n",
       "        vertical-align: middle;\n",
       "    }\n",
       "\n",
       "    .dataframe tbody tr th {\n",
       "        vertical-align: top;\n",
       "    }\n",
       "\n",
       "    .dataframe thead th {\n",
       "        text-align: right;\n",
       "    }\n",
       "</style>\n",
       "<table border=\"1\" class=\"dataframe\">\n",
       "  <thead>\n",
       "    <tr style=\"text-align: right;\">\n",
       "      <th></th>\n",
       "      <th>time_stamp</th>\n",
       "      <th>AmbientConditions.AmbientHumidity.U.Actual</th>\n",
       "      <th>AmbientConditions.AmbientTemperature.U.Actual</th>\n",
       "      <th>Machine1.RawMaterial.Property1</th>\n",
       "      <th>Machine1.RawMaterial.Property2</th>\n",
       "      <th>Machine1.RawMaterial.Property3</th>\n",
       "      <th>Machine1.RawMaterial.Property4</th>\n",
       "      <th>Machine1.RawMaterialFeederParameter.U.Actual</th>\n",
       "      <th>Machine1.Zone1Temperature.C.Actual</th>\n",
       "      <th>Machine1.Zone2Temperature.C.Actual</th>\n",
       "      <th>...</th>\n",
       "      <th>Stage2.Output.Measurement10.U.Actual</th>\n",
       "      <th>Stage2.Output.Measurement10.U.Setpoint</th>\n",
       "      <th>Stage2.Output.Measurement11.U.Actual</th>\n",
       "      <th>Stage2.Output.Measurement11.U.Setpoint</th>\n",
       "      <th>Stage2.Output.Measurement12.U.Actual</th>\n",
       "      <th>Stage2.Output.Measurement12.U.Setpoint</th>\n",
       "      <th>Stage2.Output.Measurement13.U.Actual</th>\n",
       "      <th>Stage2.Output.Measurement13.U.Setpoint</th>\n",
       "      <th>Stage2.Output.Measurement14.U.Actual</th>\n",
       "      <th>Stage2.Output.Measurement14.U.Setpoint</th>\n",
       "    </tr>\n",
       "  </thead>\n",
       "  <tbody>\n",
       "    <tr>\n",
       "      <th>0</th>\n",
       "      <td>3/6/2019 10:52</td>\n",
       "      <td>17.24</td>\n",
       "      <td>23.53</td>\n",
       "      <td>11.54</td>\n",
       "      <td>200</td>\n",
       "      <td>963.0</td>\n",
       "      <td>247</td>\n",
       "      <td>1241.26</td>\n",
       "      <td>72.0</td>\n",
       "      <td>72.3</td>\n",
       "      <td>...</td>\n",
       "      <td>0.0</td>\n",
       "      <td>7.93</td>\n",
       "      <td>0.0</td>\n",
       "      <td>5.65</td>\n",
       "      <td>0.0</td>\n",
       "      <td>1.85</td>\n",
       "      <td>0.0</td>\n",
       "      <td>2.89</td>\n",
       "      <td>0.0</td>\n",
       "      <td>11.71</td>\n",
       "    </tr>\n",
       "    <tr>\n",
       "      <th>1</th>\n",
       "      <td>3/6/2019 10:52</td>\n",
       "      <td>17.24</td>\n",
       "      <td>23.53</td>\n",
       "      <td>11.54</td>\n",
       "      <td>200</td>\n",
       "      <td>963.0</td>\n",
       "      <td>247</td>\n",
       "      <td>1246.09</td>\n",
       "      <td>72.0</td>\n",
       "      <td>72.3</td>\n",
       "      <td>...</td>\n",
       "      <td>0.0</td>\n",
       "      <td>7.93</td>\n",
       "      <td>0.0</td>\n",
       "      <td>5.65</td>\n",
       "      <td>0.0</td>\n",
       "      <td>1.85</td>\n",
       "      <td>0.0</td>\n",
       "      <td>2.89</td>\n",
       "      <td>0.0</td>\n",
       "      <td>11.71</td>\n",
       "    </tr>\n",
       "    <tr>\n",
       "      <th>2</th>\n",
       "      <td>3/6/2019 10:52</td>\n",
       "      <td>17.24</td>\n",
       "      <td>23.53</td>\n",
       "      <td>11.54</td>\n",
       "      <td>200</td>\n",
       "      <td>963.0</td>\n",
       "      <td>247</td>\n",
       "      <td>1246.29</td>\n",
       "      <td>72.0</td>\n",
       "      <td>72.3</td>\n",
       "      <td>...</td>\n",
       "      <td>0.0</td>\n",
       "      <td>7.93</td>\n",
       "      <td>0.0</td>\n",
       "      <td>5.65</td>\n",
       "      <td>0.0</td>\n",
       "      <td>1.85</td>\n",
       "      <td>0.0</td>\n",
       "      <td>2.89</td>\n",
       "      <td>0.0</td>\n",
       "      <td>11.71</td>\n",
       "    </tr>\n",
       "    <tr>\n",
       "      <th>3</th>\n",
       "      <td>3/6/2019 10:52</td>\n",
       "      <td>17.24</td>\n",
       "      <td>23.53</td>\n",
       "      <td>11.54</td>\n",
       "      <td>200</td>\n",
       "      <td>963.0</td>\n",
       "      <td>247</td>\n",
       "      <td>1247.59</td>\n",
       "      <td>72.0</td>\n",
       "      <td>72.3</td>\n",
       "      <td>...</td>\n",
       "      <td>0.0</td>\n",
       "      <td>7.93</td>\n",
       "      <td>0.0</td>\n",
       "      <td>5.65</td>\n",
       "      <td>0.0</td>\n",
       "      <td>1.85</td>\n",
       "      <td>0.0</td>\n",
       "      <td>2.89</td>\n",
       "      <td>0.0</td>\n",
       "      <td>11.71</td>\n",
       "    </tr>\n",
       "    <tr>\n",
       "      <th>4</th>\n",
       "      <td>3/6/2019 10:52</td>\n",
       "      <td>17.24</td>\n",
       "      <td>23.53</td>\n",
       "      <td>11.54</td>\n",
       "      <td>200</td>\n",
       "      <td>963.0</td>\n",
       "      <td>247</td>\n",
       "      <td>1252.83</td>\n",
       "      <td>72.1</td>\n",
       "      <td>72.4</td>\n",
       "      <td>...</td>\n",
       "      <td>0.0</td>\n",
       "      <td>7.93</td>\n",
       "      <td>0.0</td>\n",
       "      <td>5.65</td>\n",
       "      <td>0.0</td>\n",
       "      <td>1.85</td>\n",
       "      <td>0.0</td>\n",
       "      <td>2.89</td>\n",
       "      <td>0.0</td>\n",
       "      <td>11.71</td>\n",
       "    </tr>\n",
       "  </tbody>\n",
       "</table>\n",
       "<p>5 rows × 116 columns</p>\n",
       "</div>"
      ],
      "text/plain": [
       "       time_stamp  AmbientConditions.AmbientHumidity.U.Actual  \\\n",
       "0  3/6/2019 10:52                                       17.24   \n",
       "1  3/6/2019 10:52                                       17.24   \n",
       "2  3/6/2019 10:52                                       17.24   \n",
       "3  3/6/2019 10:52                                       17.24   \n",
       "4  3/6/2019 10:52                                       17.24   \n",
       "\n",
       "   AmbientConditions.AmbientTemperature.U.Actual  \\\n",
       "0                                          23.53   \n",
       "1                                          23.53   \n",
       "2                                          23.53   \n",
       "3                                          23.53   \n",
       "4                                          23.53   \n",
       "\n",
       "   Machine1.RawMaterial.Property1  Machine1.RawMaterial.Property2  \\\n",
       "0                           11.54                             200   \n",
       "1                           11.54                             200   \n",
       "2                           11.54                             200   \n",
       "3                           11.54                             200   \n",
       "4                           11.54                             200   \n",
       "\n",
       "   Machine1.RawMaterial.Property3  Machine1.RawMaterial.Property4  \\\n",
       "0                           963.0                             247   \n",
       "1                           963.0                             247   \n",
       "2                           963.0                             247   \n",
       "3                           963.0                             247   \n",
       "4                           963.0                             247   \n",
       "\n",
       "   Machine1.RawMaterialFeederParameter.U.Actual  \\\n",
       "0                                       1241.26   \n",
       "1                                       1246.09   \n",
       "2                                       1246.29   \n",
       "3                                       1247.59   \n",
       "4                                       1252.83   \n",
       "\n",
       "   Machine1.Zone1Temperature.C.Actual  Machine1.Zone2Temperature.C.Actual  \\\n",
       "0                                72.0                                72.3   \n",
       "1                                72.0                                72.3   \n",
       "2                                72.0                                72.3   \n",
       "3                                72.0                                72.3   \n",
       "4                                72.1                                72.4   \n",
       "\n",
       "   ...  Stage2.Output.Measurement10.U.Actual  \\\n",
       "0  ...                                   0.0   \n",
       "1  ...                                   0.0   \n",
       "2  ...                                   0.0   \n",
       "3  ...                                   0.0   \n",
       "4  ...                                   0.0   \n",
       "\n",
       "   Stage2.Output.Measurement10.U.Setpoint  \\\n",
       "0                                    7.93   \n",
       "1                                    7.93   \n",
       "2                                    7.93   \n",
       "3                                    7.93   \n",
       "4                                    7.93   \n",
       "\n",
       "   Stage2.Output.Measurement11.U.Actual  \\\n",
       "0                                   0.0   \n",
       "1                                   0.0   \n",
       "2                                   0.0   \n",
       "3                                   0.0   \n",
       "4                                   0.0   \n",
       "\n",
       "   Stage2.Output.Measurement11.U.Setpoint  \\\n",
       "0                                    5.65   \n",
       "1                                    5.65   \n",
       "2                                    5.65   \n",
       "3                                    5.65   \n",
       "4                                    5.65   \n",
       "\n",
       "   Stage2.Output.Measurement12.U.Actual  \\\n",
       "0                                   0.0   \n",
       "1                                   0.0   \n",
       "2                                   0.0   \n",
       "3                                   0.0   \n",
       "4                                   0.0   \n",
       "\n",
       "   Stage2.Output.Measurement12.U.Setpoint  \\\n",
       "0                                    1.85   \n",
       "1                                    1.85   \n",
       "2                                    1.85   \n",
       "3                                    1.85   \n",
       "4                                    1.85   \n",
       "\n",
       "   Stage2.Output.Measurement13.U.Actual  \\\n",
       "0                                   0.0   \n",
       "1                                   0.0   \n",
       "2                                   0.0   \n",
       "3                                   0.0   \n",
       "4                                   0.0   \n",
       "\n",
       "   Stage2.Output.Measurement13.U.Setpoint  \\\n",
       "0                                    2.89   \n",
       "1                                    2.89   \n",
       "2                                    2.89   \n",
       "3                                    2.89   \n",
       "4                                    2.89   \n",
       "\n",
       "   Stage2.Output.Measurement14.U.Actual  \\\n",
       "0                                   0.0   \n",
       "1                                   0.0   \n",
       "2                                   0.0   \n",
       "3                                   0.0   \n",
       "4                                   0.0   \n",
       "\n",
       "   Stage2.Output.Measurement14.U.Setpoint  \n",
       "0                                   11.71  \n",
       "1                                   11.71  \n",
       "2                                   11.71  \n",
       "3                                   11.71  \n",
       "4                                   11.71  \n",
       "\n",
       "[5 rows x 116 columns]"
      ]
     },
     "execution_count": 29,
     "metadata": {},
     "output_type": "execute_result"
    }
   ],
   "source": [
    "continuousFlow.head()"
   ]
  },
  {
   "cell_type": "code",
   "execution_count": null,
   "metadata": {},
   "outputs": [],
   "source": []
  }
 ],
 "metadata": {
  "interpreter": {
   "hash": "ae5651488652e961febbac79b6ac121d2261f82ccebdbef63236855c9fe5b051"
  },
  "kernelspec": {
   "display_name": "Python 3.9.7 ('base')",
   "language": "python",
   "name": "python3"
  },
  "language_info": {
   "codemirror_mode": {
    "name": "ipython",
    "version": 3
   },
   "file_extension": ".py",
   "mimetype": "text/x-python",
   "name": "python",
   "nbconvert_exporter": "python",
   "pygments_lexer": "ipython3",
   "version": "3.9.7"
  },
  "orig_nbformat": 4
 },
 "nbformat": 4,
 "nbformat_minor": 2
}
