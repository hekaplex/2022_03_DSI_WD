{
    "metadata": {
        "kernelspec": {
            "name": "SQL",
            "display_name": "SQL",
            "language": "sql"
        },
        "language_info": {
            "name": "sql",
            "version": ""
        }
    },
    "nbformat_minor": 2,
    "nbformat": 4,
    "cells": [
        {
            "cell_type": "code",
            "source": [
                "SELECT distinct \r\n",
                "    VendorName\r\n",
                "    + '''s Address: ' \r\n",
                "        AS [Vendor title]\r\n",
                "    ,VendorCity\r\n",
                "        + ', '+ VendorState\r\n",
                "        + ' '+ VendorZipCode\r\n",
                "        AS [Vendor Adress]    \r\n",
                "FROM \r\n",
                "    Vendors\r\n",
                "WHERE\r\n",
                "    VendorZipCode NOT BETWEEN 93662 AND 93792\r\n",
                "ORDER BY \r\n",
                "    VendorZipCode DESC"
            ],
            "metadata": {
                "azdata_cell_guid": "910be481-a5ba-4b42-b74f-12d44a2ca2cd",
                "tags": []
            },
            "outputs": [],
            "execution_count": null
        },
        {
            "cell_type": "code",
            "source": [
                "SELECT \r\n",
                "DISTINCT  InvoiceDate\r\n",
                "FROM Invoices"
            ],
            "metadata": {
                "azdata_cell_guid": "33c030c7-bc1b-42ac-ab30-aca2e3f75f80"
            },
            "outputs": [
                {
                    "output_type": "display_data",
                    "data": {
                        "text/html": "(71 rows affected)"
                    },
                    "metadata": {}
                },
                {
                    "output_type": "display_data",
                    "data": {
                        "text/html": "Total execution time: 00:00:00.007"
                    },
                    "metadata": {}
                },
                {
                    "output_type": "execute_result",
                    "metadata": {},
                    "execution_count": 34,
                    "data": {
                        "application/vnd.dataresource+json": {
                            "schema": {
                                "fields": [
                                    {
                                        "name": "InvoiceDate"
                                    }
                                ]
                            },
                            "data": [
                                {
                                    "0": "2019-10-08"
                                },
                                {
                                    "0": "2019-10-10"
                                },
                                {
                                    "0": "2019-10-13"
                                },
                                {
                                    "0": "2019-10-16"
                                },
                                {
                                    "0": "2019-10-21"
                                },
                                {
                                    "0": "2019-10-24"
                                },
                                {
                                    "0": "2019-10-25"
                                },
                                {
                                    "0": "2019-10-26"
                                },
                                {
                                    "0": "2019-10-30"
                                },
                                {
                                    "0": "2019-11-01"
                                },
                                {
                                    "0": "2019-11-03"
                                },
                                {
                                    "0": "2019-11-05"
                                },
                                {
                                    "0": "2019-11-06"
                                },
                                {
                                    "0": "2019-11-07"
                                },
                                {
                                    "0": "2019-11-10"
                                },
                                {
                                    "0": "2019-11-11"
                                },
                                {
                                    "0": "2019-11-13"
                                },
                                {
                                    "0": "2019-11-14"
                                },
                                {
                                    "0": "2019-11-15"
                                },
                                {
                                    "0": "2019-11-16"
                                },
                                {
                                    "0": "2019-11-19"
                                },
                                {
                                    "0": "2019-11-20"
                                },
                                {
                                    "0": "2019-11-21"
                                },
                                {
                                    "0": "2019-11-23"
                                },
                                {
                                    "0": "2019-11-25"
                                },
                                {
                                    "0": "2019-11-26"
                                },
                                {
                                    "0": "2019-11-28"
                                },
                                {
                                    "0": "2019-11-30"
                                },
                                {
                                    "0": "2019-12-01"
                                },
                                {
                                    "0": "2019-12-03"
                                },
                                {
                                    "0": "2019-12-04"
                                },
                                {
                                    "0": "2019-12-07"
                                },
                                {
                                    "0": "2019-12-08"
                                },
                                {
                                    "0": "2019-12-09"
                                },
                                {
                                    "0": "2019-12-10"
                                },
                                {
                                    "0": "2019-12-11"
                                },
                                {
                                    "0": "2019-12-12"
                                },
                                {
                                    "0": "2019-12-15"
                                },
                                {
                                    "0": "2019-12-16"
                                },
                                {
                                    "0": "2019-12-17"
                                },
                                {
                                    "0": "2019-12-18"
                                },
                                {
                                    "0": "2019-12-20"
                                },
                                {
                                    "0": "2019-12-21"
                                },
                                {
                                    "0": "2019-12-22"
                                },
                                {
                                    "0": "2019-12-23"
                                },
                                {
                                    "0": "2019-12-24"
                                },
                                {
                                    "0": "2019-12-25"
                                },
                                {
                                    "0": "2019-12-28"
                                },
                                {
                                    "0": "2020-01-01"
                                },
                                {
                                    "0": "2020-01-02"
                                },
                                {
                                    "0": "2020-01-05"
                                },
                                {
                                    "0": "2020-01-06"
                                },
                                {
                                    "0": "2020-01-07"
                                },
                                {
                                    "0": "2020-01-08"
                                },
                                {
                                    "0": "2020-01-10"
                                },
                                {
                                    "0": "2020-01-12"
                                },
                                {
                                    "0": "2020-01-15"
                                },
                                {
                                    "0": "2020-01-16"
                                },
                                {
                                    "0": "2020-01-18"
                                },
                                {
                                    "0": "2020-01-19"
                                },
                                {
                                    "0": "2020-01-20"
                                },
                                {
                                    "0": "2020-01-21"
                                },
                                {
                                    "0": "2020-01-22"
                                },
                                {
                                    "0": "2020-01-23"
                                },
                                {
                                    "0": "2020-01-24"
                                },
                                {
                                    "0": "2020-01-25"
                                },
                                {
                                    "0": "2020-01-28"
                                },
                                {
                                    "0": "2020-01-30"
                                },
                                {
                                    "0": "2020-01-31"
                                },
                                {
                                    "0": "2020-02-01"
                                },
                                {
                                    "0": "2020-02-02"
                                }
                            ]
                        },
                        "text/html": [
                            "<table>",
                            "<tr><th>InvoiceDate</th></tr>",
                            "<tr><td>2019-10-08</td></tr>",
                            "<tr><td>2019-10-10</td></tr>",
                            "<tr><td>2019-10-13</td></tr>",
                            "<tr><td>2019-10-16</td></tr>",
                            "<tr><td>2019-10-21</td></tr>",
                            "<tr><td>2019-10-24</td></tr>",
                            "<tr><td>2019-10-25</td></tr>",
                            "<tr><td>2019-10-26</td></tr>",
                            "<tr><td>2019-10-30</td></tr>",
                            "<tr><td>2019-11-01</td></tr>",
                            "<tr><td>2019-11-03</td></tr>",
                            "<tr><td>2019-11-05</td></tr>",
                            "<tr><td>2019-11-06</td></tr>",
                            "<tr><td>2019-11-07</td></tr>",
                            "<tr><td>2019-11-10</td></tr>",
                            "<tr><td>2019-11-11</td></tr>",
                            "<tr><td>2019-11-13</td></tr>",
                            "<tr><td>2019-11-14</td></tr>",
                            "<tr><td>2019-11-15</td></tr>",
                            "<tr><td>2019-11-16</td></tr>",
                            "<tr><td>2019-11-19</td></tr>",
                            "<tr><td>2019-11-20</td></tr>",
                            "<tr><td>2019-11-21</td></tr>",
                            "<tr><td>2019-11-23</td></tr>",
                            "<tr><td>2019-11-25</td></tr>",
                            "<tr><td>2019-11-26</td></tr>",
                            "<tr><td>2019-11-28</td></tr>",
                            "<tr><td>2019-11-30</td></tr>",
                            "<tr><td>2019-12-01</td></tr>",
                            "<tr><td>2019-12-03</td></tr>",
                            "<tr><td>2019-12-04</td></tr>",
                            "<tr><td>2019-12-07</td></tr>",
                            "<tr><td>2019-12-08</td></tr>",
                            "<tr><td>2019-12-09</td></tr>",
                            "<tr><td>2019-12-10</td></tr>",
                            "<tr><td>2019-12-11</td></tr>",
                            "<tr><td>2019-12-12</td></tr>",
                            "<tr><td>2019-12-15</td></tr>",
                            "<tr><td>2019-12-16</td></tr>",
                            "<tr><td>2019-12-17</td></tr>",
                            "<tr><td>2019-12-18</td></tr>",
                            "<tr><td>2019-12-20</td></tr>",
                            "<tr><td>2019-12-21</td></tr>",
                            "<tr><td>2019-12-22</td></tr>",
                            "<tr><td>2019-12-23</td></tr>",
                            "<tr><td>2019-12-24</td></tr>",
                            "<tr><td>2019-12-25</td></tr>",
                            "<tr><td>2019-12-28</td></tr>",
                            "<tr><td>2020-01-01</td></tr>",
                            "<tr><td>2020-01-02</td></tr>",
                            "<tr><td>2020-01-05</td></tr>",
                            "<tr><td>2020-01-06</td></tr>",
                            "<tr><td>2020-01-07</td></tr>",
                            "<tr><td>2020-01-08</td></tr>",
                            "<tr><td>2020-01-10</td></tr>",
                            "<tr><td>2020-01-12</td></tr>",
                            "<tr><td>2020-01-15</td></tr>",
                            "<tr><td>2020-01-16</td></tr>",
                            "<tr><td>2020-01-18</td></tr>",
                            "<tr><td>2020-01-19</td></tr>",
                            "<tr><td>2020-01-20</td></tr>",
                            "<tr><td>2020-01-21</td></tr>",
                            "<tr><td>2020-01-22</td></tr>",
                            "<tr><td>2020-01-23</td></tr>",
                            "<tr><td>2020-01-24</td></tr>",
                            "<tr><td>2020-01-25</td></tr>",
                            "<tr><td>2020-01-28</td></tr>",
                            "<tr><td>2020-01-30</td></tr>",
                            "<tr><td>2020-01-31</td></tr>",
                            "<tr><td>2020-02-01</td></tr>",
                            "<tr><td>2020-02-02</td></tr>",
                            "</table>"
                        ]
                    }
                }
            ],
            "execution_count": 34
        },
        {
            "cell_type": "code",
            "source": [
                "SELECT \r\n",
                "    TOP 5 PERCENT \r\n",
                "        VendorID,InvoiceTotal\r\n",
                "FROM Invoices\r\n",
                "WHERE VendorID != 110\r\n",
                "ORDER BY InvoiceTotal DESC"
            ],
            "metadata": {
                "azdata_cell_guid": "7e957d22-0239-4056-b5da-6001dc4ff888"
            },
            "outputs": [
                {
                    "output_type": "display_data",
                    "data": {
                        "text/html": "(6 rows affected)"
                    },
                    "metadata": {}
                },
                {
                    "output_type": "display_data",
                    "data": {
                        "text/html": "Total execution time: 00:00:00.008"
                    },
                    "metadata": {}
                },
                {
                    "output_type": "execute_result",
                    "metadata": {},
                    "execution_count": 26,
                    "data": {
                        "application/vnd.dataresource+json": {
                            "schema": {
                                "fields": [
                                    {
                                        "name": "VendorID"
                                    },
                                    {
                                        "name": "InvoiceTotal"
                                    }
                                ]
                            },
                            "data": [
                                {
                                    "0": "72",
                                    "1": "21842.00"
                                },
                                {
                                    "0": "104",
                                    "1": "7125.34"
                                },
                                {
                                    "0": "99",
                                    "1": "6940.25"
                                },
                                {
                                    "0": "119",
                                    "1": "4901.26"
                                },
                                {
                                    "0": "122",
                                    "1": "3813.33"
                                },
                                {
                                    "0": "122",
                                    "1": "3689.99"
                                }
                            ]
                        },
                        "text/html": [
                            "<table>",
                            "<tr><th>VendorID</th><th>InvoiceTotal</th></tr>",
                            "<tr><td>72</td><td>21842.00</td></tr>",
                            "<tr><td>104</td><td>7125.34</td></tr>",
                            "<tr><td>99</td><td>6940.25</td></tr>",
                            "<tr><td>119</td><td>4901.26</td></tr>",
                            "<tr><td>122</td><td>3813.33</td></tr>",
                            "<tr><td>122</td><td>3689.99</td></tr>",
                            "</table>"
                        ]
                    }
                }
            ],
            "execution_count": 26
        },
        {
            "cell_type": "code",
            "source": [
                "SELECT \r\n",
                "    DISTINCT\r\n",
                "        VendorCity,VendorState\r\n",
                "FROM Vendors"
            ],
            "metadata": {
                "azdata_cell_guid": "b4d703ff-fab4-448b-b359-ebe107734e37"
            },
            "outputs": [
                {
                    "output_type": "display_data",
                    "data": {
                        "text/html": "(53 rows affected)"
                    },
                    "metadata": {}
                },
                {
                    "output_type": "display_data",
                    "data": {
                        "text/html": "Total execution time: 00:00:00.012"
                    },
                    "metadata": {}
                },
                {
                    "output_type": "execute_result",
                    "metadata": {},
                    "execution_count": 19,
                    "data": {
                        "application/vnd.dataresource+json": {
                            "schema": {
                                "fields": [
                                    {
                                        "name": "VendorCity"
                                    },
                                    {
                                        "name": "VendorState"
                                    }
                                ]
                            },
                            "data": [
                                {
                                    "0": "Anaheim",
                                    "1": "CA"
                                },
                                {
                                    "0": "Ann Arbor",
                                    "1": "MI"
                                },
                                {
                                    "0": "Auburn Hills",
                                    "1": "MI"
                                },
                                {
                                    "0": "Boston",
                                    "1": "MA"
                                },
                                {
                                    "0": "Brea",
                                    "1": "CA"
                                },
                                {
                                    "0": "Carol Stream",
                                    "1": "IL"
                                },
                                {
                                    "0": "Charlotte",
                                    "1": "NC"
                                },
                                {
                                    "0": "Chicago",
                                    "1": "IL"
                                },
                                {
                                    "0": "Cincinnati",
                                    "1": "OH"
                                },
                                {
                                    "0": "Cleves",
                                    "1": "OH"
                                },
                                {
                                    "0": "Columbus",
                                    "1": "OH"
                                },
                                {
                                    "0": "Dallas",
                                    "1": "TX"
                                },
                                {
                                    "0": "East Brunswick",
                                    "1": "NJ"
                                },
                                {
                                    "0": "Fairfield",
                                    "1": "IA"
                                },
                                {
                                    "0": "Fairfield",
                                    "1": "NJ"
                                },
                                {
                                    "0": "Fort Washington",
                                    "1": "PA"
                                },
                                {
                                    "0": "Fresno",
                                    "1": "CA"
                                },
                                {
                                    "0": "Gardena",
                                    "1": "CA"
                                },
                                {
                                    "0": "Inglewood",
                                    "1": "CA"
                                },
                                {
                                    "0": "Jacksonville",
                                    "1": "FL"
                                },
                                {
                                    "0": "Los Angeles",
                                    "1": "CA"
                                },
                                {
                                    "0": "Madison",
                                    "1": "WI"
                                },
                                {
                                    "0": "Manhatttan Beach",
                                    "1": "CA"
                                },
                                {
                                    "0": "Marion",
                                    "1": "OH"
                                },
                                {
                                    "0": "Mclean",
                                    "1": "VA"
                                },
                                {
                                    "0": "Memphis",
                                    "1": "TN"
                                },
                                {
                                    "0": "Minneapolis",
                                    "1": "MN"
                                },
                                {
                                    "0": "Mission Viejo",
                                    "1": "CA"
                                },
                                {
                                    "0": "New Rochelle",
                                    "1": "NY"
                                },
                                {
                                    "0": "New York",
                                    "1": "NY"
                                },
                                {
                                    "0": "Oberlin",
                                    "1": "OH"
                                },
                                {
                                    "0": "Olathe",
                                    "1": "KS"
                                },
                                {
                                    "0": "Oxnard",
                                    "1": "CA"
                                },
                                {
                                    "0": "Pasadena",
                                    "1": "CA"
                                },
                                {
                                    "0": "Philadelphia",
                                    "1": "PA"
                                },
                                {
                                    "0": "Phoenix",
                                    "1": "AZ"
                                },
                                {
                                    "0": "Reno",
                                    "1": "NV"
                                },
                                {
                                    "0": "Sacramento",
                                    "1": "CA"
                                },
                                {
                                    "0": "San Diego",
                                    "1": "CA"
                                },
                                {
                                    "0": "San Francisco",
                                    "1": "CA"
                                },
                                {
                                    "0": "Santa Ana",
                                    "1": "CA"
                                },
                                {
                                    "0": "Santa Barbara",
                                    "1": "CA"
                                },
                                {
                                    "0": "Selma",
                                    "1": "CA"
                                },
                                {
                                    "0": "Shelton",
                                    "1": "CT"
                                },
                                {
                                    "0": "St Louis",
                                    "1": "MO"
                                },
                                {
                                    "0": "Tarrytown",
                                    "1": "NY"
                                },
                                {
                                    "0": "The Lake",
                                    "1": "NV"
                                },
                                {
                                    "0": "Traverse City",
                                    "1": "MI"
                                },
                                {
                                    "0": "Turlock",
                                    "1": "CA"
                                },
                                {
                                    "0": "Valencia",
                                    "1": "CA"
                                },
                                {
                                    "0": "Washington",
                                    "1": "DC"
                                },
                                {
                                    "0": "Washington",
                                    "1": "IA"
                                },
                                {
                                    "0": "Washington",
                                    "1": "NJ"
                                }
                            ]
                        },
                        "text/html": [
                            "<table>",
                            "<tr><th>VendorCity</th><th>VendorState</th></tr>",
                            "<tr><td>Anaheim</td><td>CA</td></tr>",
                            "<tr><td>Ann Arbor</td><td>MI</td></tr>",
                            "<tr><td>Auburn Hills</td><td>MI</td></tr>",
                            "<tr><td>Boston</td><td>MA</td></tr>",
                            "<tr><td>Brea</td><td>CA</td></tr>",
                            "<tr><td>Carol Stream</td><td>IL</td></tr>",
                            "<tr><td>Charlotte</td><td>NC</td></tr>",
                            "<tr><td>Chicago</td><td>IL</td></tr>",
                            "<tr><td>Cincinnati</td><td>OH</td></tr>",
                            "<tr><td>Cleves</td><td>OH</td></tr>",
                            "<tr><td>Columbus</td><td>OH</td></tr>",
                            "<tr><td>Dallas</td><td>TX</td></tr>",
                            "<tr><td>East Brunswick</td><td>NJ</td></tr>",
                            "<tr><td>Fairfield</td><td>IA</td></tr>",
                            "<tr><td>Fairfield</td><td>NJ</td></tr>",
                            "<tr><td>Fort Washington</td><td>PA</td></tr>",
                            "<tr><td>Fresno</td><td>CA</td></tr>",
                            "<tr><td>Gardena</td><td>CA</td></tr>",
                            "<tr><td>Inglewood</td><td>CA</td></tr>",
                            "<tr><td>Jacksonville</td><td>FL</td></tr>",
                            "<tr><td>Los Angeles</td><td>CA</td></tr>",
                            "<tr><td>Madison</td><td>WI</td></tr>",
                            "<tr><td>Manhatttan Beach</td><td>CA</td></tr>",
                            "<tr><td>Marion</td><td>OH</td></tr>",
                            "<tr><td>Mclean</td><td>VA</td></tr>",
                            "<tr><td>Memphis</td><td>TN</td></tr>",
                            "<tr><td>Minneapolis</td><td>MN</td></tr>",
                            "<tr><td>Mission Viejo</td><td>CA</td></tr>",
                            "<tr><td>New Rochelle</td><td>NY</td></tr>",
                            "<tr><td>New York</td><td>NY</td></tr>",
                            "<tr><td>Oberlin</td><td>OH</td></tr>",
                            "<tr><td>Olathe</td><td>KS</td></tr>",
                            "<tr><td>Oxnard</td><td>CA</td></tr>",
                            "<tr><td>Pasadena</td><td>CA</td></tr>",
                            "<tr><td>Philadelphia</td><td>PA</td></tr>",
                            "<tr><td>Phoenix</td><td>AZ</td></tr>",
                            "<tr><td>Reno</td><td>NV</td></tr>",
                            "<tr><td>Sacramento</td><td>CA</td></tr>",
                            "<tr><td>San Diego</td><td>CA</td></tr>",
                            "<tr><td>San Francisco</td><td>CA</td></tr>",
                            "<tr><td>Santa Ana</td><td>CA</td></tr>",
                            "<tr><td>Santa Barbara</td><td>CA</td></tr>",
                            "<tr><td>Selma</td><td>CA</td></tr>",
                            "<tr><td>Shelton</td><td>CT</td></tr>",
                            "<tr><td>St Louis</td><td>MO</td></tr>",
                            "<tr><td>Tarrytown</td><td>NY</td></tr>",
                            "<tr><td>The Lake</td><td>NV</td></tr>",
                            "<tr><td>Traverse City</td><td>MI</td></tr>",
                            "<tr><td>Turlock</td><td>CA</td></tr>",
                            "<tr><td>Valencia</td><td>CA</td></tr>",
                            "<tr><td>Washington</td><td>DC</td></tr>",
                            "<tr><td>Washington</td><td>IA</td></tr>",
                            "<tr><td>Washington</td><td>NJ</td></tr>",
                            "</table>"
                        ]
                    }
                }
            ],
            "execution_count": 19
        },
        {
            "cell_type": "code",
            "source": [
                "SELECT\r\n",
                "InvoiceDueDate\r\n",
                ",DATEDIFF(MONTH,InvoiceDueDate,GETDATE())\r\n",
                "FROM Invoices"
            ],
            "metadata": {
                "azdata_cell_guid": "4fb7efce-d31a-4e28-88ac-653567536f3b"
            },
            "outputs": [
                {
                    "output_type": "display_data",
                    "data": {
                        "text/html": "(114 rows affected)"
                    },
                    "metadata": {}
                },
                {
                    "output_type": "display_data",
                    "data": {
                        "text/html": "Total execution time: 00:00:00.028"
                    },
                    "metadata": {}
                },
                {
                    "output_type": "execute_result",
                    "metadata": {},
                    "execution_count": 17,
                    "data": {
                        "application/vnd.dataresource+json": {
                            "schema": {
                                "fields": [
                                    {
                                        "name": "InvoiceDueDate"
                                    },
                                    {
                                        "name": "(No column name)"
                                    }
                                ]
                            },
                            "data": [
                                {
                                    "0": "2019-11-08",
                                    "1": "28"
                                },
                                {
                                    "0": "2019-11-10",
                                    "1": "28"
                                },
                                {
                                    "0": "2019-11-13",
                                    "1": "28"
                                },
                                {
                                    "0": "2019-11-16",
                                    "1": "28"
                                },
                                {
                                    "0": "2019-11-16",
                                    "1": "28"
                                },
                                {
                                    "0": "2019-11-16",
                                    "1": "28"
                                },
                                {
                                    "0": "2019-11-21",
                                    "1": "28"
                                },
                                {
                                    "0": "2019-11-04",
                                    "1": "28"
                                },
                                {
                                    "0": "2019-11-24",
                                    "1": "28"
                                },
                                {
                                    "0": "2019-11-24",
                                    "1": "28"
                                },
                                {
                                    "0": "2019-11-25",
                                    "1": "28"
                                },
                                {
                                    "0": "2019-11-16",
                                    "1": "28"
                                },
                                {
                                    "0": "2019-11-20",
                                    "1": "28"
                                },
                                {
                                    "0": "2019-12-10",
                                    "1": "27"
                                },
                                {
                                    "0": "2019-12-02",
                                    "1": "27"
                                },
                                {
                                    "0": "2019-11-23",
                                    "1": "28"
                                },
                                {
                                    "0": "2019-12-04",
                                    "1": "27"
                                },
                                {
                                    "0": "2019-12-05",
                                    "1": "27"
                                },
                                {
                                    "0": "2019-11-17",
                                    "1": "28"
                                },
                                {
                                    "0": "2019-12-19",
                                    "1": "27"
                                },
                                {
                                    "0": "2019-11-30",
                                    "1": "28"
                                },
                                {
                                    "0": "2019-12-10",
                                    "1": "27"
                                },
                                {
                                    "0": "2019-12-02",
                                    "1": "27"
                                },
                                {
                                    "0": "2020-01-02",
                                    "1": "26"
                                },
                                {
                                    "0": "2019-12-12",
                                    "1": "27"
                                },
                                {
                                    "0": "2019-12-13",
                                    "1": "27"
                                },
                                {
                                    "0": "2019-11-25",
                                    "1": "28"
                                },
                                {
                                    "0": "2019-12-15",
                                    "1": "27"
                                },
                                {
                                    "0": "2019-12-28",
                                    "1": "27"
                                },
                                {
                                    "0": "2019-12-19",
                                    "1": "27"
                                },
                                {
                                    "0": "2019-12-20",
                                    "1": "27"
                                },
                                {
                                    "0": "2019-12-20",
                                    "1": "27"
                                },
                                {
                                    "0": "2019-12-22",
                                    "1": "27"
                                },
                                {
                                    "0": "2019-12-22",
                                    "1": "27"
                                },
                                {
                                    "0": "2020-01-04",
                                    "1": "26"
                                },
                                {
                                    "0": "2019-12-24",
                                    "1": "27"
                                },
                                {
                                    "0": "2019-12-24",
                                    "1": "27"
                                },
                                {
                                    "0": "2019-12-25",
                                    "1": "27"
                                },
                                {
                                    "0": "2019-12-27",
                                    "1": "27"
                                },
                                {
                                    "0": "2019-12-28",
                                    "1": "27"
                                },
                                {
                                    "0": "2019-12-28",
                                    "1": "27"
                                },
                                {
                                    "0": "2019-12-28",
                                    "1": "27"
                                },
                                {
                                    "0": "2020-01-01",
                                    "1": "26"
                                },
                                {
                                    "0": "2019-12-21",
                                    "1": "27"
                                },
                                {
                                    "0": "2020-01-01",
                                    "1": "26"
                                },
                                {
                                    "0": "2020-01-03",
                                    "1": "26"
                                },
                                {
                                    "0": "2019-12-23",
                                    "1": "27"
                                },
                                {
                                    "0": "2020-01-03",
                                    "1": "26"
                                },
                                {
                                    "0": "2019-12-24",
                                    "1": "27"
                                },
                                {
                                    "0": "2020-01-07",
                                    "1": "26"
                                },
                                {
                                    "0": "2020-01-08",
                                    "1": "26"
                                },
                                {
                                    "0": "2019-12-19",
                                    "1": "27"
                                },
                                {
                                    "0": "2019-12-28",
                                    "1": "27"
                                },
                                {
                                    "0": "2020-01-10",
                                    "1": "26"
                                },
                                {
                                    "0": "2020-01-10",
                                    "1": "26"
                                },
                                {
                                    "0": "2019-12-21",
                                    "1": "27"
                                },
                                {
                                    "0": "2020-01-31",
                                    "1": "26"
                                },
                                {
                                    "0": "2020-01-11",
                                    "1": "26"
                                },
                                {
                                    "0": "2020-01-11",
                                    "1": "26"
                                },
                                {
                                    "0": "2020-01-12",
                                    "1": "26"
                                },
                                {
                                    "0": "2020-01-25",
                                    "1": "26"
                                },
                                {
                                    "0": "2020-01-15",
                                    "1": "26"
                                },
                                {
                                    "0": "2020-01-16",
                                    "1": "26"
                                },
                                {
                                    "0": "2020-01-17",
                                    "1": "26"
                                },
                                {
                                    "0": "2020-01-18",
                                    "1": "26"
                                },
                                {
                                    "0": "2020-01-18",
                                    "1": "26"
                                },
                                {
                                    "0": "2020-01-20",
                                    "1": "26"
                                },
                                {
                                    "0": "2020-01-11",
                                    "1": "26"
                                },
                                {
                                    "0": "2020-01-12",
                                    "1": "26"
                                },
                                {
                                    "0": "2020-02-01",
                                    "1": "25"
                                },
                                {
                                    "0": "2020-01-22",
                                    "1": "26"
                                },
                                {
                                    "0": "2020-01-22",
                                    "1": "26"
                                },
                                {
                                    "0": "2020-01-03",
                                    "1": "26"
                                },
                                {
                                    "0": "2020-02-03",
                                    "1": "25"
                                },
                                {
                                    "0": "2020-01-24",
                                    "1": "26"
                                },
                                {
                                    "0": "2020-01-24",
                                    "1": "26"
                                },
                                {
                                    "0": "2020-01-25",
                                    "1": "26"
                                },
                                {
                                    "0": "2020-01-28",
                                    "1": "26"
                                },
                                {
                                    "0": "2020-02-09",
                                    "1": "25"
                                },
                                {
                                    "0": "2020-01-31",
                                    "1": "26"
                                },
                                {
                                    "0": "2020-02-01",
                                    "1": "25"
                                },
                                {
                                    "0": "2020-01-25",
                                    "1": "26"
                                },
                                {
                                    "0": "2020-01-26",
                                    "1": "26"
                                },
                                {
                                    "0": "2020-02-05",
                                    "1": "25"
                                },
                                {
                                    "0": "2020-02-06",
                                    "1": "25"
                                },
                                {
                                    "0": "2020-02-06",
                                    "1": "25"
                                },
                                {
                                    "0": "2020-02-07",
                                    "1": "25"
                                },
                                {
                                    "0": "2020-02-07",
                                    "1": "25"
                                },
                                {
                                    "0": "2020-02-09",
                                    "1": "25"
                                },
                                {
                                    "0": "2020-02-11",
                                    "1": "25"
                                },
                                {
                                    "0": "2020-02-04",
                                    "1": "25"
                                },
                                {
                                    "0": "2020-02-14",
                                    "1": "25"
                                },
                                {
                                    "0": "2020-02-15",
                                    "1": "25"
                                },
                                {
                                    "0": "2020-02-17",
                                    "1": "25"
                                },
                                {
                                    "0": "2020-02-08",
                                    "1": "25"
                                },
                                {
                                    "0": "2020-02-18",
                                    "1": "25"
                                },
                                {
                                    "0": "2020-02-09",
                                    "1": "25"
                                },
                                {
                                    "0": "2020-02-10",
                                    "1": "25"
                                },
                                {
                                    "0": "2020-02-20",
                                    "1": "25"
                                },
                                {
                                    "0": "2020-02-21",
                                    "1": "25"
                                },
                                {
                                    "0": "2020-02-21",
                                    "1": "25"
                                },
                                {
                                    "0": "2020-02-22",
                                    "1": "25"
                                },
                                {
                                    "0": "2020-02-22",
                                    "1": "25"
                                },
                                {
                                    "0": "2020-02-22",
                                    "1": "25"
                                },
                                {
                                    "0": "2020-02-23",
                                    "1": "25"
                                },
                                {
                                    "0": "2020-02-23",
                                    "1": "25"
                                },
                                {
                                    "0": "2020-02-23",
                                    "1": "25"
                                },
                                {
                                    "0": "2020-02-23",
                                    "1": "25"
                                },
                                {
                                    "0": "2020-02-24",
                                    "1": "25"
                                },
                                {
                                    "0": "2020-02-17",
                                    "1": "25"
                                },
                                {
                                    "0": "2020-02-29",
                                    "1": "25"
                                },
                                {
                                    "0": "2020-02-29",
                                    "1": "25"
                                },
                                {
                                    "0": "2020-02-29",
                                    "1": "25"
                                },
                                {
                                    "0": "2020-03-01",
                                    "1": "24"
                                }
                            ]
                        },
                        "text/html": [
                            "<table>",
                            "<tr><th>InvoiceDueDate</th><th>(No column name)</th></tr>",
                            "<tr><td>2019-11-08</td><td>28</td></tr>",
                            "<tr><td>2019-11-10</td><td>28</td></tr>",
                            "<tr><td>2019-11-13</td><td>28</td></tr>",
                            "<tr><td>2019-11-16</td><td>28</td></tr>",
                            "<tr><td>2019-11-16</td><td>28</td></tr>",
                            "<tr><td>2019-11-16</td><td>28</td></tr>",
                            "<tr><td>2019-11-21</td><td>28</td></tr>",
                            "<tr><td>2019-11-04</td><td>28</td></tr>",
                            "<tr><td>2019-11-24</td><td>28</td></tr>",
                            "<tr><td>2019-11-24</td><td>28</td></tr>",
                            "<tr><td>2019-11-25</td><td>28</td></tr>",
                            "<tr><td>2019-11-16</td><td>28</td></tr>",
                            "<tr><td>2019-11-20</td><td>28</td></tr>",
                            "<tr><td>2019-12-10</td><td>27</td></tr>",
                            "<tr><td>2019-12-02</td><td>27</td></tr>",
                            "<tr><td>2019-11-23</td><td>28</td></tr>",
                            "<tr><td>2019-12-04</td><td>27</td></tr>",
                            "<tr><td>2019-12-05</td><td>27</td></tr>",
                            "<tr><td>2019-11-17</td><td>28</td></tr>",
                            "<tr><td>2019-12-19</td><td>27</td></tr>",
                            "<tr><td>2019-11-30</td><td>28</td></tr>",
                            "<tr><td>2019-12-10</td><td>27</td></tr>",
                            "<tr><td>2019-12-02</td><td>27</td></tr>",
                            "<tr><td>2020-01-02</td><td>26</td></tr>",
                            "<tr><td>2019-12-12</td><td>27</td></tr>",
                            "<tr><td>2019-12-13</td><td>27</td></tr>",
                            "<tr><td>2019-11-25</td><td>28</td></tr>",
                            "<tr><td>2019-12-15</td><td>27</td></tr>",
                            "<tr><td>2019-12-28</td><td>27</td></tr>",
                            "<tr><td>2019-12-19</td><td>27</td></tr>",
                            "<tr><td>2019-12-20</td><td>27</td></tr>",
                            "<tr><td>2019-12-20</td><td>27</td></tr>",
                            "<tr><td>2019-12-22</td><td>27</td></tr>",
                            "<tr><td>2019-12-22</td><td>27</td></tr>",
                            "<tr><td>2020-01-04</td><td>26</td></tr>",
                            "<tr><td>2019-12-24</td><td>27</td></tr>",
                            "<tr><td>2019-12-24</td><td>27</td></tr>",
                            "<tr><td>2019-12-25</td><td>27</td></tr>",
                            "<tr><td>2019-12-27</td><td>27</td></tr>",
                            "<tr><td>2019-12-28</td><td>27</td></tr>",
                            "<tr><td>2019-12-28</td><td>27</td></tr>",
                            "<tr><td>2019-12-28</td><td>27</td></tr>",
                            "<tr><td>2020-01-01</td><td>26</td></tr>",
                            "<tr><td>2019-12-21</td><td>27</td></tr>",
                            "<tr><td>2020-01-01</td><td>26</td></tr>",
                            "<tr><td>2020-01-03</td><td>26</td></tr>",
                            "<tr><td>2019-12-23</td><td>27</td></tr>",
                            "<tr><td>2020-01-03</td><td>26</td></tr>",
                            "<tr><td>2019-12-24</td><td>27</td></tr>",
                            "<tr><td>2020-01-07</td><td>26</td></tr>",
                            "<tr><td>2020-01-08</td><td>26</td></tr>",
                            "<tr><td>2019-12-19</td><td>27</td></tr>",
                            "<tr><td>2019-12-28</td><td>27</td></tr>",
                            "<tr><td>2020-01-10</td><td>26</td></tr>",
                            "<tr><td>2020-01-10</td><td>26</td></tr>",
                            "<tr><td>2019-12-21</td><td>27</td></tr>",
                            "<tr><td>2020-01-31</td><td>26</td></tr>",
                            "<tr><td>2020-01-11</td><td>26</td></tr>",
                            "<tr><td>2020-01-11</td><td>26</td></tr>",
                            "<tr><td>2020-01-12</td><td>26</td></tr>",
                            "<tr><td>2020-01-25</td><td>26</td></tr>",
                            "<tr><td>2020-01-15</td><td>26</td></tr>",
                            "<tr><td>2020-01-16</td><td>26</td></tr>",
                            "<tr><td>2020-01-17</td><td>26</td></tr>",
                            "<tr><td>2020-01-18</td><td>26</td></tr>",
                            "<tr><td>2020-01-18</td><td>26</td></tr>",
                            "<tr><td>2020-01-20</td><td>26</td></tr>",
                            "<tr><td>2020-01-11</td><td>26</td></tr>",
                            "<tr><td>2020-01-12</td><td>26</td></tr>",
                            "<tr><td>2020-02-01</td><td>25</td></tr>",
                            "<tr><td>2020-01-22</td><td>26</td></tr>",
                            "<tr><td>2020-01-22</td><td>26</td></tr>",
                            "<tr><td>2020-01-03</td><td>26</td></tr>",
                            "<tr><td>2020-02-03</td><td>25</td></tr>",
                            "<tr><td>2020-01-24</td><td>26</td></tr>",
                            "<tr><td>2020-01-24</td><td>26</td></tr>",
                            "<tr><td>2020-01-25</td><td>26</td></tr>",
                            "<tr><td>2020-01-28</td><td>26</td></tr>",
                            "<tr><td>2020-02-09</td><td>25</td></tr>",
                            "<tr><td>2020-01-31</td><td>26</td></tr>",
                            "<tr><td>2020-02-01</td><td>25</td></tr>",
                            "<tr><td>2020-01-25</td><td>26</td></tr>",
                            "<tr><td>2020-01-26</td><td>26</td></tr>",
                            "<tr><td>2020-02-05</td><td>25</td></tr>",
                            "<tr><td>2020-02-06</td><td>25</td></tr>",
                            "<tr><td>2020-02-06</td><td>25</td></tr>",
                            "<tr><td>2020-02-07</td><td>25</td></tr>",
                            "<tr><td>2020-02-07</td><td>25</td></tr>",
                            "<tr><td>2020-02-09</td><td>25</td></tr>",
                            "<tr><td>2020-02-11</td><td>25</td></tr>",
                            "<tr><td>2020-02-04</td><td>25</td></tr>",
                            "<tr><td>2020-02-14</td><td>25</td></tr>",
                            "<tr><td>2020-02-15</td><td>25</td></tr>",
                            "<tr><td>2020-02-17</td><td>25</td></tr>",
                            "<tr><td>2020-02-08</td><td>25</td></tr>",
                            "<tr><td>2020-02-18</td><td>25</td></tr>",
                            "<tr><td>2020-02-09</td><td>25</td></tr>",
                            "<tr><td>2020-02-10</td><td>25</td></tr>",
                            "<tr><td>2020-02-20</td><td>25</td></tr>",
                            "<tr><td>2020-02-21</td><td>25</td></tr>",
                            "<tr><td>2020-02-21</td><td>25</td></tr>",
                            "<tr><td>2020-02-22</td><td>25</td></tr>",
                            "<tr><td>2020-02-22</td><td>25</td></tr>",
                            "<tr><td>2020-02-22</td><td>25</td></tr>",
                            "<tr><td>2020-02-23</td><td>25</td></tr>",
                            "<tr><td>2020-02-23</td><td>25</td></tr>",
                            "<tr><td>2020-02-23</td><td>25</td></tr>",
                            "<tr><td>2020-02-23</td><td>25</td></tr>",
                            "<tr><td>2020-02-24</td><td>25</td></tr>",
                            "<tr><td>2020-02-17</td><td>25</td></tr>",
                            "<tr><td>2020-02-29</td><td>25</td></tr>",
                            "<tr><td>2020-02-29</td><td>25</td></tr>",
                            "<tr><td>2020-02-29</td><td>25</td></tr>",
                            "<tr><td>2020-03-01</td><td>24</td></tr>",
                            "</table>"
                        ]
                    }
                }
            ],
            "execution_count": 17
        },
        {
            "cell_type": "code",
            "source": [
                "SELECT\r\n",
                "    VendorContactFName + ' ' + VendorContactLName as [Full Name]\r\n",
                "FROM    \r\n",
                "    Vendors"
            ],
            "metadata": {
                "azdata_cell_guid": "1bcaf844-c595-46a1-a328-28bf4b239561"
            },
            "outputs": [
                {
                    "output_type": "display_data",
                    "data": {
                        "text/html": "(122 rows affected)"
                    },
                    "metadata": {}
                },
                {
                    "output_type": "display_data",
                    "data": {
                        "text/html": "Total execution time: 00:00:00.003"
                    },
                    "metadata": {}
                },
                {
                    "output_type": "execute_result",
                    "metadata": {},
                    "execution_count": 10,
                    "data": {
                        "application/vnd.dataresource+json": {
                            "schema": {
                                "fields": [
                                    {
                                        "name": "Full Name"
                                    }
                                ]
                            },
                            "data": [
                                {
                                    "0": "Francesco Alberto"
                                },
                                {
                                    "0": "Ania Irvin"
                                },
                                {
                                    "0": "Lukas Liana"
                                },
                                {
                                    "0": "Kenzie Quinn"
                                },
                                {
                                    "0": "Michelle Marks"
                                },
                                {
                                    "0": "Anton Mauro"
                                },
                                {
                                    "0": "Ted Maegen"
                                },
                                {
                                    "0": "Erick Kaleigh"
                                },
                                {
                                    "0": "Kaitlyn Anthoni"
                                },
                                {
                                    "0": "Bill Leigh"
                                },
                                {
                                    "0": "Kaitlin Hostlery"
                                },
                                {
                                    "0": "Kendall Mayte"
                                },
                                {
                                    "0": "Korah Blanca"
                                },
                                {
                                    "0": "Marvin Quintin"
                                },
                                {
                                    "0": "Elisabeth Darien"
                                },
                                {
                                    "0": "Joan Aileen"
                                },
                                {
                                    "0": "Gonzalo Keeton"
                                },
                                {
                                    "0": "Derek Chaddick"
                                },
                                {
                                    "0": "Leann Randrup"
                                },
                                {
                                    "0": "Vanesa Lane"
                                },
                                {
                                    "0": "Malia Marques"
                                },
                                {
                                    "0": "Emily Evan"
                                },
                                {
                                    "0": "Alexandro Alexis"
                                },
                                {
                                    "0": "Juliana Hallie"
                                },
                                {
                                    "0": "Moises Jonessen"
                                },
                                {
                                    "0": "Dusty Colette"
                                },
                                {
                                    "0": "Ingrid Neil"
                                },
                                {
                                    "0": "Jamari Raven"
                                },
                                {
                                    "0": "Aaron Jaquan"
                                },
                                {
                                    "0": "Eileen Lawrence"
                                },
                                {
                                    "0": "Marjorie Essence"
                                },
                                {
                                    "0": "Keely Brooklynn"
                                },
                                {
                                    "0": "Trentin Camron"
                                },
                                {
                                    "0": "Demetrius Hunter"
                                },
                                {
                                    "0": "Deangelo Sydney"
                                },
                                {
                                    "0": "Nikolas Eliana"
                                },
                                {
                                    "0": "Thalia Neftaly"
                                },
                                {
                                    "0": "Harley Myles"
                                },
                                {
                                    "0": "Lucy Bernard"
                                },
                                {
                                    "0": "Rowan Kerry"
                                },
                                {
                                    "0": "Gideon Paris"
                                },
                                {
                                    "0": "Jayda Maxwell"
                                },
                                {
                                    "0": "Troy Antavius"
                                },
                                {
                                    "0": "Kristofer Gerald"
                                },
                                {
                                    "0": "Deborah Damien"
                                },
                                {
                                    "0": "Brittnee Bernardo"
                                },
                                {
                                    "0": "Kila Brenton"
                                },
                                {
                                    "0": "Rashad Holbrooke"
                                },
                                {
                                    "0": "Priscilla Carrollton"
                                },
                                {
                                    "0": "Kylie Smith"
                                },
                                {
                                    "0": "Brian Griffin"
                                },
                                {
                                    "0": "Caitlin Jair"
                                },
                                {
                                    "0": "Kaylea Cheyenne"
                                },
                                {
                                    "0": "Kayle Misael"
                                },
                                {
                                    "0": "Clarence Maeve"
                                },
                                {
                                    "0": "Liam Wood"
                                },
                                {
                                    "0": "Dakota Baylee"
                                },
                                {
                                    "0": "Jovon Walker"
                                },
                                {
                                    "0": "Karina Lacy"
                                },
                                {
                                    "0": "Nashalie Angelica"
                                },
                                {
                                    "0": "Yash Randall"
                                },
                                {
                                    "0": "Trisha Anum"
                                },
                                {
                                    "0": "Grace Oren"
                                },
                                {
                                    "0": "Jeffery Mckayla"
                                },
                                {
                                    "0": "Darnell Lewis"
                                },
                                {
                                    "0": "Tristin Deasia"
                                },
                                {
                                    "0": "Leroy Aryn"
                                },
                                {
                                    "0": "Johnathon Millerton"
                                },
                                {
                                    "0": "Anne Braydon"
                                },
                                {
                                    "0": "Leah Colton"
                                },
                                {
                                    "0": "Cesar Arodondo"
                                },
                                {
                                    "0": "Rachael Danielson"
                                },
                                {
                                    "0": "Zev Alondra"
                                },
                                {
                                    "0": "Salina Edgardo"
                                },
                                {
                                    "0": "Daniel Bradlee"
                                },
                                {
                                    "0": "Julissa Dean"
                                },
                                {
                                    "0": "Kyle Marissa"
                                },
                                {
                                    "0": "Quentin Warren"
                                },
                                {
                                    "0": "Kelsey Eulalia"
                                },
                                {
                                    "0": "Robert Kapil"
                                },
                                {
                                    "0": "Carlee Rodolfo"
                                },
                                {
                                    "0": "Trey Yobani"
                                },
                                {
                                    "0": "Julian Carson"
                                },
                                {
                                    "0": "Jillian Clifford"
                                },
                                {
                                    "0": "Angel Lloyd"
                                },
                                {
                                    "0": "Lorena Josey"
                                },
                                {
                                    "0": "Jeanette Helena"
                                },
                                {
                                    "0": "Hannah Royce"
                                },
                                {
                                    "0": "Nathanael Rothman"
                                },
                                {
                                    "0": "Luciano Destin"
                                },
                                {
                                    "0": "Justin Javen"
                                },
                                {
                                    "0": "Alisha Wesley"
                                },
                                {
                                    "0": "Kyra Francis"
                                },
                                {
                                    "0": "Kurt Nickalus"
                                },
                                {
                                    "0": "Mikayla Damion"
                                },
                                {
                                    "0": "Jan Armando"
                                },
                                {
                                    "0": "Kirsten Story"
                                },
                                {
                                    "0": "Lance Potter"
                                },
                                {
                                    "0": "Samuel Jacobsen"
                                },
                                {
                                    "0": "Anders Rohansen"
                                },
                                {
                                    "0": "Jeffrey Smitzen"
                                },
                                {
                                    "0": "Vance Johnson"
                                },
                                {
                                    "0": "Ron Elmert"
                                },
                                {
                                    "0": "Thom Aaronsen"
                                },
                                {
                                    "0": "Karen Snyder"
                                },
                                {
                                    "0": "Anita Prado"
                                },
                                {
                                    "0": "Walter Bragg"
                                },
                                {
                                    "0": "Wendy Stevens"
                                },
                                {
                                    "0": "Abe Regging"
                                },
                                {
                                    "0": "Laura Kraggin"
                                },
                                {
                                    "0": "Val Pinsippi"
                                },
                                {
                                    "0": "Robert Aranovitch"
                                },
                                {
                                    "0": "Fyodor Finklestein"
                                },
                                {
                                    "0": "Sam Smith"
                                },
                                {
                                    "0": "Mercedez Articunia"
                                },
                                {
                                    "0": "Harold Spivak"
                                },
                                {
                                    "0": "Rachael Bluzinski"
                                },
                                {
                                    "0": "Reba Hernandez"
                                },
                                {
                                    "0": "Charlie Church"
                                },
                                {
                                    "0": "Jaime Ronaldsen"
                                },
                                {
                                    "0": "Violet Beauregard"
                                },
                                {
                                    "0": "Charlie Bucket"
                                }
                            ]
                        },
                        "text/html": [
                            "<table>",
                            "<tr><th>Full Name</th></tr>",
                            "<tr><td>Francesco Alberto</td></tr>",
                            "<tr><td>Ania Irvin</td></tr>",
                            "<tr><td>Lukas Liana</td></tr>",
                            "<tr><td>Kenzie Quinn</td></tr>",
                            "<tr><td>Michelle Marks</td></tr>",
                            "<tr><td>Anton Mauro</td></tr>",
                            "<tr><td>Ted Maegen</td></tr>",
                            "<tr><td>Erick Kaleigh</td></tr>",
                            "<tr><td>Kaitlyn Anthoni</td></tr>",
                            "<tr><td>Bill Leigh</td></tr>",
                            "<tr><td>Kaitlin Hostlery</td></tr>",
                            "<tr><td>Kendall Mayte</td></tr>",
                            "<tr><td>Korah Blanca</td></tr>",
                            "<tr><td>Marvin Quintin</td></tr>",
                            "<tr><td>Elisabeth Darien</td></tr>",
                            "<tr><td>Joan Aileen</td></tr>",
                            "<tr><td>Gonzalo Keeton</td></tr>",
                            "<tr><td>Derek Chaddick</td></tr>",
                            "<tr><td>Leann Randrup</td></tr>",
                            "<tr><td>Vanesa Lane</td></tr>",
                            "<tr><td>Malia Marques</td></tr>",
                            "<tr><td>Emily Evan</td></tr>",
                            "<tr><td>Alexandro Alexis</td></tr>",
                            "<tr><td>Juliana Hallie</td></tr>",
                            "<tr><td>Moises Jonessen</td></tr>",
                            "<tr><td>Dusty Colette</td></tr>",
                            "<tr><td>Ingrid Neil</td></tr>",
                            "<tr><td>Jamari Raven</td></tr>",
                            "<tr><td>Aaron Jaquan</td></tr>",
                            "<tr><td>Eileen Lawrence</td></tr>",
                            "<tr><td>Marjorie Essence</td></tr>",
                            "<tr><td>Keely Brooklynn</td></tr>",
                            "<tr><td>Trentin Camron</td></tr>",
                            "<tr><td>Demetrius Hunter</td></tr>",
                            "<tr><td>Deangelo Sydney</td></tr>",
                            "<tr><td>Nikolas Eliana</td></tr>",
                            "<tr><td>Thalia Neftaly</td></tr>",
                            "<tr><td>Harley Myles</td></tr>",
                            "<tr><td>Lucy Bernard</td></tr>",
                            "<tr><td>Rowan Kerry</td></tr>",
                            "<tr><td>Gideon Paris</td></tr>",
                            "<tr><td>Jayda Maxwell</td></tr>",
                            "<tr><td>Troy Antavius</td></tr>",
                            "<tr><td>Kristofer Gerald</td></tr>",
                            "<tr><td>Deborah Damien</td></tr>",
                            "<tr><td>Brittnee Bernardo</td></tr>",
                            "<tr><td>Kila Brenton</td></tr>",
                            "<tr><td>Rashad Holbrooke</td></tr>",
                            "<tr><td>Priscilla Carrollton</td></tr>",
                            "<tr><td>Kylie Smith</td></tr>",
                            "<tr><td>Brian Griffin</td></tr>",
                            "<tr><td>Caitlin Jair</td></tr>",
                            "<tr><td>Kaylea Cheyenne</td></tr>",
                            "<tr><td>Kayle Misael</td></tr>",
                            "<tr><td>Clarence Maeve</td></tr>",
                            "<tr><td>Liam Wood</td></tr>",
                            "<tr><td>Dakota Baylee</td></tr>",
                            "<tr><td>Jovon Walker</td></tr>",
                            "<tr><td>Karina Lacy</td></tr>",
                            "<tr><td>Nashalie Angelica</td></tr>",
                            "<tr><td>Yash Randall</td></tr>",
                            "<tr><td>Trisha Anum</td></tr>",
                            "<tr><td>Grace Oren</td></tr>",
                            "<tr><td>Jeffery Mckayla</td></tr>",
                            "<tr><td>Darnell Lewis</td></tr>",
                            "<tr><td>Tristin Deasia</td></tr>",
                            "<tr><td>Leroy Aryn</td></tr>",
                            "<tr><td>Johnathon Millerton</td></tr>",
                            "<tr><td>Anne Braydon</td></tr>",
                            "<tr><td>Leah Colton</td></tr>",
                            "<tr><td>Cesar Arodondo</td></tr>",
                            "<tr><td>Rachael Danielson</td></tr>",
                            "<tr><td>Zev Alondra</td></tr>",
                            "<tr><td>Salina Edgardo</td></tr>",
                            "<tr><td>Daniel Bradlee</td></tr>",
                            "<tr><td>Julissa Dean</td></tr>",
                            "<tr><td>Kyle Marissa</td></tr>",
                            "<tr><td>Quentin Warren</td></tr>",
                            "<tr><td>Kelsey Eulalia</td></tr>",
                            "<tr><td>Robert Kapil</td></tr>",
                            "<tr><td>Carlee Rodolfo</td></tr>",
                            "<tr><td>Trey Yobani</td></tr>",
                            "<tr><td>Julian Carson</td></tr>",
                            "<tr><td>Jillian Clifford</td></tr>",
                            "<tr><td>Angel Lloyd</td></tr>",
                            "<tr><td>Lorena Josey</td></tr>",
                            "<tr><td>Jeanette Helena</td></tr>",
                            "<tr><td>Hannah Royce</td></tr>",
                            "<tr><td>Nathanael Rothman</td></tr>",
                            "<tr><td>Luciano Destin</td></tr>",
                            "<tr><td>Justin Javen</td></tr>",
                            "<tr><td>Alisha Wesley</td></tr>",
                            "<tr><td>Kyra Francis</td></tr>",
                            "<tr><td>Kurt Nickalus</td></tr>",
                            "<tr><td>Mikayla Damion</td></tr>",
                            "<tr><td>Jan Armando</td></tr>",
                            "<tr><td>Kirsten Story</td></tr>",
                            "<tr><td>Lance Potter</td></tr>",
                            "<tr><td>Samuel Jacobsen</td></tr>",
                            "<tr><td>Anders Rohansen</td></tr>",
                            "<tr><td>Jeffrey Smitzen</td></tr>",
                            "<tr><td>Vance Johnson</td></tr>",
                            "<tr><td>Ron Elmert</td></tr>",
                            "<tr><td>Thom Aaronsen</td></tr>",
                            "<tr><td>Karen Snyder</td></tr>",
                            "<tr><td>Anita Prado</td></tr>",
                            "<tr><td>Walter Bragg</td></tr>",
                            "<tr><td>Wendy Stevens</td></tr>",
                            "<tr><td>Abe Regging</td></tr>",
                            "<tr><td>Laura Kraggin</td></tr>",
                            "<tr><td>Val Pinsippi</td></tr>",
                            "<tr><td>Robert Aranovitch</td></tr>",
                            "<tr><td>Fyodor Finklestein</td></tr>",
                            "<tr><td>Sam Smith</td></tr>",
                            "<tr><td>Mercedez Articunia</td></tr>",
                            "<tr><td>Harold Spivak</td></tr>",
                            "<tr><td>Rachael Bluzinski</td></tr>",
                            "<tr><td>Reba Hernandez</td></tr>",
                            "<tr><td>Charlie Church</td></tr>",
                            "<tr><td>Jaime Ronaldsen</td></tr>",
                            "<tr><td>Violet Beauregard</td></tr>",
                            "<tr><td>Charlie Bucket</td></tr>",
                            "</table>"
                        ]
                    }
                }
            ],
            "execution_count": 10
        },
        {
            "cell_type": "code",
            "source": [
                "SELECT\r\n",
                "    InvoiceID\r\n",
                "    ,InvoiceTotal\r\n",
                "    ,CreditTotal + PaymentTotal\r\n",
                "        AS TotalCredits\r\n",
                "FROM \r\n",
                "    Invoices\r\n",
                "WHERE \r\n",
                "    InvoiceID = 17\r\n",
                "GO\r\n",
                "select count(*) from Vendors    "
            ],
            "metadata": {
                "azdata_cell_guid": "e0c54952-0ef6-49d9-b76d-5d95318be6d6"
            },
            "outputs": [
                {
                    "output_type": "error",
                    "evalue": "Msg 207, Level 16, State 1, Line 1\r\nInvalid column name 'CreditTotal'.",
                    "ename": "",
                    "traceback": []
                },
                {
                    "output_type": "error",
                    "evalue": "Msg 207, Level 16, State 1, Line 1\r\nInvalid column name 'PaymentTotal'.",
                    "ename": "",
                    "traceback": []
                },
                {
                    "output_type": "display_data",
                    "data": {
                        "text/html": "(1 row affected)"
                    },
                    "metadata": {}
                },
                {
                    "output_type": "display_data",
                    "data": {
                        "text/html": "Total execution time: 00:00:00.003"
                    },
                    "metadata": {}
                },
                {
                    "output_type": "execute_result",
                    "metadata": {},
                    "execution_count": 4,
                    "data": {
                        "application/vnd.dataresource+json": {
                            "schema": {
                                "fields": [
                                    {
                                        "name": "(No column name)"
                                    }
                                ]
                            },
                            "data": [
                                {
                                    "0": "122"
                                }
                            ]
                        },
                        "text/html": [
                            "<table>",
                            "<tr><th>(No column name)</th></tr>",
                            "<tr><td>122</td></tr>",
                            "</table>"
                        ]
                    }
                }
            ],
            "execution_count": 4
        },
        {
            "cell_type": "code",
            "source": [
                "select count(*) from Vendors"
            ],
            "metadata": {
                "azdata_cell_guid": "10400f54-d820-442f-a380-ca51180f9e12"
            },
            "outputs": [
                {
                    "output_type": "display_data",
                    "data": {
                        "text/html": "(1 row affected)"
                    },
                    "metadata": {}
                },
                {
                    "output_type": "display_data",
                    "data": {
                        "text/html": "Total execution time: 00:00:00.004"
                    },
                    "metadata": {}
                },
                {
                    "output_type": "execute_result",
                    "metadata": {},
                    "execution_count": 3,
                    "data": {
                        "application/vnd.dataresource+json": {
                            "schema": {
                                "fields": [
                                    {
                                        "name": "(No column name)"
                                    }
                                ]
                            },
                            "data": [
                                {
                                    "0": "122"
                                }
                            ]
                        },
                        "text/html": [
                            "<table>",
                            "<tr><th>(No column name)</th></tr>",
                            "<tr><td>122</td></tr>",
                            "</table>"
                        ]
                    }
                }
            ],
            "execution_count": 3
        }
    ]
}