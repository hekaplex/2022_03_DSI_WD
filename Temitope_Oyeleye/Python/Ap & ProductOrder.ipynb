{
    "metadata": {
        "kernelspec": {
            "name": "SQL",
            "display_name": "SQL",
            "language": "sql"
        },
        "language_info": {
            "name": "sql",
            "version": ""
        }
    },
    "nbformat_minor": 2,
    "nbformat": 4,
    "cells": [
        {
            "cell_type": "code",
            "source": [
                "SELECT \r\n",
                "TOP 18 CustID\r\n",
                "ORDER BY\r\n",
                "    ,CustCity\r\n",
                "    ,CustState\r\n",
                "FROM Customers"
            ],
            "metadata": {
                "azdata_cell_guid": "9be47087-521d-4b4e-a491-681e2127421b"
            },
            "outputs": [
                {
                    "output_type": "error",
                    "evalue": "Msg 102, Level 15, State 1, Line 4\r\nIncorrect syntax near ','.",
                    "ename": "",
                    "traceback": []
                },
                {
                    "output_type": "display_data",
                    "data": {
                        "text/html": "Total execution time: 00:00:00.001"
                    },
                    "metadata": {}
                }
            ],
            "execution_count": 4
        }
    ]
}