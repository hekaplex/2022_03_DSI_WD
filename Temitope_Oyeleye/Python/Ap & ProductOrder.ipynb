{
    "metadata": {
        "kernelspec": {
            "name": "SQL",
            "display_name": "SQL",
            "language": "sql"
        },
        "language_info": {
            "name": "sql",
            "version": ""
        }
    },
    "nbformat_minor": 2,
    "nbformat": 4,
    "cells": [
        {
            "cell_type": "code",
            "source": [
                "SELECT \r\n",
                "TOP 5 CustID\r\n",
                "FROM Customers\r\n",
                "ORDER BY\r\n",
                "    CustCity\r\n",
                "    ,CustState\r\n",
                "GO\r\n",
                "\r\n",
                "SELECT DISTINCT CustCity, CustAddress\r\n",
                "FROM Customers;\r\n",
                "GO"
            ],
            "metadata": {
                "azdata_cell_guid": "9be47087-521d-4b4e-a491-681e2127421b"
            },
            "outputs": [
                {
                    "output_type": "display_data",
                    "data": {
                        "text/html": "(5 rows affected)"
                    },
                    "metadata": {}
                },
                {
                    "output_type": "display_data",
                    "data": {
                        "text/html": "(25 rows affected)"
                    },
                    "metadata": {}
                },
                {
                    "output_type": "display_data",
                    "data": {
                        "text/html": "Total execution time: 00:00:00.007"
                    },
                    "metadata": {}
                },
                {
                    "output_type": "execute_result",
                    "metadata": {},
                    "execution_count": 7,
                    "data": {
                        "application/vnd.dataresource+json": {
                            "schema": {
                                "fields": [
                                    {
                                        "name": "CustID"
                                    }
                                ]
                            },
                            "data": [
                                {
                                    "0": "20"
                                },
                                {
                                    "0": "6"
                                },
                                {
                                    "0": "5"
                                },
                                {
                                    "0": "1"
                                },
                                {
                                    "0": "21"
                                }
                            ]
                        },
                        "text/html": [
                            "<table>",
                            "<tr><th>CustID</th></tr>",
                            "<tr><td>20</td></tr>",
                            "<tr><td>6</td></tr>",
                            "<tr><td>5</td></tr>",
                            "<tr><td>1</td></tr>",
                            "<tr><td>21</td></tr>",
                            "</table>"
                        ]
                    }
                },
                {
                    "output_type": "execute_result",
                    "metadata": {},
                    "execution_count": 7,
                    "data": {
                        "application/vnd.dataresource+json": {
                            "schema": {
                                "fields": [
                                    {
                                        "name": "CustCity"
                                    },
                                    {
                                        "name": "CustAddress"
                                    }
                                ]
                            },
                            "data": [
                                {
                                    "0": "Charlotte",
                                    "1": "Five Lakepointe Plaza, Ste 500"
                                },
                                {
                                    "0": "Cincinnati",
                                    "1": "3250 Spring Grove Ave"
                                },
                                {
                                    "0": "Cleves",
                                    "1": "4775 E Miami River Rd"
                                },
                                {
                                    "0": "Columbus",
                                    "1": "1555 W Lane Ave"
                                },
                                {
                                    "0": "Columbus",
                                    "1": "2677 Industrial Circle Dr"
                                },
                                {
                                    "0": "Fairfield",
                                    "1": "12 Daniel Road"
                                },
                                {
                                    "0": "Fairfield",
                                    "1": "9022 E Merchant Wy"
                                },
                                {
                                    "0": "Fresno",
                                    "1": "2508 W Shaw Ave"
                                },
                                {
                                    "0": "Fresno",
                                    "1": "3467 W Shaw Ave #103"
                                },
                                {
                                    "0": "Fresno",
                                    "1": "415 E Olive Ave"
                                },
                                {
                                    "0": "Los Angeles",
                                    "1": "1033 N Sycamore Ave."
                                },
                                {
                                    "0": "Los Angeles",
                                    "1": "882 W Easton Wy"
                                },
                                {
                                    "0": "Madison",
                                    "1": "11 E Rancho Madera Rd"
                                },
                                {
                                    "0": "Manhatttan Beach",
                                    "1": "627 Aviation Way"
                                },
                                {
                                    "0": "New York",
                                    "1": "60 Madison Ave"
                                },
                                {
                                    "0": "Orange",
                                    "1": "1099 N Farcourt St"
                                },
                                {
                                    "0": "Palo Alto",
                                    "1": "3433 E Widget Ave"
                                },
                                {
                                    "0": "Phoenix",
                                    "1": "789 E Mercy Ave"
                                },
                                {
                                    "0": "Sacramento",
                                    "1": "7833 N Ridge Rd"
                                },
                                {
                                    "0": "San Francisco",
                                    "1": "372 San Quentin"
                                },
                                {
                                    "0": "Takoma Park",
                                    "1": "12345 E 67th Ave NW"
                                },
                                {
                                    "0": "Tarrytown",
                                    "1": "828 S Broadway"
                                },
                                {
                                    "0": "Valencia",
                                    "1": "28210 N Avenue Stanford"
                                },
                                {
                                    "0": "Washington",
                                    "1": "2021 K Street Nw"
                                },
                                {
                                    "0": "Washington",
                                    "1": "2401 Wisconsin Ave NW"
                                }
                            ]
                        },
                        "text/html": [
                            "<table>",
                            "<tr><th>CustCity</th><th>CustAddress</th></tr>",
                            "<tr><td>Charlotte</td><td>Five Lakepointe Plaza, Ste 500</td></tr>",
                            "<tr><td>Cincinnati</td><td>3250 Spring Grove Ave</td></tr>",
                            "<tr><td>Cleves</td><td>4775 E Miami River Rd</td></tr>",
                            "<tr><td>Columbus</td><td>1555 W Lane Ave</td></tr>",
                            "<tr><td>Columbus</td><td>2677 Industrial Circle Dr</td></tr>",
                            "<tr><td>Fairfield</td><td>12 Daniel Road</td></tr>",
                            "<tr><td>Fairfield</td><td>9022 E Merchant Wy</td></tr>",
                            "<tr><td>Fresno</td><td>2508 W Shaw Ave</td></tr>",
                            "<tr><td>Fresno</td><td>3467 W Shaw Ave #103</td></tr>",
                            "<tr><td>Fresno</td><td>415 E Olive Ave</td></tr>",
                            "<tr><td>Los Angeles</td><td>1033 N Sycamore Ave.</td></tr>",
                            "<tr><td>Los Angeles</td><td>882 W Easton Wy</td></tr>",
                            "<tr><td>Madison</td><td>11 E Rancho Madera Rd</td></tr>",
                            "<tr><td>Manhatttan Beach</td><td>627 Aviation Way</td></tr>",
                            "<tr><td>New York</td><td>60 Madison Ave</td></tr>",
                            "<tr><td>Orange</td><td>1099 N Farcourt St</td></tr>",
                            "<tr><td>Palo Alto</td><td>3433 E Widget Ave</td></tr>",
                            "<tr><td>Phoenix</td><td>789 E Mercy Ave</td></tr>",
                            "<tr><td>Sacramento</td><td>7833 N Ridge Rd</td></tr>",
                            "<tr><td>San Francisco</td><td>372 San Quentin</td></tr>",
                            "<tr><td>Takoma Park</td><td>12345 E 67th Ave NW</td></tr>",
                            "<tr><td>Tarrytown</td><td>828 S Broadway</td></tr>",
                            "<tr><td>Valencia</td><td>28210 N Avenue Stanford</td></tr>",
                            "<tr><td>Washington</td><td>2021 K Street Nw</td></tr>",
                            "<tr><td>Washington</td><td>2401 Wisconsin Ave NW</td></tr>",
                            "</table>"
                        ]
                    }
                }
            ],
            "execution_count": 7
        }
    ]
}