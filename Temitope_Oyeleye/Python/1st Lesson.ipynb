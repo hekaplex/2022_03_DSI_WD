{
 "cells": [
  {
   "cell_type": "code",
   "execution_count": 1,
   "metadata": {},
   "outputs": [
    {
     "name": "stdout",
     "output_type": "stream",
     "text": [
      " Volume in drive C is OS\n",
      " Volume Serial Number is 2601-BD2E\n",
      "\n",
      " Directory of C:\\\n",
      "\n",
      "04/27/2022  04:12 PM    <DIR>          A-Power Apps App in a Day AIAD August 2021\n",
      "04/26/2022  03:13 PM    <DIR>          AppInADay\n",
      "04/19/2022  01:18 AM    <DIR>          Apps\n",
      "04/19/2022  01:18 AM    <DIR>          backup\n",
      "04/20/2022  11:11 AM    <DIR>          DA100\n",
      "04/20/2022  11:02 AM        55,616,590 DA100.zip\n",
      "04/19/2022  01:18 AM    <DIR>          DELL\n",
      "04/28/2022  10:18 AM    <DIR>          Dev\n",
      "04/19/2022  01:18 AM    <DIR>          Drivers\n",
      "04/19/2022  09:15 AM    <DIR>          h2o-3.36.0.3\n",
      "04/29/2022  07:04 PM    <DIR>          Intel\n",
      "04/19/2022  10:11 AM        73,061,306 OneDrive_2022-04-19.zip\n",
      "06/05/2021  08:10 AM    <DIR>          PerfLogs\n",
      "04/25/2022  11:08 AM    <DIR>          PL 200\n",
      "04/25/2022  11:09 AM    <DIR>          PL 900\n",
      "04/19/2022  10:25 AM    <DIR>          Power BI_Adv_Model\n",
      "04/20/2022  06:40 PM        89,575,424 PowerBiReportBuilder.msi\n",
      "04/29/2022  06:26 PM    <DIR>          Program Files\n",
      "04/29/2022  06:06 PM    <DIR>          Program Files (x86)\n",
      "04/20/2022  05:53 PM         1,348,904 python-3.7.9-amd64-webinstall.exe\n",
      "04/20/2022  07:04 PM    <DIR>          SQL2019\n",
      "04/29/2022  09:21 AM    <DIR>          Users\n",
      "04/26/2022  11:13 PM    <DIR>          Windows\n",
      "               4 File(s)    219,602,224 bytes\n",
      "              19 Dir(s)  99,582,513,152 bytes free\n"
     ]
    }
   ],
   "source": [
    "'''\n",
    "multi-line comments\n",
    "creted by using\n",
    "three single quotes\n",
    "'''\n",
    "var = 'C:\\\\' #single line commment - set variable and use special character for '\\'\n",
    "!dir $var"
   ]
  },
  {
   "cell_type": "code",
   "execution_count": 2,
   "metadata": {},
   "outputs": [
    {
     "name": "stdout",
     "output_type": "stream",
     "text": [
      "Requirement already satisfied: pandas in c:\\users\\temitope\\appdata\\roaming\\python\\python37\\site-packages (1.3.5)\n",
      "Requirement already satisfied: pytz>=2017.3 in c:\\users\\temitope\\appdata\\roaming\\python\\python37\\site-packages (from pandas) (2022.1)\n",
      "Requirement already satisfied: numpy>=1.17.3 in c:\\users\\temitope\\appdata\\roaming\\python\\python37\\site-packages (from pandas) (1.21.6)\n",
      "Requirement already satisfied: python-dateutil>=2.7.3 in c:\\users\\temitope\\appdata\\roaming\\python\\python37\\site-packages (from pandas) (2.8.2)\n",
      "Requirement already satisfied: six>=1.5 in c:\\users\\temitope\\appdata\\roaming\\python\\python37\\site-packages (from python-dateutil>=2.7.3->pandas) (1.16.0)\n"
     ]
    }
   ],
   "source": [
    "#Ex. code may have \"import pandas\"\n",
    "%pip install pandas"
   ]
  },
  {
   "cell_type": "code",
   "execution_count": 4,
   "metadata": {},
   "outputs": [
    {
     "data": {
      "text/plain": [
       "'Oyin'"
      ]
     },
     "execution_count": 4,
     "metadata": {},
     "output_type": "execute_result"
    }
   ],
   "source": [
    "#data types and input function\n",
    "name = input(\"please type name\")"
   ]
  },
  {
   "cell_type": "code",
   "execution_count": 6,
   "metadata": {},
   "outputs": [
    {
     "data": {
      "text/plain": [
       "'Oyin'"
      ]
     },
     "execution_count": 6,
     "metadata": {},
     "output_type": "execute_result"
    }
   ],
   "source": [
    "name"
   ]
  },
  {
   "cell_type": "code",
   "execution_count": 8,
   "metadata": {},
   "outputs": [
    {
     "name": "stdout",
     "output_type": "stream",
     "text": [
      "Hello Oyin\n"
     ]
    }
   ],
   "source": [
    "# print function\n",
    "print(\"Hello \"+ name)"
   ]
  },
  {
   "cell_type": "code",
   "execution_count": 10,
   "metadata": {},
   "outputs": [
    {
     "data": {
      "text/plain": [
       "str"
      ]
     },
     "execution_count": 10,
     "metadata": {},
     "output_type": "execute_result"
    }
   ],
   "source": [
    "type(name)"
   ]
  },
  {
   "cell_type": "code",
   "execution_count": 11,
   "metadata": {},
   "outputs": [
    {
     "name": "stdout",
     "output_type": "stream",
     "text": [
      "Hello Hello Oyin\n",
      "Hello Hello Oyin\n",
      "Hello Hello Oyin\n",
      "\n"
     ]
    }
   ],
   "source": [
    "#ASCII art\n",
    "name = input(\"please type name\")\n",
    "#convert from str to int\n",
    "repeat = int(input(\"number of repeats\"))\n",
    "#add a return special character \n",
    "core_string = \"Hello \"+name+\"\\n\"\n",
    "print(core_string * repeat)"
   ]
  }
 ],
 "metadata": {
  "interpreter": {
   "hash": "54fd3f1b2bd23755b00a0e324146e7f8e464c4f32d40938a0aeeb752ec0c8b3b"
  },
  "kernelspec": {
   "display_name": "Python 3.7.9 64-bit",
   "language": "python",
   "name": "python3"
  },
  "language_info": {
   "codemirror_mode": {
    "name": "ipython",
    "version": 3
   },
   "file_extension": ".py",
   "mimetype": "text/x-python",
   "name": "python",
   "nbconvert_exporter": "python",
   "pygments_lexer": "ipython3",
   "version": "3.7.9"
  },
  "orig_nbformat": 4
 },
 "nbformat": 4,
 "nbformat_minor": 2
}
