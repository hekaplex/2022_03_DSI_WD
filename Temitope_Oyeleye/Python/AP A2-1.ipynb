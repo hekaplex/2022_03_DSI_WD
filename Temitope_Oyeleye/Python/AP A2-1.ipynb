{
    "metadata": {
        "kernelspec": {
            "name": "SQL",
            "display_name": "SQL",
            "language": "sql"
        },
        "language_info": {
            "name": "sql",
            "version": ""
        }
    },
    "nbformat_minor": 2,
    "nbformat": 4,
    "cells": [
        {
            "cell_type": "code",
            "source": [
                "SELECT InvoiceDate, VendorName\r\n",
                "FROM Vendors JOIN Invoices\r\n",
                "    ON Vendors.VendorID = Invoices.VendorID;\r\n",
                "GO\r\n",
                "\r\n",
                "SELECT VendorID, CreditTotal \r\n",
                "    FROM Invoices\r\n",
                "INTERSECT\r\n",
                "SELECT VendorID, CreditTotal \r\n",
                "    FROM Invoices;\r\n",
                "GO\r\n",
                "\r\n",
                "SELECT InvoiceID, AVG(InvoiceTotal) AS AverageInvoiceAmount\r\n",
                "FROM Invoices\r\n",
                "GROUP BY InvoiceID\r\n",
                "HAVING AVG(InvoiceTotal) < 2000\r\n",
                "ORDER BY AverageInvoiceAmount ASC;\r\n",
                "GO\r\n",
                "\r\n",
                "SELECT InvoiceID, InvoiceTotal, COUNT (*) AS QtyVendors\r\n",
                "FROM Invoices\r\n",
                "WHERE InvoiceTotal > 3000\r\n",
                "GROUP BY GROUPING SETS(InvoiceID, InvoiceTotal)\r\n",
                "ORDER BY InvoiceID DESC, InvoiceTotal DESC;\r\n",
                "\r\n",
                "\r\n",
                ""
            ],
            "metadata": {
                "azdata_cell_guid": "d741cb25-56df-413f-8795-a4e94f43154e",
                "tags": []
            },
            "outputs": [
                {
                    "output_type": "display_data",
                    "data": {
                        "text/html": "(114 rows affected)"
                    },
                    "metadata": {}
                },
                {
                    "output_type": "display_data",
                    "data": {
                        "text/html": "(37 rows affected)"
                    },
                    "metadata": {}
                },
                {
                    "output_type": "display_data",
                    "data": {
                        "text/html": "(95 rows affected)"
                    },
                    "metadata": {}
                },
                {
                    "output_type": "display_data",
                    "data": {
                        "text/html": "(22 rows affected)"
                    },
                    "metadata": {}
                },
                {
                    "output_type": "display_data",
                    "data": {
                        "text/html": "Total execution time: 00:00:00.030"
                    },
                    "metadata": {}
                },
                {
                    "output_type": "execute_result",
                    "metadata": {},
                    "execution_count": 4,
                    "data": {
                        "application/vnd.dataresource+json": {
                            "schema": {
                                "fields": [
                                    {
                                        "name": "InvoiceDate"
                                    },
                                    {
                                        "name": "VendorName"
                                    }
                                ]
                            },
                            "data": [
                                {
                                    "0": "2019-11-07",
                                    "1": "IBM"
                                },
                                {
                                    "0": "2019-12-09",
                                    "1": "IBM"
                                },
                                {
                                    "0": "2019-12-03",
                                    "1": "Blue Cross"
                                },
                                {
                                    "0": "2019-12-07",
                                    "1": "Blue Cross"
                                },
                                {
                                    "0": "2020-02-01",
                                    "1": "Blue Cross"
                                },
                                {
                                    "0": "2019-11-03",
                                    "1": "Fresno County Tax Collector"
                                },
                                {
                                    "0": "2019-12-01",
                                    "1": "Data Reproductions Corp"
                                },
                                {
                                    "0": "2020-01-10",
                                    "1": "Data Reproductions Corp"
                                },
                                {
                                    "0": "2020-01-28",
                                    "1": "Cardinal Business Media, Inc."
                                },
                                {
                                    "0": "2019-12-22",
                                    "1": "Cardinal Business Media, Inc."
                                },
                                {
                                    "0": "2019-12-21",
                                    "1": "Wang Laboratories, Inc."
                                },
                                {
                                    "0": "2020-01-19",
                                    "1": "Reiter's Scientific & Pro Books"
                                },
                                {
                                    "0": "2020-01-21",
                                    "1": "Ingram"
                                },
                                {
                                    "0": "2019-12-03",
                                    "1": "Ingram"
                                },
                                {
                                    "0": "2019-12-11",
                                    "1": "Computerworld"
                                },
                                {
                                    "0": "2019-11-15",
                                    "1": "Edward Data Services"
                                },
                                {
                                    "0": "2019-10-24",
                                    "1": "Evans Executone Inc"
                                },
                                {
                                    "0": "2020-01-20",
                                    "1": "Wakefield Co"
                                },
                                {
                                    "0": "2020-01-05",
                                    "1": "Abbey Office Furnishings"
                                },
                                {
                                    "0": "2020-01-06",
                                    "1": "Pacific Bell"
                                },
                                {
                                    "0": "2020-01-15",
                                    "1": "Pacific Bell"
                                },
                                {
                                    "0": "2019-10-30",
                                    "1": "Pacific Bell"
                                },
                                {
                                    "0": "2019-12-04",
                                    "1": "Pacific Bell"
                                },
                                {
                                    "0": "2019-12-09",
                                    "1": "Pacific Bell"
                                },
                                {
                                    "0": "2019-12-01",
                                    "1": "Pacific Bell"
                                },
                                {
                                    "0": "2019-10-26",
                                    "1": "Wells Fargo Bank"
                                },
                                {
                                    "0": "2019-11-13",
                                    "1": "Compuserve"
                                },
                                {
                                    "0": "2019-11-03",
                                    "1": "Compuserve"
                                },
                                {
                                    "0": "2019-12-18",
                                    "1": "Bertelsmann Industry Svcs. Inc"
                                },
                                {
                                    "0": "2019-12-28",
                                    "1": "Cahners Publishing Company"
                                },
                                {
                                    "0": "2019-12-24",
                                    "1": "Coffee Break Service"
                                },
                                {
                                    "0": "2019-12-11",
                                    "1": "Dean Witter Reynolds"
                                },
                                {
                                    "0": "2019-11-21",
                                    "1": "Digital Dreamworks"
                                },
                                {
                                    "0": "2019-11-23",
                                    "1": "Dristas Groom & McCormick"
                                },
                                {
                                    "0": "2020-01-24",
                                    "1": "Ford Motor Credit Company"
                                },
                                {
                                    "0": "2019-11-25",
                                    "1": "Franchise Tax Board"
                                },
                                {
                                    "0": "2019-11-19",
                                    "1": "Gostanian General Building"
                                },
                                {
                                    "0": "2019-11-28",
                                    "1": "Malloy Lithographing Inc"
                                },
                                {
                                    "0": "2020-01-24",
                                    "1": "Malloy Lithographing Inc"
                                },
                                {
                                    "0": "2020-01-19",
                                    "1": "Malloy Lithographing Inc"
                                },
                                {
                                    "0": "2020-01-23",
                                    "1": "Malloy Lithographing Inc"
                                },
                                {
                                    "0": "2020-01-31",
                                    "1": "Malloy Lithographing Inc"
                                },
                                {
                                    "0": "2019-11-13",
                                    "1": "Pollstar"
                                },
                                {
                                    "0": "2019-12-23",
                                    "1": "Postmaster"
                                },
                                {
                                    "0": "2019-11-01",
                                    "1": "Roadway Package System, Inc"
                                },
                                {
                                    "0": "2019-11-10",
                                    "1": "Roadway Package System, Inc"
                                },
                                {
                                    "0": "2019-12-15",
                                    "1": "Roadway Package System, Inc"
                                },
                                {
                                    "0": "2019-12-22",
                                    "1": "Roadway Package System, Inc"
                                },
                                {
                                    "0": "2020-01-15",
                                    "1": "Suburban Propane"
                                },
                                {
                                    "0": "2019-11-11",
                                    "1": "Yesmed, Inc"
                                },
                                {
                                    "0": "2019-10-24",
                                    "1": "Zylka Design"
                                },
                                {
                                    "0": "2019-11-21",
                                    "1": "Zylka Design"
                                },
                                {
                                    "0": "2019-11-25",
                                    "1": "Zylka Design"
                                },
                                {
                                    "0": "2019-11-30",
                                    "1": "Zylka Design"
                                },
                                {
                                    "0": "2019-12-10",
                                    "1": "Zylka Design"
                                },
                                {
                                    "0": "2019-12-25",
                                    "1": "Zylka Design"
                                },
                                {
                                    "0": "2019-12-28",
                                    "1": "Zylka Design"
                                },
                                {
                                    "0": "2020-01-25",
                                    "1": "Zylka Design"
                                },
                                {
                                    "0": "2019-12-12",
                                    "1": "United Parcel Service"
                                },
                                {
                                    "0": "2019-12-20",
                                    "1": "United Parcel Service"
                                },
                                {
                                    "0": "2020-01-01",
                                    "1": "United Parcel Service"
                                },
                                {
                                    "0": "2020-01-23",
                                    "1": "United Parcel Service"
                                },
                                {
                                    "0": "2020-01-24",
                                    "1": "United Parcel Service"
                                },
                                {
                                    "0": "2019-12-01",
                                    "1": "United Parcel Service"
                                },
                                {
                                    "0": "2019-12-16",
                                    "1": "United Parcel Service"
                                },
                                {
                                    "0": "2019-12-08",
                                    "1": "United Parcel Service"
                                },
                                {
                                    "0": "2019-10-08",
                                    "1": "United Parcel Service"
                                },
                                {
                                    "0": "2019-10-10",
                                    "1": "Federal Express Corporation"
                                },
                                {
                                    "0": "2019-10-13",
                                    "1": "Federal Express Corporation"
                                },
                                {
                                    "0": "2019-10-16",
                                    "1": "Federal Express Corporation"
                                },
                                {
                                    "0": "2019-10-16",
                                    "1": "Federal Express Corporation"
                                },
                                {
                                    "0": "2019-10-16",
                                    "1": "Federal Express Corporation"
                                },
                                {
                                    "0": "2019-10-21",
                                    "1": "Federal Express Corporation"
                                },
                                {
                                    "0": "2019-10-24",
                                    "1": "Federal Express Corporation"
                                },
                                {
                                    "0": "2019-10-25",
                                    "1": "Federal Express Corporation"
                                },
                                {
                                    "0": "2019-11-11",
                                    "1": "Federal Express Corporation"
                                },
                                {
                                    "0": "2019-11-05",
                                    "1": "Federal Express Corporation"
                                },
                                {
                                    "0": "2019-11-06",
                                    "1": "Federal Express Corporation"
                                },
                                {
                                    "0": "2019-11-25",
                                    "1": "Federal Express Corporation"
                                },
                                {
                                    "0": "2019-11-26",
                                    "1": "Federal Express Corporation"
                                },
                                {
                                    "0": "2019-11-20",
                                    "1": "Federal Express Corporation"
                                },
                                {
                                    "0": "2019-11-16",
                                    "1": "Federal Express Corporation"
                                },
                                {
                                    "0": "2019-11-13",
                                    "1": "Federal Express Corporation"
                                },
                                {
                                    "0": "2019-11-14",
                                    "1": "Federal Express Corporation"
                                },
                                {
                                    "0": "2019-12-15",
                                    "1": "Federal Express Corporation"
                                },
                                {
                                    "0": "2019-12-11",
                                    "1": "Federal Express Corporation"
                                },
                                {
                                    "0": "2019-12-11",
                                    "1": "Federal Express Corporation"
                                },
                                {
                                    "0": "2019-12-17",
                                    "1": "Federal Express Corporation"
                                },
                                {
                                    "0": "2019-12-18",
                                    "1": "Federal Express Corporation"
                                },
                                {
                                    "0": "2019-12-22",
                                    "1": "Federal Express Corporation"
                                },
                                {
                                    "0": "2019-12-22",
                                    "1": "Federal Express Corporation"
                                },
                                {
                                    "0": "2019-11-23",
                                    "1": "Federal Express Corporation"
                                },
                                {
                                    "0": "2019-11-30",
                                    "1": "Federal Express Corporation"
                                },
                                {
                                    "0": "2019-11-30",
                                    "1": "Federal Express Corporation"
                                },
                                {
                                    "0": "2019-12-10",
                                    "1": "Federal Express Corporation"
                                },
                                {
                                    "0": "2019-12-03",
                                    "1": "Federal Express Corporation"
                                },
                                {
                                    "0": "2020-01-24",
                                    "1": "Federal Express Corporation"
                                },
                                {
                                    "0": "2020-01-23",
                                    "1": "Federal Express Corporation"
                                },
                                {
                                    "0": "2020-01-16",
                                    "1": "Federal Express Corporation"
                                },
                                {
                                    "0": "2020-01-18",
                                    "1": "Federal Express Corporation"
                                },
                                {
                                    "0": "2020-01-21",
                                    "1": "Federal Express Corporation"
                                },
                                {
                                    "0": "2020-01-22",
                                    "1": "Federal Express Corporation"
                                },
                                {
                                    "0": "2020-01-22",
                                    "1": "Federal Express Corporation"
                                },
                                {
                                    "0": "2020-01-02",
                                    "1": "Federal Express Corporation"
                                },
                                {
                                    "0": "2020-01-12",
                                    "1": "Federal Express Corporation"
                                },
                                {
                                    "0": "2020-01-06",
                                    "1": "Federal Express Corporation"
                                },
                                {
                                    "0": "2020-01-07",
                                    "1": "Federal Express Corporation"
                                },
                                {
                                    "0": "2020-01-07",
                                    "1": "Federal Express Corporation"
                                },
                                {
                                    "0": "2020-01-08",
                                    "1": "Federal Express Corporation"
                                },
                                {
                                    "0": "2020-01-08",
                                    "1": "Federal Express Corporation"
                                },
                                {
                                    "0": "2019-12-24",
                                    "1": "Federal Express Corporation"
                                },
                                {
                                    "0": "2019-12-24",
                                    "1": "Federal Express Corporation"
                                },
                                {
                                    "0": "2020-01-30",
                                    "1": "Federal Express Corporation"
                                },
                                {
                                    "0": "2020-02-02",
                                    "1": "Federal Express Corporation"
                                }
                            ]
                        },
                        "text/html": [
                            "<table>",
                            "<tr><th>InvoiceDate</th><th>VendorName</th></tr>",
                            "<tr><td>2019-11-07</td><td>IBM</td></tr>",
                            "<tr><td>2019-12-09</td><td>IBM</td></tr>",
                            "<tr><td>2019-12-03</td><td>Blue Cross</td></tr>",
                            "<tr><td>2019-12-07</td><td>Blue Cross</td></tr>",
                            "<tr><td>2020-02-01</td><td>Blue Cross</td></tr>",
                            "<tr><td>2019-11-03</td><td>Fresno County Tax Collector</td></tr>",
                            "<tr><td>2019-12-01</td><td>Data Reproductions Corp</td></tr>",
                            "<tr><td>2020-01-10</td><td>Data Reproductions Corp</td></tr>",
                            "<tr><td>2020-01-28</td><td>Cardinal Business Media, Inc.</td></tr>",
                            "<tr><td>2019-12-22</td><td>Cardinal Business Media, Inc.</td></tr>",
                            "<tr><td>2019-12-21</td><td>Wang Laboratories, Inc.</td></tr>",
                            "<tr><td>2020-01-19</td><td>Reiter's Scientific &amp; Pro Books</td></tr>",
                            "<tr><td>2020-01-21</td><td>Ingram</td></tr>",
                            "<tr><td>2019-12-03</td><td>Ingram</td></tr>",
                            "<tr><td>2019-12-11</td><td>Computerworld</td></tr>",
                            "<tr><td>2019-11-15</td><td>Edward Data Services</td></tr>",
                            "<tr><td>2019-10-24</td><td>Evans Executone Inc</td></tr>",
                            "<tr><td>2020-01-20</td><td>Wakefield Co</td></tr>",
                            "<tr><td>2020-01-05</td><td>Abbey Office Furnishings</td></tr>",
                            "<tr><td>2020-01-06</td><td>Pacific Bell</td></tr>",
                            "<tr><td>2020-01-15</td><td>Pacific Bell</td></tr>",
                            "<tr><td>2019-10-30</td><td>Pacific Bell</td></tr>",
                            "<tr><td>2019-12-04</td><td>Pacific Bell</td></tr>",
                            "<tr><td>2019-12-09</td><td>Pacific Bell</td></tr>",
                            "<tr><td>2019-12-01</td><td>Pacific Bell</td></tr>",
                            "<tr><td>2019-10-26</td><td>Wells Fargo Bank</td></tr>",
                            "<tr><td>2019-11-13</td><td>Compuserve</td></tr>",
                            "<tr><td>2019-11-03</td><td>Compuserve</td></tr>",
                            "<tr><td>2019-12-18</td><td>Bertelsmann Industry Svcs. Inc</td></tr>",
                            "<tr><td>2019-12-28</td><td>Cahners Publishing Company</td></tr>",
                            "<tr><td>2019-12-24</td><td>Coffee Break Service</td></tr>",
                            "<tr><td>2019-12-11</td><td>Dean Witter Reynolds</td></tr>",
                            "<tr><td>2019-11-21</td><td>Digital Dreamworks</td></tr>",
                            "<tr><td>2019-11-23</td><td>Dristas Groom &amp; McCormick</td></tr>",
                            "<tr><td>2020-01-24</td><td>Ford Motor Credit Company</td></tr>",
                            "<tr><td>2019-11-25</td><td>Franchise Tax Board</td></tr>",
                            "<tr><td>2019-11-19</td><td>Gostanian General Building</td></tr>",
                            "<tr><td>2019-11-28</td><td>Malloy Lithographing Inc</td></tr>",
                            "<tr><td>2020-01-24</td><td>Malloy Lithographing Inc</td></tr>",
                            "<tr><td>2020-01-19</td><td>Malloy Lithographing Inc</td></tr>",
                            "<tr><td>2020-01-23</td><td>Malloy Lithographing Inc</td></tr>",
                            "<tr><td>2020-01-31</td><td>Malloy Lithographing Inc</td></tr>",
                            "<tr><td>2019-11-13</td><td>Pollstar</td></tr>",
                            "<tr><td>2019-12-23</td><td>Postmaster</td></tr>",
                            "<tr><td>2019-11-01</td><td>Roadway Package System, Inc</td></tr>",
                            "<tr><td>2019-11-10</td><td>Roadway Package System, Inc</td></tr>",
                            "<tr><td>2019-12-15</td><td>Roadway Package System, Inc</td></tr>",
                            "<tr><td>2019-12-22</td><td>Roadway Package System, Inc</td></tr>",
                            "<tr><td>2020-01-15</td><td>Suburban Propane</td></tr>",
                            "<tr><td>2019-11-11</td><td>Yesmed, Inc</td></tr>",
                            "<tr><td>2019-10-24</td><td>Zylka Design</td></tr>",
                            "<tr><td>2019-11-21</td><td>Zylka Design</td></tr>",
                            "<tr><td>2019-11-25</td><td>Zylka Design</td></tr>",
                            "<tr><td>2019-11-30</td><td>Zylka Design</td></tr>",
                            "<tr><td>2019-12-10</td><td>Zylka Design</td></tr>",
                            "<tr><td>2019-12-25</td><td>Zylka Design</td></tr>",
                            "<tr><td>2019-12-28</td><td>Zylka Design</td></tr>",
                            "<tr><td>2020-01-25</td><td>Zylka Design</td></tr>",
                            "<tr><td>2019-12-12</td><td>United Parcel Service</td></tr>",
                            "<tr><td>2019-12-20</td><td>United Parcel Service</td></tr>",
                            "<tr><td>2020-01-01</td><td>United Parcel Service</td></tr>",
                            "<tr><td>2020-01-23</td><td>United Parcel Service</td></tr>",
                            "<tr><td>2020-01-24</td><td>United Parcel Service</td></tr>",
                            "<tr><td>2019-12-01</td><td>United Parcel Service</td></tr>",
                            "<tr><td>2019-12-16</td><td>United Parcel Service</td></tr>",
                            "<tr><td>2019-12-08</td><td>United Parcel Service</td></tr>",
                            "<tr><td>2019-10-08</td><td>United Parcel Service</td></tr>",
                            "<tr><td>2019-10-10</td><td>Federal Express Corporation</td></tr>",
                            "<tr><td>2019-10-13</td><td>Federal Express Corporation</td></tr>",
                            "<tr><td>2019-10-16</td><td>Federal Express Corporation</td></tr>",
                            "<tr><td>2019-10-16</td><td>Federal Express Corporation</td></tr>",
                            "<tr><td>2019-10-16</td><td>Federal Express Corporation</td></tr>",
                            "<tr><td>2019-10-21</td><td>Federal Express Corporation</td></tr>",
                            "<tr><td>2019-10-24</td><td>Federal Express Corporation</td></tr>",
                            "<tr><td>2019-10-25</td><td>Federal Express Corporation</td></tr>",
                            "<tr><td>2019-11-11</td><td>Federal Express Corporation</td></tr>",
                            "<tr><td>2019-11-05</td><td>Federal Express Corporation</td></tr>",
                            "<tr><td>2019-11-06</td><td>Federal Express Corporation</td></tr>",
                            "<tr><td>2019-11-25</td><td>Federal Express Corporation</td></tr>",
                            "<tr><td>2019-11-26</td><td>Federal Express Corporation</td></tr>",
                            "<tr><td>2019-11-20</td><td>Federal Express Corporation</td></tr>",
                            "<tr><td>2019-11-16</td><td>Federal Express Corporation</td></tr>",
                            "<tr><td>2019-11-13</td><td>Federal Express Corporation</td></tr>",
                            "<tr><td>2019-11-14</td><td>Federal Express Corporation</td></tr>",
                            "<tr><td>2019-12-15</td><td>Federal Express Corporation</td></tr>",
                            "<tr><td>2019-12-11</td><td>Federal Express Corporation</td></tr>",
                            "<tr><td>2019-12-11</td><td>Federal Express Corporation</td></tr>",
                            "<tr><td>2019-12-17</td><td>Federal Express Corporation</td></tr>",
                            "<tr><td>2019-12-18</td><td>Federal Express Corporation</td></tr>",
                            "<tr><td>2019-12-22</td><td>Federal Express Corporation</td></tr>",
                            "<tr><td>2019-12-22</td><td>Federal Express Corporation</td></tr>",
                            "<tr><td>2019-11-23</td><td>Federal Express Corporation</td></tr>",
                            "<tr><td>2019-11-30</td><td>Federal Express Corporation</td></tr>",
                            "<tr><td>2019-11-30</td><td>Federal Express Corporation</td></tr>",
                            "<tr><td>2019-12-10</td><td>Federal Express Corporation</td></tr>",
                            "<tr><td>2019-12-03</td><td>Federal Express Corporation</td></tr>",
                            "<tr><td>2020-01-24</td><td>Federal Express Corporation</td></tr>",
                            "<tr><td>2020-01-23</td><td>Federal Express Corporation</td></tr>",
                            "<tr><td>2020-01-16</td><td>Federal Express Corporation</td></tr>",
                            "<tr><td>2020-01-18</td><td>Federal Express Corporation</td></tr>",
                            "<tr><td>2020-01-21</td><td>Federal Express Corporation</td></tr>",
                            "<tr><td>2020-01-22</td><td>Federal Express Corporation</td></tr>",
                            "<tr><td>2020-01-22</td><td>Federal Express Corporation</td></tr>",
                            "<tr><td>2020-01-02</td><td>Federal Express Corporation</td></tr>",
                            "<tr><td>2020-01-12</td><td>Federal Express Corporation</td></tr>",
                            "<tr><td>2020-01-06</td><td>Federal Express Corporation</td></tr>",
                            "<tr><td>2020-01-07</td><td>Federal Express Corporation</td></tr>",
                            "<tr><td>2020-01-07</td><td>Federal Express Corporation</td></tr>",
                            "<tr><td>2020-01-08</td><td>Federal Express Corporation</td></tr>",
                            "<tr><td>2020-01-08</td><td>Federal Express Corporation</td></tr>",
                            "<tr><td>2019-12-24</td><td>Federal Express Corporation</td></tr>",
                            "<tr><td>2019-12-24</td><td>Federal Express Corporation</td></tr>",
                            "<tr><td>2020-01-30</td><td>Federal Express Corporation</td></tr>",
                            "<tr><td>2020-02-02</td><td>Federal Express Corporation</td></tr>",
                            "</table>"
                        ]
                    }
                },
                {
                    "output_type": "execute_result",
                    "metadata": {},
                    "execution_count": 4,
                    "data": {
                        "application/vnd.dataresource+json": {
                            "schema": {
                                "fields": [
                                    {
                                        "name": "VendorID"
                                    },
                                    {
                                        "name": "CreditTotal"
                                    }
                                ]
                            },
                            "data": [
                                {
                                    "0": "34",
                                    "1": "0.00"
                                },
                                {
                                    "0": "37",
                                    "1": "0.00"
                                },
                                {
                                    "0": "48",
                                    "1": "0.00"
                                },
                                {
                                    "0": "72",
                                    "1": "0.00"
                                },
                                {
                                    "0": "80",
                                    "1": "0.00"
                                },
                                {
                                    "0": "81",
                                    "1": "0.00"
                                },
                                {
                                    "0": "82",
                                    "1": "0.00"
                                },
                                {
                                    "0": "83",
                                    "1": "0.00"
                                },
                                {
                                    "0": "86",
                                    "1": "0.00"
                                },
                                {
                                    "0": "88",
                                    "1": "0.00"
                                },
                                {
                                    "0": "89",
                                    "1": "0.00"
                                },
                                {
                                    "0": "90",
                                    "1": "0.00"
                                },
                                {
                                    "0": "94",
                                    "1": "0.00"
                                },
                                {
                                    "0": "95",
                                    "1": "0.00"
                                },
                                {
                                    "0": "96",
                                    "1": "0.00"
                                },
                                {
                                    "0": "97",
                                    "1": "0.00"
                                },
                                {
                                    "0": "99",
                                    "1": "0.00"
                                },
                                {
                                    "0": "100",
                                    "1": "0.00"
                                },
                                {
                                    "0": "102",
                                    "1": "0.00"
                                },
                                {
                                    "0": "103",
                                    "1": "0.00"
                                },
                                {
                                    "0": "104",
                                    "1": "0.00"
                                },
                                {
                                    "0": "105",
                                    "1": "0.00"
                                },
                                {
                                    "0": "106",
                                    "1": "0.00"
                                },
                                {
                                    "0": "107",
                                    "1": "0.00"
                                },
                                {
                                    "0": "108",
                                    "1": "0.00"
                                },
                                {
                                    "0": "110",
                                    "1": "0.00"
                                },
                                {
                                    "0": "110",
                                    "1": "1200.00"
                                },
                                {
                                    "0": "110",
                                    "1": "2295.95"
                                },
                                {
                                    "0": "113",
                                    "1": "0.00"
                                },
                                {
                                    "0": "114",
                                    "1": "0.00"
                                },
                                {
                                    "0": "115",
                                    "1": "0.00"
                                },
                                {
                                    "0": "117",
                                    "1": "0.00"
                                },
                                {
                                    "0": "119",
                                    "1": "0.00"
                                },
                                {
                                    "0": "121",
                                    "1": "0.00"
                                },
                                {
                                    "0": "121",
                                    "1": "200.00"
                                },
                                {
                                    "0": "122",
                                    "1": "0.00"
                                },
                                {
                                    "0": "123",
                                    "1": "0.00"
                                }
                            ]
                        },
                        "text/html": [
                            "<table>",
                            "<tr><th>VendorID</th><th>CreditTotal</th></tr>",
                            "<tr><td>34</td><td>0.00</td></tr>",
                            "<tr><td>37</td><td>0.00</td></tr>",
                            "<tr><td>48</td><td>0.00</td></tr>",
                            "<tr><td>72</td><td>0.00</td></tr>",
                            "<tr><td>80</td><td>0.00</td></tr>",
                            "<tr><td>81</td><td>0.00</td></tr>",
                            "<tr><td>82</td><td>0.00</td></tr>",
                            "<tr><td>83</td><td>0.00</td></tr>",
                            "<tr><td>86</td><td>0.00</td></tr>",
                            "<tr><td>88</td><td>0.00</td></tr>",
                            "<tr><td>89</td><td>0.00</td></tr>",
                            "<tr><td>90</td><td>0.00</td></tr>",
                            "<tr><td>94</td><td>0.00</td></tr>",
                            "<tr><td>95</td><td>0.00</td></tr>",
                            "<tr><td>96</td><td>0.00</td></tr>",
                            "<tr><td>97</td><td>0.00</td></tr>",
                            "<tr><td>99</td><td>0.00</td></tr>",
                            "<tr><td>100</td><td>0.00</td></tr>",
                            "<tr><td>102</td><td>0.00</td></tr>",
                            "<tr><td>103</td><td>0.00</td></tr>",
                            "<tr><td>104</td><td>0.00</td></tr>",
                            "<tr><td>105</td><td>0.00</td></tr>",
                            "<tr><td>106</td><td>0.00</td></tr>",
                            "<tr><td>107</td><td>0.00</td></tr>",
                            "<tr><td>108</td><td>0.00</td></tr>",
                            "<tr><td>110</td><td>0.00</td></tr>",
                            "<tr><td>110</td><td>1200.00</td></tr>",
                            "<tr><td>110</td><td>2295.95</td></tr>",
                            "<tr><td>113</td><td>0.00</td></tr>",
                            "<tr><td>114</td><td>0.00</td></tr>",
                            "<tr><td>115</td><td>0.00</td></tr>",
                            "<tr><td>117</td><td>0.00</td></tr>",
                            "<tr><td>119</td><td>0.00</td></tr>",
                            "<tr><td>121</td><td>0.00</td></tr>",
                            "<tr><td>121</td><td>200.00</td></tr>",
                            "<tr><td>122</td><td>0.00</td></tr>",
                            "<tr><td>123</td><td>0.00</td></tr>",
                            "</table>"
                        ]
                    }
                },
                {
                    "output_type": "execute_result",
                    "metadata": {},
                    "execution_count": 4,
                    "data": {
                        "application/vnd.dataresource+json": {
                            "schema": {
                                "fields": [
                                    {
                                        "name": "InvoiceID"
                                    },
                                    {
                                        "name": "AverageInvoiceAmount"
                                    }
                                ]
                            },
                            "data": [
                                {
                                    "0": "14",
                                    "1": "6.00"
                                },
                                {
                                    "0": "20",
                                    "1": "6.00"
                                },
                                {
                                    "0": "70",
                                    "1": "6.00"
                                },
                                {
                                    "0": "23",
                                    "1": "9.95"
                                },
                                {
                                    "0": "16",
                                    "1": "9.95"
                                },
                                {
                                    "0": "17",
                                    "1": "10.00"
                                },
                                {
                                    "0": "26",
                                    "1": "10.00"
                                },
                                {
                                    "0": "72",
                                    "1": "10.00"
                                },
                                {
                                    "0": "59",
                                    "1": "13.75"
                                },
                                {
                                    "0": "5",
                                    "1": "15.50"
                                },
                                {
                                    "0": "13",
                                    "1": "16.33"
                                },
                                {
                                    "0": "49",
                                    "1": "16.33"
                                },
                                {
                                    "0": "92",
                                    "1": "16.62"
                                },
                                {
                                    "0": "82",
                                    "1": "17.50"
                                },
                                {
                                    "0": "44",
                                    "1": "19.67"
                                },
                                {
                                    "0": "111",
                                    "1": "22.57"
                                },
                                {
                                    "0": "64",
                                    "1": "23.50"
                                },
                                {
                                    "0": "61",
                                    "1": "25.67"
                                },
                                {
                                    "0": "81",
                                    "1": "26.25"
                                },
                                {
                                    "0": "62",
                                    "1": "26.75"
                                },
                                {
                                    "0": "75",
                                    "1": "27.00"
                                },
                                {
                                    "0": "101",
                                    "1": "30.75"
                                },
                                {
                                    "0": "66",
                                    "1": "31.95"
                                },
                                {
                                    "0": "91",
                                    "1": "32.70"
                                },
                                {
                                    "0": "48",
                                    "1": "33.00"
                                },
                                {
                                    "0": "37",
                                    "1": "36.00"
                                },
                                {
                                    "0": "90",
                                    "1": "38.75"
                                },
                                {
                                    "0": "83",
                                    "1": "39.77"
                                },
                                {
                                    "0": "2",
                                    "1": "40.20"
                                },
                                {
                                    "0": "55",
                                    "1": "40.75"
                                },
                                {
                                    "0": "74",
                                    "1": "41.80"
                                },
                                {
                                    "0": "11",
                                    "1": "42.50"
                                },
                                {
                                    "0": "10",
                                    "1": "42.67"
                                },
                                {
                                    "0": "6",
                                    "1": "42.75"
                                },
                                {
                                    "0": "104",
                                    "1": "44.44"
                                },
                                {
                                    "0": "53",
                                    "1": "46.21"
                                },
                                {
                                    "0": "94",
                                    "1": "52.25"
                                },
                                {
                                    "0": "58",
                                    "1": "53.25"
                                },
                                {
                                    "0": "41",
                                    "1": "53.75"
                                },
                                {
                                    "0": "99",
                                    "1": "59.97"
                                },
                                {
                                    "0": "87",
                                    "1": "60.00"
                                },
                                {
                                    "0": "38",
                                    "1": "61.50"
                                },
                                {
                                    "0": "30",
                                    "1": "63.40"
                                },
                                {
                                    "0": "108",
                                    "1": "67.00"
                                },
                                {
                                    "0": "100",
                                    "1": "67.92"
                                },
                                {
                                    "0": "89",
                                    "1": "85.31"
                                },
                                {
                                    "0": "110",
                                    "1": "90.36"
                                },
                                {
                                    "0": "8",
                                    "1": "95.00"
                                },
                                {
                                    "0": "18",
                                    "1": "104.00"
                                },
                                {
                                    "0": "22",
                                    "1": "108.25"
                                },
                                {
                                    "0": "71",
                                    "1": "108.50"
                                },
                                {
                                    "0": "28",
                                    "1": "109.50"
                                },
                                {
                                    "0": "84",
                                    "1": "111.00"
                                },
                                {
                                    "0": "50",
                                    "1": "116.00"
                                },
                                {
                                    "0": "19",
                                    "1": "116.54"
                                },
                                {
                                    "0": "34",
                                    "1": "127.75"
                                },
                                {
                                    "0": "114",
                                    "1": "127.75"
                                },
                                {
                                    "0": "25",
                                    "1": "129.00"
                                },
                                {
                                    "0": "3",
                                    "1": "138.75"
                                },
                                {
                                    "0": "4",
                                    "1": "144.70"
                                },
                                {
                                    "0": "88",
                                    "1": "147.25"
                                },
                                {
                                    "0": "85",
                                    "1": "158.00"
                                },
                                {
                                    "0": "93",
                                    "1": "162.75"
                                },
                                {
                                    "0": "7",
                                    "1": "172.50"
                                },
                                {
                                    "0": "69",
                                    "1": "175.00"
                                },
                                {
                                    "0": "27",
                                    "1": "207.78"
                                },
                                {
                                    "0": "33",
                                    "1": "220.00"
                                },
                                {
                                    "0": "46",
                                    "1": "224.00"
                                },
                                {
                                    "0": "113",
                                    "1": "224.00"
                                },
                                {
                                    "0": "76",
                                    "1": "241.00"
                                },
                                {
                                    "0": "73",
                                    "1": "290.00"
                                },
                                {
                                    "0": "54",
                                    "1": "313.55"
                                },
                                {
                                    "0": "97",
                                    "1": "356.48"
                                },
                                {
                                    "0": "42",
                                    "1": "400.00"
                                },
                                {
                                    "0": "29",
                                    "1": "450.00"
                                },
                                {
                                    "0": "105",
                                    "1": "503.20"
                                },
                                {
                                    "0": "36",
                                    "1": "565.15"
                                },
                                {
                                    "0": "98",
                                    "1": "579.42"
                                },
                                {
                                    "0": "95",
                                    "1": "600.00"
                                },
                                {
                                    "0": "9",
                                    "1": "601.95"
                                },
                                {
                                    "0": "40",
                                    "1": "639.77"
                                },
                                {
                                    "0": "12",
                                    "1": "662.00"
                                },
                                {
                                    "0": "86",
                                    "1": "739.20"
                                },
                                {
                                    "0": "15",
                                    "1": "856.92"
                                },
                                {
                                    "0": "77",
                                    "1": "904.14"
                                },
                                {
                                    "0": "68",
                                    "1": "936.93"
                                },
                                {
                                    "0": "32",
                                    "1": "953.10"
                                },
                                {
                                    "0": "109",
                                    "1": "1000.46"
                                },
                                {
                                    "0": "52",
                                    "1": "1083.58"
                                },
                                {
                                    "0": "57",
                                    "1": "1367.50"
                                },
                                {
                                    "0": "47",
                                    "1": "1575.00"
                                },
                                {
                                    "0": "35",
                                    "1": "1600.00"
                                },
                                {
                                    "0": "24",
                                    "1": "1750.00"
                                },
                                {
                                    "0": "67",
                                    "1": "1927.54"
                                },
                                {
                                    "0": "78",
                                    "1": "1962.13"
                                }
                            ]
                        },
                        "text/html": [
                            "<table>",
                            "<tr><th>InvoiceID</th><th>AverageInvoiceAmount</th></tr>",
                            "<tr><td>14</td><td>6.00</td></tr>",
                            "<tr><td>20</td><td>6.00</td></tr>",
                            "<tr><td>70</td><td>6.00</td></tr>",
                            "<tr><td>23</td><td>9.95</td></tr>",
                            "<tr><td>16</td><td>9.95</td></tr>",
                            "<tr><td>17</td><td>10.00</td></tr>",
                            "<tr><td>26</td><td>10.00</td></tr>",
                            "<tr><td>72</td><td>10.00</td></tr>",
                            "<tr><td>59</td><td>13.75</td></tr>",
                            "<tr><td>5</td><td>15.50</td></tr>",
                            "<tr><td>13</td><td>16.33</td></tr>",
                            "<tr><td>49</td><td>16.33</td></tr>",
                            "<tr><td>92</td><td>16.62</td></tr>",
                            "<tr><td>82</td><td>17.50</td></tr>",
                            "<tr><td>44</td><td>19.67</td></tr>",
                            "<tr><td>111</td><td>22.57</td></tr>",
                            "<tr><td>64</td><td>23.50</td></tr>",
                            "<tr><td>61</td><td>25.67</td></tr>",
                            "<tr><td>81</td><td>26.25</td></tr>",
                            "<tr><td>62</td><td>26.75</td></tr>",
                            "<tr><td>75</td><td>27.00</td></tr>",
                            "<tr><td>101</td><td>30.75</td></tr>",
                            "<tr><td>66</td><td>31.95</td></tr>",
                            "<tr><td>91</td><td>32.70</td></tr>",
                            "<tr><td>48</td><td>33.00</td></tr>",
                            "<tr><td>37</td><td>36.00</td></tr>",
                            "<tr><td>90</td><td>38.75</td></tr>",
                            "<tr><td>83</td><td>39.77</td></tr>",
                            "<tr><td>2</td><td>40.20</td></tr>",
                            "<tr><td>55</td><td>40.75</td></tr>",
                            "<tr><td>74</td><td>41.80</td></tr>",
                            "<tr><td>11</td><td>42.50</td></tr>",
                            "<tr><td>10</td><td>42.67</td></tr>",
                            "<tr><td>6</td><td>42.75</td></tr>",
                            "<tr><td>104</td><td>44.44</td></tr>",
                            "<tr><td>53</td><td>46.21</td></tr>",
                            "<tr><td>94</td><td>52.25</td></tr>",
                            "<tr><td>58</td><td>53.25</td></tr>",
                            "<tr><td>41</td><td>53.75</td></tr>",
                            "<tr><td>99</td><td>59.97</td></tr>",
                            "<tr><td>87</td><td>60.00</td></tr>",
                            "<tr><td>38</td><td>61.50</td></tr>",
                            "<tr><td>30</td><td>63.40</td></tr>",
                            "<tr><td>108</td><td>67.00</td></tr>",
                            "<tr><td>100</td><td>67.92</td></tr>",
                            "<tr><td>89</td><td>85.31</td></tr>",
                            "<tr><td>110</td><td>90.36</td></tr>",
                            "<tr><td>8</td><td>95.00</td></tr>",
                            "<tr><td>18</td><td>104.00</td></tr>",
                            "<tr><td>22</td><td>108.25</td></tr>",
                            "<tr><td>71</td><td>108.50</td></tr>",
                            "<tr><td>28</td><td>109.50</td></tr>",
                            "<tr><td>84</td><td>111.00</td></tr>",
                            "<tr><td>50</td><td>116.00</td></tr>",
                            "<tr><td>19</td><td>116.54</td></tr>",
                            "<tr><td>34</td><td>127.75</td></tr>",
                            "<tr><td>114</td><td>127.75</td></tr>",
                            "<tr><td>25</td><td>129.00</td></tr>",
                            "<tr><td>3</td><td>138.75</td></tr>",
                            "<tr><td>4</td><td>144.70</td></tr>",
                            "<tr><td>88</td><td>147.25</td></tr>",
                            "<tr><td>85</td><td>158.00</td></tr>",
                            "<tr><td>93</td><td>162.75</td></tr>",
                            "<tr><td>7</td><td>172.50</td></tr>",
                            "<tr><td>69</td><td>175.00</td></tr>",
                            "<tr><td>27</td><td>207.78</td></tr>",
                            "<tr><td>33</td><td>220.00</td></tr>",
                            "<tr><td>46</td><td>224.00</td></tr>",
                            "<tr><td>113</td><td>224.00</td></tr>",
                            "<tr><td>76</td><td>241.00</td></tr>",
                            "<tr><td>73</td><td>290.00</td></tr>",
                            "<tr><td>54</td><td>313.55</td></tr>",
                            "<tr><td>97</td><td>356.48</td></tr>",
                            "<tr><td>42</td><td>400.00</td></tr>",
                            "<tr><td>29</td><td>450.00</td></tr>",
                            "<tr><td>105</td><td>503.20</td></tr>",
                            "<tr><td>36</td><td>565.15</td></tr>",
                            "<tr><td>98</td><td>579.42</td></tr>",
                            "<tr><td>95</td><td>600.00</td></tr>",
                            "<tr><td>9</td><td>601.95</td></tr>",
                            "<tr><td>40</td><td>639.77</td></tr>",
                            "<tr><td>12</td><td>662.00</td></tr>",
                            "<tr><td>86</td><td>739.20</td></tr>",
                            "<tr><td>15</td><td>856.92</td></tr>",
                            "<tr><td>77</td><td>904.14</td></tr>",
                            "<tr><td>68</td><td>936.93</td></tr>",
                            "<tr><td>32</td><td>953.10</td></tr>",
                            "<tr><td>109</td><td>1000.46</td></tr>",
                            "<tr><td>52</td><td>1083.58</td></tr>",
                            "<tr><td>57</td><td>1367.50</td></tr>",
                            "<tr><td>47</td><td>1575.00</td></tr>",
                            "<tr><td>35</td><td>1600.00</td></tr>",
                            "<tr><td>24</td><td>1750.00</td></tr>",
                            "<tr><td>67</td><td>1927.54</td></tr>",
                            "<tr><td>78</td><td>1962.13</td></tr>",
                            "</table>"
                        ]
                    }
                },
                {
                    "output_type": "execute_result",
                    "metadata": {},
                    "execution_count": 4,
                    "data": {
                        "application/vnd.dataresource+json": {
                            "schema": {
                                "fields": [
                                    {
                                        "name": "InvoiceID"
                                    },
                                    {
                                        "name": "InvoiceTotal"
                                    },
                                    {
                                        "name": "QtyVendors"
                                    }
                                ]
                            },
                            "data": [
                                {
                                    "0": "112",
                                    "1": "NULL",
                                    "2": "1"
                                },
                                {
                                    "0": "107",
                                    "1": "NULL",
                                    "2": "1"
                                },
                                {
                                    "0": "106",
                                    "1": "NULL",
                                    "2": "1"
                                },
                                {
                                    "0": "102",
                                    "1": "NULL",
                                    "2": "1"
                                },
                                {
                                    "0": "96",
                                    "1": "NULL",
                                    "2": "1"
                                },
                                {
                                    "0": "65",
                                    "1": "NULL",
                                    "2": "1"
                                },
                                {
                                    "0": "43",
                                    "1": "NULL",
                                    "2": "1"
                                },
                                {
                                    "0": "39",
                                    "1": "NULL",
                                    "2": "1"
                                },
                                {
                                    "0": "31",
                                    "1": "NULL",
                                    "2": "1"
                                },
                                {
                                    "0": "21",
                                    "1": "NULL",
                                    "2": "1"
                                },
                                {
                                    "0": "1",
                                    "1": "NULL",
                                    "2": "1"
                                },
                                {
                                    "0": "NULL",
                                    "1": "37966.19",
                                    "2": "1"
                                },
                                {
                                    "0": "NULL",
                                    "1": "26881.40",
                                    "2": "1"
                                },
                                {
                                    "0": "NULL",
                                    "1": "23517.58",
                                    "2": "1"
                                },
                                {
                                    "0": "NULL",
                                    "1": "21842.00",
                                    "2": "1"
                                },
                                {
                                    "0": "NULL",
                                    "1": "20551.18",
                                    "2": "1"
                                },
                                {
                                    "0": "NULL",
                                    "1": "10976.06",
                                    "2": "1"
                                },
                                {
                                    "0": "NULL",
                                    "1": "7125.34",
                                    "2": "1"
                                },
                                {
                                    "0": "NULL",
                                    "1": "6940.25",
                                    "2": "1"
                                },
                                {
                                    "0": "NULL",
                                    "1": "4901.26",
                                    "2": "1"
                                },
                                {
                                    "0": "NULL",
                                    "1": "3813.33",
                                    "2": "1"
                                },
                                {
                                    "0": "NULL",
                                    "1": "3689.99",
                                    "2": "1"
                                }
                            ]
                        },
                        "text/html": [
                            "<table>",
                            "<tr><th>InvoiceID</th><th>InvoiceTotal</th><th>QtyVendors</th></tr>",
                            "<tr><td>112</td><td>NULL</td><td>1</td></tr>",
                            "<tr><td>107</td><td>NULL</td><td>1</td></tr>",
                            "<tr><td>106</td><td>NULL</td><td>1</td></tr>",
                            "<tr><td>102</td><td>NULL</td><td>1</td></tr>",
                            "<tr><td>96</td><td>NULL</td><td>1</td></tr>",
                            "<tr><td>65</td><td>NULL</td><td>1</td></tr>",
                            "<tr><td>43</td><td>NULL</td><td>1</td></tr>",
                            "<tr><td>39</td><td>NULL</td><td>1</td></tr>",
                            "<tr><td>31</td><td>NULL</td><td>1</td></tr>",
                            "<tr><td>21</td><td>NULL</td><td>1</td></tr>",
                            "<tr><td>1</td><td>NULL</td><td>1</td></tr>",
                            "<tr><td>NULL</td><td>37966.19</td><td>1</td></tr>",
                            "<tr><td>NULL</td><td>26881.40</td><td>1</td></tr>",
                            "<tr><td>NULL</td><td>23517.58</td><td>1</td></tr>",
                            "<tr><td>NULL</td><td>21842.00</td><td>1</td></tr>",
                            "<tr><td>NULL</td><td>20551.18</td><td>1</td></tr>",
                            "<tr><td>NULL</td><td>10976.06</td><td>1</td></tr>",
                            "<tr><td>NULL</td><td>7125.34</td><td>1</td></tr>",
                            "<tr><td>NULL</td><td>6940.25</td><td>1</td></tr>",
                            "<tr><td>NULL</td><td>4901.26</td><td>1</td></tr>",
                            "<tr><td>NULL</td><td>3813.33</td><td>1</td></tr>",
                            "<tr><td>NULL</td><td>3689.99</td><td>1</td></tr>",
                            "</table>"
                        ]
                    }
                }
            ],
            "execution_count": 4
        }
    ]
}