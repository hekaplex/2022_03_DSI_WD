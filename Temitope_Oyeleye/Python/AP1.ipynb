{
    "metadata": {
        "kernelspec": {
            "name": "SQL",
            "display_name": "SQL",
            "language": "sql"
        },
        "language_info": {
            "name": "sql",
            "version": ""
        }
    },
    "nbformat_minor": 2,
    "nbformat": 4,
    "cells": [
        {
            "cell_type": "code",
            "source": [
                "SELECT \r\n",
                "TOP 20 InvoiceDate\r\n",
                ", PaymentDate\r\n",
                ", InvoiceTotal\r\n",
                ", PaymentTotal\r\n",
                "FROM\r\n",
                "Invoices\r\n",
                "WHERE InvoiceTotal\r\n",
                "BETWEEN (6) \r\n",
                "AND (95)\r\n",
                "GO\r\n",
                "\r\n",
                "SELECT DISTINCT VendorCity, VendorState\r\n",
                "FROM Vendors;\r\n",
                "GO\r\n",
                "\r\n",
                "SELECT InvoiceID, InvoiceTotal, CreditTotal + PaymentTotal AS TotalCredits\r\n",
                "FROM Invoices\r\n",
                "WHERE InvoiceID = 9;\r\n",
                "GO\r\n",
                "\r\n",
                "SELECT InvoiceDate,\r\n",
                "    GETDATE() AS 'Today''s Date',\r\n",
                "    DATEDIFF(day, InvoiceDate, GETDATE()) AS COUNT\r\n",
                "FROM Invoices;\r\n",
                "\r\n",
                ""
            ],
            "metadata": {
                "azdata_cell_guid": "7aae07e5-f7b0-4e24-af42-2e2ffdbe6a5d"
            },
            "outputs": [
                {
                    "output_type": "display_data",
                    "data": {
                        "text/html": "(20 rows affected)"
                    },
                    "metadata": {}
                },
                {
                    "output_type": "display_data",
                    "data": {
                        "text/html": "(53 rows affected)"
                    },
                    "metadata": {}
                },
                {
                    "output_type": "display_data",
                    "data": {
                        "text/html": "(1 row affected)"
                    },
                    "metadata": {}
                },
                {
                    "output_type": "display_data",
                    "data": {
                        "text/html": "(114 rows affected)"
                    },
                    "metadata": {}
                },
                {
                    "output_type": "display_data",
                    "data": {
                        "text/html": "Total execution time: 00:00:00.012"
                    },
                    "metadata": {}
                },
                {
                    "output_type": "execute_result",
                    "metadata": {},
                    "execution_count": 7,
                    "data": {
                        "application/vnd.dataresource+json": {
                            "schema": {
                                "fields": [
                                    {
                                        "name": "InvoiceDate"
                                    },
                                    {
                                        "name": "PaymentDate"
                                    },
                                    {
                                        "name": "InvoiceTotal"
                                    },
                                    {
                                        "name": "PaymentTotal"
                                    }
                                ]
                            },
                            "data": [
                                {
                                    "0": "2019-10-10",
                                    "1": "2019-11-14",
                                    "2": "40.20",
                                    "3": "40.20"
                                },
                                {
                                    "0": "2019-10-16",
                                    "1": "2019-11-11",
                                    "2": "15.50",
                                    "3": "15.50"
                                },
                                {
                                    "0": "2019-10-16",
                                    "1": "2019-11-21",
                                    "2": "42.75",
                                    "3": "42.75"
                                },
                                {
                                    "0": "2019-10-24",
                                    "1": "2019-11-01",
                                    "2": "95.00",
                                    "3": "95.00"
                                },
                                {
                                    "0": "2019-10-24",
                                    "1": "2019-11-22",
                                    "2": "42.67",
                                    "3": "42.67"
                                },
                                {
                                    "0": "2019-10-25",
                                    "1": "2019-11-20",
                                    "2": "42.50",
                                    "3": "42.50"
                                },
                                {
                                    "0": "2019-10-30",
                                    "1": "2019-11-23",
                                    "2": "16.33",
                                    "3": "16.33"
                                },
                                {
                                    "0": "2019-11-01",
                                    "1": "2019-12-10",
                                    "2": "6.00",
                                    "3": "6.00"
                                },
                                {
                                    "0": "2019-11-03",
                                    "1": "2019-11-22",
                                    "2": "9.95",
                                    "3": "9.95"
                                },
                                {
                                    "0": "2019-11-05",
                                    "1": "2019-12-05",
                                    "2": "10.00",
                                    "3": "10.00"
                                },
                                {
                                    "0": "2019-11-10",
                                    "1": "2019-12-15",
                                    "2": "6.00",
                                    "3": "6.00"
                                },
                                {
                                    "0": "2019-11-13",
                                    "1": "2019-11-28",
                                    "2": "9.95",
                                    "3": "9.95"
                                },
                                {
                                    "0": "2019-11-14",
                                    "1": "2019-12-13",
                                    "2": "10.00",
                                    "3": "10.00"
                                },
                                {
                                    "0": "2019-11-20",
                                    "1": "2019-12-24",
                                    "2": "63.40",
                                    "3": "63.40"
                                },
                                {
                                    "0": "2019-11-25",
                                    "1": "2019-12-26",
                                    "2": "36.00",
                                    "3": "36.00"
                                },
                                {
                                    "0": "2019-11-26",
                                    "1": "2019-12-28",
                                    "2": "61.50",
                                    "3": "61.50"
                                },
                                {
                                    "0": "2019-11-30",
                                    "1": "2019-12-27",
                                    "2": "53.75",
                                    "3": "53.75"
                                },
                                {
                                    "0": "2019-12-01",
                                    "1": "2019-12-24",
                                    "2": "19.67",
                                    "3": "19.67"
                                },
                                {
                                    "0": "2019-12-03",
                                    "1": "2020-01-05",
                                    "2": "33.00",
                                    "3": "33.00"
                                },
                                {
                                    "0": "2019-12-04",
                                    "1": "2019-12-26",
                                    "2": "16.33",
                                    "3": "16.33"
                                }
                            ]
                        },
                        "text/html": [
                            "<table>",
                            "<tr><th>InvoiceDate</th><th>PaymentDate</th><th>InvoiceTotal</th><th>PaymentTotal</th></tr>",
                            "<tr><td>2019-10-10</td><td>2019-11-14</td><td>40.20</td><td>40.20</td></tr>",
                            "<tr><td>2019-10-16</td><td>2019-11-11</td><td>15.50</td><td>15.50</td></tr>",
                            "<tr><td>2019-10-16</td><td>2019-11-21</td><td>42.75</td><td>42.75</td></tr>",
                            "<tr><td>2019-10-24</td><td>2019-11-01</td><td>95.00</td><td>95.00</td></tr>",
                            "<tr><td>2019-10-24</td><td>2019-11-22</td><td>42.67</td><td>42.67</td></tr>",
                            "<tr><td>2019-10-25</td><td>2019-11-20</td><td>42.50</td><td>42.50</td></tr>",
                            "<tr><td>2019-10-30</td><td>2019-11-23</td><td>16.33</td><td>16.33</td></tr>",
                            "<tr><td>2019-11-01</td><td>2019-12-10</td><td>6.00</td><td>6.00</td></tr>",
                            "<tr><td>2019-11-03</td><td>2019-11-22</td><td>9.95</td><td>9.95</td></tr>",
                            "<tr><td>2019-11-05</td><td>2019-12-05</td><td>10.00</td><td>10.00</td></tr>",
                            "<tr><td>2019-11-10</td><td>2019-12-15</td><td>6.00</td><td>6.00</td></tr>",
                            "<tr><td>2019-11-13</td><td>2019-11-28</td><td>9.95</td><td>9.95</td></tr>",
                            "<tr><td>2019-11-14</td><td>2019-12-13</td><td>10.00</td><td>10.00</td></tr>",
                            "<tr><td>2019-11-20</td><td>2019-12-24</td><td>63.40</td><td>63.40</td></tr>",
                            "<tr><td>2019-11-25</td><td>2019-12-26</td><td>36.00</td><td>36.00</td></tr>",
                            "<tr><td>2019-11-26</td><td>2019-12-28</td><td>61.50</td><td>61.50</td></tr>",
                            "<tr><td>2019-11-30</td><td>2019-12-27</td><td>53.75</td><td>53.75</td></tr>",
                            "<tr><td>2019-12-01</td><td>2019-12-24</td><td>19.67</td><td>19.67</td></tr>",
                            "<tr><td>2019-12-03</td><td>2020-01-05</td><td>33.00</td><td>33.00</td></tr>",
                            "<tr><td>2019-12-04</td><td>2019-12-26</td><td>16.33</td><td>16.33</td></tr>",
                            "</table>"
                        ]
                    }
                },
                {
                    "output_type": "execute_result",
                    "metadata": {},
                    "execution_count": 7,
                    "data": {
                        "application/vnd.dataresource+json": {
                            "schema": {
                                "fields": [
                                    {
                                        "name": "VendorCity"
                                    },
                                    {
                                        "name": "VendorState"
                                    }
                                ]
                            },
                            "data": [
                                {
                                    "0": "Anaheim",
                                    "1": "CA"
                                },
                                {
                                    "0": "Ann Arbor",
                                    "1": "MI"
                                },
                                {
                                    "0": "Auburn Hills",
                                    "1": "MI"
                                },
                                {
                                    "0": "Boston",
                                    "1": "MA"
                                },
                                {
                                    "0": "Brea",
                                    "1": "CA"
                                },
                                {
                                    "0": "Carol Stream",
                                    "1": "IL"
                                },
                                {
                                    "0": "Charlotte",
                                    "1": "NC"
                                },
                                {
                                    "0": "Chicago",
                                    "1": "IL"
                                },
                                {
                                    "0": "Cincinnati",
                                    "1": "OH"
                                },
                                {
                                    "0": "Cleves",
                                    "1": "OH"
                                },
                                {
                                    "0": "Columbus",
                                    "1": "OH"
                                },
                                {
                                    "0": "Dallas",
                                    "1": "TX"
                                },
                                {
                                    "0": "East Brunswick",
                                    "1": "NJ"
                                },
                                {
                                    "0": "Fairfield",
                                    "1": "IA"
                                },
                                {
                                    "0": "Fairfield",
                                    "1": "NJ"
                                },
                                {
                                    "0": "Fort Washington",
                                    "1": "PA"
                                },
                                {
                                    "0": "Fresno",
                                    "1": "CA"
                                },
                                {
                                    "0": "Gardena",
                                    "1": "CA"
                                },
                                {
                                    "0": "Inglewood",
                                    "1": "CA"
                                },
                                {
                                    "0": "Jacksonville",
                                    "1": "FL"
                                },
                                {
                                    "0": "Los Angeles",
                                    "1": "CA"
                                },
                                {
                                    "0": "Madison",
                                    "1": "WI"
                                },
                                {
                                    "0": "Manhatttan Beach",
                                    "1": "CA"
                                },
                                {
                                    "0": "Marion",
                                    "1": "OH"
                                },
                                {
                                    "0": "Mclean",
                                    "1": "VA"
                                },
                                {
                                    "0": "Memphis",
                                    "1": "TN"
                                },
                                {
                                    "0": "Minneapolis",
                                    "1": "MN"
                                },
                                {
                                    "0": "Mission Viejo",
                                    "1": "CA"
                                },
                                {
                                    "0": "New Rochelle",
                                    "1": "NY"
                                },
                                {
                                    "0": "New York",
                                    "1": "NY"
                                },
                                {
                                    "0": "Oberlin",
                                    "1": "OH"
                                },
                                {
                                    "0": "Olathe",
                                    "1": "KS"
                                },
                                {
                                    "0": "Oxnard",
                                    "1": "CA"
                                },
                                {
                                    "0": "Pasadena",
                                    "1": "CA"
                                },
                                {
                                    "0": "Philadelphia",
                                    "1": "PA"
                                },
                                {
                                    "0": "Phoenix",
                                    "1": "AZ"
                                },
                                {
                                    "0": "Reno",
                                    "1": "NV"
                                },
                                {
                                    "0": "Sacramento",
                                    "1": "CA"
                                },
                                {
                                    "0": "San Diego",
                                    "1": "CA"
                                },
                                {
                                    "0": "San Francisco",
                                    "1": "CA"
                                },
                                {
                                    "0": "Santa Ana",
                                    "1": "CA"
                                },
                                {
                                    "0": "Santa Barbara",
                                    "1": "CA"
                                },
                                {
                                    "0": "Selma",
                                    "1": "CA"
                                },
                                {
                                    "0": "Shelton",
                                    "1": "CT"
                                },
                                {
                                    "0": "St Louis",
                                    "1": "MO"
                                },
                                {
                                    "0": "Tarrytown",
                                    "1": "NY"
                                },
                                {
                                    "0": "The Lake",
                                    "1": "NV"
                                },
                                {
                                    "0": "Traverse City",
                                    "1": "MI"
                                },
                                {
                                    "0": "Turlock",
                                    "1": "CA"
                                },
                                {
                                    "0": "Valencia",
                                    "1": "CA"
                                },
                                {
                                    "0": "Washington",
                                    "1": "DC"
                                },
                                {
                                    "0": "Washington",
                                    "1": "IA"
                                },
                                {
                                    "0": "Washington",
                                    "1": "NJ"
                                }
                            ]
                        },
                        "text/html": [
                            "<table>",
                            "<tr><th>VendorCity</th><th>VendorState</th></tr>",
                            "<tr><td>Anaheim</td><td>CA</td></tr>",
                            "<tr><td>Ann Arbor</td><td>MI</td></tr>",
                            "<tr><td>Auburn Hills</td><td>MI</td></tr>",
                            "<tr><td>Boston</td><td>MA</td></tr>",
                            "<tr><td>Brea</td><td>CA</td></tr>",
                            "<tr><td>Carol Stream</td><td>IL</td></tr>",
                            "<tr><td>Charlotte</td><td>NC</td></tr>",
                            "<tr><td>Chicago</td><td>IL</td></tr>",
                            "<tr><td>Cincinnati</td><td>OH</td></tr>",
                            "<tr><td>Cleves</td><td>OH</td></tr>",
                            "<tr><td>Columbus</td><td>OH</td></tr>",
                            "<tr><td>Dallas</td><td>TX</td></tr>",
                            "<tr><td>East Brunswick</td><td>NJ</td></tr>",
                            "<tr><td>Fairfield</td><td>IA</td></tr>",
                            "<tr><td>Fairfield</td><td>NJ</td></tr>",
                            "<tr><td>Fort Washington</td><td>PA</td></tr>",
                            "<tr><td>Fresno</td><td>CA</td></tr>",
                            "<tr><td>Gardena</td><td>CA</td></tr>",
                            "<tr><td>Inglewood</td><td>CA</td></tr>",
                            "<tr><td>Jacksonville</td><td>FL</td></tr>",
                            "<tr><td>Los Angeles</td><td>CA</td></tr>",
                            "<tr><td>Madison</td><td>WI</td></tr>",
                            "<tr><td>Manhatttan Beach</td><td>CA</td></tr>",
                            "<tr><td>Marion</td><td>OH</td></tr>",
                            "<tr><td>Mclean</td><td>VA</td></tr>",
                            "<tr><td>Memphis</td><td>TN</td></tr>",
                            "<tr><td>Minneapolis</td><td>MN</td></tr>",
                            "<tr><td>Mission Viejo</td><td>CA</td></tr>",
                            "<tr><td>New Rochelle</td><td>NY</td></tr>",
                            "<tr><td>New York</td><td>NY</td></tr>",
                            "<tr><td>Oberlin</td><td>OH</td></tr>",
                            "<tr><td>Olathe</td><td>KS</td></tr>",
                            "<tr><td>Oxnard</td><td>CA</td></tr>",
                            "<tr><td>Pasadena</td><td>CA</td></tr>",
                            "<tr><td>Philadelphia</td><td>PA</td></tr>",
                            "<tr><td>Phoenix</td><td>AZ</td></tr>",
                            "<tr><td>Reno</td><td>NV</td></tr>",
                            "<tr><td>Sacramento</td><td>CA</td></tr>",
                            "<tr><td>San Diego</td><td>CA</td></tr>",
                            "<tr><td>San Francisco</td><td>CA</td></tr>",
                            "<tr><td>Santa Ana</td><td>CA</td></tr>",
                            "<tr><td>Santa Barbara</td><td>CA</td></tr>",
                            "<tr><td>Selma</td><td>CA</td></tr>",
                            "<tr><td>Shelton</td><td>CT</td></tr>",
                            "<tr><td>St Louis</td><td>MO</td></tr>",
                            "<tr><td>Tarrytown</td><td>NY</td></tr>",
                            "<tr><td>The Lake</td><td>NV</td></tr>",
                            "<tr><td>Traverse City</td><td>MI</td></tr>",
                            "<tr><td>Turlock</td><td>CA</td></tr>",
                            "<tr><td>Valencia</td><td>CA</td></tr>",
                            "<tr><td>Washington</td><td>DC</td></tr>",
                            "<tr><td>Washington</td><td>IA</td></tr>",
                            "<tr><td>Washington</td><td>NJ</td></tr>",
                            "</table>"
                        ]
                    }
                },
                {
                    "output_type": "execute_result",
                    "metadata": {},
                    "execution_count": 7,
                    "data": {
                        "application/vnd.dataresource+json": {
                            "schema": {
                                "fields": [
                                    {
                                        "name": "InvoiceID"
                                    },
                                    {
                                        "name": "InvoiceTotal"
                                    },
                                    {
                                        "name": "TotalCredits"
                                    }
                                ]
                            },
                            "data": [
                                {
                                    "0": "9",
                                    "1": "601.95",
                                    "2": "601.95"
                                }
                            ]
                        },
                        "text/html": [
                            "<table>",
                            "<tr><th>InvoiceID</th><th>InvoiceTotal</th><th>TotalCredits</th></tr>",
                            "<tr><td>9</td><td>601.95</td><td>601.95</td></tr>",
                            "</table>"
                        ]
                    }
                },
                {
                    "output_type": "execute_result",
                    "metadata": {},
                    "execution_count": 7,
                    "data": {
                        "application/vnd.dataresource+json": {
                            "schema": {
                                "fields": [
                                    {
                                        "name": "InvoiceDate"
                                    },
                                    {
                                        "name": "Today's Date"
                                    },
                                    {
                                        "name": "COUNT"
                                    }
                                ]
                            },
                            "data": [
                                {
                                    "0": "2019-10-08",
                                    "1": "2022-03-29 16:20:20.373",
                                    "2": "903"
                                },
                                {
                                    "0": "2019-10-10",
                                    "1": "2022-03-29 16:20:20.373",
                                    "2": "901"
                                },
                                {
                                    "0": "2019-10-13",
                                    "1": "2022-03-29 16:20:20.373",
                                    "2": "898"
                                },
                                {
                                    "0": "2019-10-16",
                                    "1": "2022-03-29 16:20:20.373",
                                    "2": "895"
                                },
                                {
                                    "0": "2019-10-16",
                                    "1": "2022-03-29 16:20:20.373",
                                    "2": "895"
                                },
                                {
                                    "0": "2019-10-16",
                                    "1": "2022-03-29 16:20:20.373",
                                    "2": "895"
                                },
                                {
                                    "0": "2019-10-21",
                                    "1": "2022-03-29 16:20:20.373",
                                    "2": "890"
                                },
                                {
                                    "0": "2019-10-24",
                                    "1": "2022-03-29 16:20:20.373",
                                    "2": "887"
                                },
                                {
                                    "0": "2019-10-24",
                                    "1": "2022-03-29 16:20:20.373",
                                    "2": "887"
                                },
                                {
                                    "0": "2019-10-24",
                                    "1": "2022-03-29 16:20:20.373",
                                    "2": "887"
                                },
                                {
                                    "0": "2019-10-25",
                                    "1": "2022-03-29 16:20:20.373",
                                    "2": "886"
                                },
                                {
                                    "0": "2019-10-26",
                                    "1": "2022-03-29 16:20:20.373",
                                    "2": "885"
                                },
                                {
                                    "0": "2019-10-30",
                                    "1": "2022-03-29 16:20:20.373",
                                    "2": "881"
                                },
                                {
                                    "0": "2019-11-01",
                                    "1": "2022-03-29 16:20:20.373",
                                    "2": "879"
                                },
                                {
                                    "0": "2019-11-03",
                                    "1": "2022-03-29 16:20:20.373",
                                    "2": "877"
                                },
                                {
                                    "0": "2019-11-03",
                                    "1": "2022-03-29 16:20:20.373",
                                    "2": "877"
                                },
                                {
                                    "0": "2019-11-05",
                                    "1": "2022-03-29 16:20:20.373",
                                    "2": "875"
                                },
                                {
                                    "0": "2019-11-06",
                                    "1": "2022-03-29 16:20:20.373",
                                    "2": "874"
                                },
                                {
                                    "0": "2019-11-07",
                                    "1": "2022-03-29 16:20:20.373",
                                    "2": "873"
                                },
                                {
                                    "0": "2019-11-10",
                                    "1": "2022-03-29 16:20:20.373",
                                    "2": "870"
                                },
                                {
                                    "0": "2019-11-11",
                                    "1": "2022-03-29 16:20:20.373",
                                    "2": "869"
                                },
                                {
                                    "0": "2019-11-11",
                                    "1": "2022-03-29 16:20:20.373",
                                    "2": "869"
                                },
                                {
                                    "0": "2019-11-13",
                                    "1": "2022-03-29 16:20:20.373",
                                    "2": "867"
                                },
                                {
                                    "0": "2019-11-13",
                                    "1": "2022-03-29 16:20:20.373",
                                    "2": "867"
                                },
                                {
                                    "0": "2019-11-13",
                                    "1": "2022-03-29 16:20:20.373",
                                    "2": "867"
                                },
                                {
                                    "0": "2019-11-14",
                                    "1": "2022-03-29 16:20:20.373",
                                    "2": "866"
                                },
                                {
                                    "0": "2019-11-15",
                                    "1": "2022-03-29 16:20:20.373",
                                    "2": "865"
                                },
                                {
                                    "0": "2019-11-16",
                                    "1": "2022-03-29 16:20:20.373",
                                    "2": "864"
                                },
                                {
                                    "0": "2019-11-19",
                                    "1": "2022-03-29 16:20:20.373",
                                    "2": "861"
                                },
                                {
                                    "0": "2019-11-20",
                                    "1": "2022-03-29 16:20:20.373",
                                    "2": "860"
                                },
                                {
                                    "0": "2019-11-21",
                                    "1": "2022-03-29 16:20:20.373",
                                    "2": "859"
                                },
                                {
                                    "0": "2019-11-21",
                                    "1": "2022-03-29 16:20:20.373",
                                    "2": "859"
                                },
                                {
                                    "0": "2019-11-23",
                                    "1": "2022-03-29 16:20:20.373",
                                    "2": "857"
                                },
                                {
                                    "0": "2019-11-23",
                                    "1": "2022-03-29 16:20:20.373",
                                    "2": "857"
                                },
                                {
                                    "0": "2019-11-25",
                                    "1": "2022-03-29 16:20:20.373",
                                    "2": "855"
                                },
                                {
                                    "0": "2019-11-25",
                                    "1": "2022-03-29 16:20:20.373",
                                    "2": "855"
                                },
                                {
                                    "0": "2019-11-25",
                                    "1": "2022-03-29 16:20:20.373",
                                    "2": "855"
                                },
                                {
                                    "0": "2019-11-26",
                                    "1": "2022-03-29 16:20:20.373",
                                    "2": "854"
                                },
                                {
                                    "0": "2019-11-28",
                                    "1": "2022-03-29 16:20:20.373",
                                    "2": "852"
                                },
                                {
                                    "0": "2019-11-30",
                                    "1": "2022-03-29 16:20:20.373",
                                    "2": "850"
                                },
                                {
                                    "0": "2019-11-30",
                                    "1": "2022-03-29 16:20:20.373",
                                    "2": "850"
                                },
                                {
                                    "0": "2019-11-30",
                                    "1": "2022-03-29 16:20:20.373",
                                    "2": "850"
                                },
                                {
                                    "0": "2019-12-01",
                                    "1": "2022-03-29 16:20:20.373",
                                    "2": "849"
                                },
                                {
                                    "0": "2019-12-01",
                                    "1": "2022-03-29 16:20:20.373",
                                    "2": "849"
                                },
                                {
                                    "0": "2019-12-01",
                                    "1": "2022-03-29 16:20:20.373",
                                    "2": "849"
                                },
                                {
                                    "0": "2019-12-03",
                                    "1": "2022-03-29 16:20:20.373",
                                    "2": "847"
                                },
                                {
                                    "0": "2019-12-03",
                                    "1": "2022-03-29 16:20:20.373",
                                    "2": "847"
                                },
                                {
                                    "0": "2019-12-03",
                                    "1": "2022-03-29 16:20:20.373",
                                    "2": "847"
                                },
                                {
                                    "0": "2019-12-04",
                                    "1": "2022-03-29 16:20:20.373",
                                    "2": "846"
                                },
                                {
                                    "0": "2019-12-07",
                                    "1": "2022-03-29 16:20:20.373",
                                    "2": "843"
                                },
                                {
                                    "0": "2019-12-08",
                                    "1": "2022-03-29 16:20:20.373",
                                    "2": "842"
                                },
                                {
                                    "0": "2019-12-09",
                                    "1": "2022-03-29 16:20:20.373",
                                    "2": "841"
                                },
                                {
                                    "0": "2019-12-09",
                                    "1": "2022-03-29 16:20:20.373",
                                    "2": "841"
                                },
                                {
                                    "0": "2019-12-10",
                                    "1": "2022-03-29 16:20:20.373",
                                    "2": "840"
                                },
                                {
                                    "0": "2019-12-10",
                                    "1": "2022-03-29 16:20:20.373",
                                    "2": "840"
                                },
                                {
                                    "0": "2019-12-11",
                                    "1": "2022-03-29 16:20:20.373",
                                    "2": "839"
                                },
                                {
                                    "0": "2019-12-11",
                                    "1": "2022-03-29 16:20:20.373",
                                    "2": "839"
                                },
                                {
                                    "0": "2019-12-11",
                                    "1": "2022-03-29 16:20:20.373",
                                    "2": "839"
                                },
                                {
                                    "0": "2019-12-11",
                                    "1": "2022-03-29 16:20:20.373",
                                    "2": "839"
                                },
                                {
                                    "0": "2019-12-12",
                                    "1": "2022-03-29 16:20:20.373",
                                    "2": "838"
                                },
                                {
                                    "0": "2019-12-15",
                                    "1": "2022-03-29 16:20:20.373",
                                    "2": "835"
                                },
                                {
                                    "0": "2019-12-15",
                                    "1": "2022-03-29 16:20:20.373",
                                    "2": "835"
                                },
                                {
                                    "0": "2019-12-16",
                                    "1": "2022-03-29 16:20:20.373",
                                    "2": "834"
                                },
                                {
                                    "0": "2019-12-17",
                                    "1": "2022-03-29 16:20:20.373",
                                    "2": "833"
                                },
                                {
                                    "0": "2019-12-18",
                                    "1": "2022-03-29 16:20:20.373",
                                    "2": "832"
                                },
                                {
                                    "0": "2019-12-18",
                                    "1": "2022-03-29 16:20:20.373",
                                    "2": "832"
                                },
                                {
                                    "0": "2019-12-20",
                                    "1": "2022-03-29 16:20:20.373",
                                    "2": "830"
                                },
                                {
                                    "0": "2019-12-21",
                                    "1": "2022-03-29 16:20:20.373",
                                    "2": "829"
                                },
                                {
                                    "0": "2019-12-22",
                                    "1": "2022-03-29 16:20:20.373",
                                    "2": "828"
                                },
                                {
                                    "0": "2019-12-22",
                                    "1": "2022-03-29 16:20:20.373",
                                    "2": "828"
                                },
                                {
                                    "0": "2019-12-22",
                                    "1": "2022-03-29 16:20:20.373",
                                    "2": "828"
                                },
                                {
                                    "0": "2019-12-22",
                                    "1": "2022-03-29 16:20:20.373",
                                    "2": "828"
                                },
                                {
                                    "0": "2019-12-23",
                                    "1": "2022-03-29 16:20:20.373",
                                    "2": "827"
                                },
                                {
                                    "0": "2019-12-24",
                                    "1": "2022-03-29 16:20:20.373",
                                    "2": "826"
                                },
                                {
                                    "0": "2019-12-24",
                                    "1": "2022-03-29 16:20:20.373",
                                    "2": "826"
                                },
                                {
                                    "0": "2019-12-24",
                                    "1": "2022-03-29 16:20:20.373",
                                    "2": "826"
                                },
                                {
                                    "0": "2019-12-25",
                                    "1": "2022-03-29 16:20:20.373",
                                    "2": "825"
                                },
                                {
                                    "0": "2019-12-28",
                                    "1": "2022-03-29 16:20:20.373",
                                    "2": "822"
                                },
                                {
                                    "0": "2019-12-28",
                                    "1": "2022-03-29 16:20:20.373",
                                    "2": "822"
                                },
                                {
                                    "0": "2020-01-01",
                                    "1": "2022-03-29 16:20:20.373",
                                    "2": "818"
                                },
                                {
                                    "0": "2020-01-02",
                                    "1": "2022-03-29 16:20:20.373",
                                    "2": "817"
                                },
                                {
                                    "0": "2020-01-05",
                                    "1": "2022-03-29 16:20:20.373",
                                    "2": "814"
                                },
                                {
                                    "0": "2020-01-06",
                                    "1": "2022-03-29 16:20:20.373",
                                    "2": "813"
                                },
                                {
                                    "0": "2020-01-06",
                                    "1": "2022-03-29 16:20:20.373",
                                    "2": "813"
                                },
                                {
                                    "0": "2020-01-07",
                                    "1": "2022-03-29 16:20:20.373",
                                    "2": "812"
                                },
                                {
                                    "0": "2020-01-07",
                                    "1": "2022-03-29 16:20:20.373",
                                    "2": "812"
                                },
                                {
                                    "0": "2020-01-08",
                                    "1": "2022-03-29 16:20:20.373",
                                    "2": "811"
                                },
                                {
                                    "0": "2020-01-08",
                                    "1": "2022-03-29 16:20:20.373",
                                    "2": "811"
                                },
                                {
                                    "0": "2020-01-10",
                                    "1": "2022-03-29 16:20:20.373",
                                    "2": "809"
                                },
                                {
                                    "0": "2020-01-12",
                                    "1": "2022-03-29 16:20:20.373",
                                    "2": "807"
                                },
                                {
                                    "0": "2020-01-15",
                                    "1": "2022-03-29 16:20:20.373",
                                    "2": "804"
                                },
                                {
                                    "0": "2020-01-15",
                                    "1": "2022-03-29 16:20:20.373",
                                    "2": "804"
                                },
                                {
                                    "0": "2020-01-16",
                                    "1": "2022-03-29 16:20:20.373",
                                    "2": "803"
                                },
                                {
                                    "0": "2020-01-18",
                                    "1": "2022-03-29 16:20:20.373",
                                    "2": "801"
                                },
                                {
                                    "0": "2020-01-19",
                                    "1": "2022-03-29 16:20:20.373",
                                    "2": "800"
                                },
                                {
                                    "0": "2020-01-19",
                                    "1": "2022-03-29 16:20:20.373",
                                    "2": "800"
                                },
                                {
                                    "0": "2020-01-20",
                                    "1": "2022-03-29 16:20:20.373",
                                    "2": "799"
                                },
                                {
                                    "0": "2020-01-21",
                                    "1": "2022-03-29 16:20:20.373",
                                    "2": "798"
                                },
                                {
                                    "0": "2020-01-21",
                                    "1": "2022-03-29 16:20:20.373",
                                    "2": "798"
                                },
                                {
                                    "0": "2020-01-22",
                                    "1": "2022-03-29 16:20:20.373",
                                    "2": "797"
                                },
                                {
                                    "0": "2020-01-22",
                                    "1": "2022-03-29 16:20:20.373",
                                    "2": "797"
                                },
                                {
                                    "0": "2020-01-23",
                                    "1": "2022-03-29 16:20:20.373",
                                    "2": "796"
                                },
                                {
                                    "0": "2020-01-23",
                                    "1": "2022-03-29 16:20:20.373",
                                    "2": "796"
                                },
                                {
                                    "0": "2020-01-23",
                                    "1": "2022-03-29 16:20:20.373",
                                    "2": "796"
                                },
                                {
                                    "0": "2020-01-24",
                                    "1": "2022-03-29 16:20:20.373",
                                    "2": "795"
                                },
                                {
                                    "0": "2020-01-24",
                                    "1": "2022-03-29 16:20:20.373",
                                    "2": "795"
                                },
                                {
                                    "0": "2020-01-24",
                                    "1": "2022-03-29 16:20:20.373",
                                    "2": "795"
                                },
                                {
                                    "0": "2020-01-24",
                                    "1": "2022-03-29 16:20:20.373",
                                    "2": "795"
                                },
                                {
                                    "0": "2020-01-25",
                                    "1": "2022-03-29 16:20:20.373",
                                    "2": "794"
                                },
                                {
                                    "0": "2020-01-28",
                                    "1": "2022-03-29 16:20:20.373",
                                    "2": "791"
                                },
                                {
                                    "0": "2020-01-30",
                                    "1": "2022-03-29 16:20:20.373",
                                    "2": "789"
                                },
                                {
                                    "0": "2020-01-31",
                                    "1": "2022-03-29 16:20:20.373",
                                    "2": "788"
                                },
                                {
                                    "0": "2020-02-01",
                                    "1": "2022-03-29 16:20:20.373",
                                    "2": "787"
                                },
                                {
                                    "0": "2020-02-02",
                                    "1": "2022-03-29 16:20:20.373",
                                    "2": "786"
                                }
                            ]
                        },
                        "text/html": [
                            "<table>",
                            "<tr><th>InvoiceDate</th><th>Today's Date</th><th>COUNT</th></tr>",
                            "<tr><td>2019-10-08</td><td>2022-03-29 16:20:20.373</td><td>903</td></tr>",
                            "<tr><td>2019-10-10</td><td>2022-03-29 16:20:20.373</td><td>901</td></tr>",
                            "<tr><td>2019-10-13</td><td>2022-03-29 16:20:20.373</td><td>898</td></tr>",
                            "<tr><td>2019-10-16</td><td>2022-03-29 16:20:20.373</td><td>895</td></tr>",
                            "<tr><td>2019-10-16</td><td>2022-03-29 16:20:20.373</td><td>895</td></tr>",
                            "<tr><td>2019-10-16</td><td>2022-03-29 16:20:20.373</td><td>895</td></tr>",
                            "<tr><td>2019-10-21</td><td>2022-03-29 16:20:20.373</td><td>890</td></tr>",
                            "<tr><td>2019-10-24</td><td>2022-03-29 16:20:20.373</td><td>887</td></tr>",
                            "<tr><td>2019-10-24</td><td>2022-03-29 16:20:20.373</td><td>887</td></tr>",
                            "<tr><td>2019-10-24</td><td>2022-03-29 16:20:20.373</td><td>887</td></tr>",
                            "<tr><td>2019-10-25</td><td>2022-03-29 16:20:20.373</td><td>886</td></tr>",
                            "<tr><td>2019-10-26</td><td>2022-03-29 16:20:20.373</td><td>885</td></tr>",
                            "<tr><td>2019-10-30</td><td>2022-03-29 16:20:20.373</td><td>881</td></tr>",
                            "<tr><td>2019-11-01</td><td>2022-03-29 16:20:20.373</td><td>879</td></tr>",
                            "<tr><td>2019-11-03</td><td>2022-03-29 16:20:20.373</td><td>877</td></tr>",
                            "<tr><td>2019-11-03</td><td>2022-03-29 16:20:20.373</td><td>877</td></tr>",
                            "<tr><td>2019-11-05</td><td>2022-03-29 16:20:20.373</td><td>875</td></tr>",
                            "<tr><td>2019-11-06</td><td>2022-03-29 16:20:20.373</td><td>874</td></tr>",
                            "<tr><td>2019-11-07</td><td>2022-03-29 16:20:20.373</td><td>873</td></tr>",
                            "<tr><td>2019-11-10</td><td>2022-03-29 16:20:20.373</td><td>870</td></tr>",
                            "<tr><td>2019-11-11</td><td>2022-03-29 16:20:20.373</td><td>869</td></tr>",
                            "<tr><td>2019-11-11</td><td>2022-03-29 16:20:20.373</td><td>869</td></tr>",
                            "<tr><td>2019-11-13</td><td>2022-03-29 16:20:20.373</td><td>867</td></tr>",
                            "<tr><td>2019-11-13</td><td>2022-03-29 16:20:20.373</td><td>867</td></tr>",
                            "<tr><td>2019-11-13</td><td>2022-03-29 16:20:20.373</td><td>867</td></tr>",
                            "<tr><td>2019-11-14</td><td>2022-03-29 16:20:20.373</td><td>866</td></tr>",
                            "<tr><td>2019-11-15</td><td>2022-03-29 16:20:20.373</td><td>865</td></tr>",
                            "<tr><td>2019-11-16</td><td>2022-03-29 16:20:20.373</td><td>864</td></tr>",
                            "<tr><td>2019-11-19</td><td>2022-03-29 16:20:20.373</td><td>861</td></tr>",
                            "<tr><td>2019-11-20</td><td>2022-03-29 16:20:20.373</td><td>860</td></tr>",
                            "<tr><td>2019-11-21</td><td>2022-03-29 16:20:20.373</td><td>859</td></tr>",
                            "<tr><td>2019-11-21</td><td>2022-03-29 16:20:20.373</td><td>859</td></tr>",
                            "<tr><td>2019-11-23</td><td>2022-03-29 16:20:20.373</td><td>857</td></tr>",
                            "<tr><td>2019-11-23</td><td>2022-03-29 16:20:20.373</td><td>857</td></tr>",
                            "<tr><td>2019-11-25</td><td>2022-03-29 16:20:20.373</td><td>855</td></tr>",
                            "<tr><td>2019-11-25</td><td>2022-03-29 16:20:20.373</td><td>855</td></tr>",
                            "<tr><td>2019-11-25</td><td>2022-03-29 16:20:20.373</td><td>855</td></tr>",
                            "<tr><td>2019-11-26</td><td>2022-03-29 16:20:20.373</td><td>854</td></tr>",
                            "<tr><td>2019-11-28</td><td>2022-03-29 16:20:20.373</td><td>852</td></tr>",
                            "<tr><td>2019-11-30</td><td>2022-03-29 16:20:20.373</td><td>850</td></tr>",
                            "<tr><td>2019-11-30</td><td>2022-03-29 16:20:20.373</td><td>850</td></tr>",
                            "<tr><td>2019-11-30</td><td>2022-03-29 16:20:20.373</td><td>850</td></tr>",
                            "<tr><td>2019-12-01</td><td>2022-03-29 16:20:20.373</td><td>849</td></tr>",
                            "<tr><td>2019-12-01</td><td>2022-03-29 16:20:20.373</td><td>849</td></tr>",
                            "<tr><td>2019-12-01</td><td>2022-03-29 16:20:20.373</td><td>849</td></tr>",
                            "<tr><td>2019-12-03</td><td>2022-03-29 16:20:20.373</td><td>847</td></tr>",
                            "<tr><td>2019-12-03</td><td>2022-03-29 16:20:20.373</td><td>847</td></tr>",
                            "<tr><td>2019-12-03</td><td>2022-03-29 16:20:20.373</td><td>847</td></tr>",
                            "<tr><td>2019-12-04</td><td>2022-03-29 16:20:20.373</td><td>846</td></tr>",
                            "<tr><td>2019-12-07</td><td>2022-03-29 16:20:20.373</td><td>843</td></tr>",
                            "<tr><td>2019-12-08</td><td>2022-03-29 16:20:20.373</td><td>842</td></tr>",
                            "<tr><td>2019-12-09</td><td>2022-03-29 16:20:20.373</td><td>841</td></tr>",
                            "<tr><td>2019-12-09</td><td>2022-03-29 16:20:20.373</td><td>841</td></tr>",
                            "<tr><td>2019-12-10</td><td>2022-03-29 16:20:20.373</td><td>840</td></tr>",
                            "<tr><td>2019-12-10</td><td>2022-03-29 16:20:20.373</td><td>840</td></tr>",
                            "<tr><td>2019-12-11</td><td>2022-03-29 16:20:20.373</td><td>839</td></tr>",
                            "<tr><td>2019-12-11</td><td>2022-03-29 16:20:20.373</td><td>839</td></tr>",
                            "<tr><td>2019-12-11</td><td>2022-03-29 16:20:20.373</td><td>839</td></tr>",
                            "<tr><td>2019-12-11</td><td>2022-03-29 16:20:20.373</td><td>839</td></tr>",
                            "<tr><td>2019-12-12</td><td>2022-03-29 16:20:20.373</td><td>838</td></tr>",
                            "<tr><td>2019-12-15</td><td>2022-03-29 16:20:20.373</td><td>835</td></tr>",
                            "<tr><td>2019-12-15</td><td>2022-03-29 16:20:20.373</td><td>835</td></tr>",
                            "<tr><td>2019-12-16</td><td>2022-03-29 16:20:20.373</td><td>834</td></tr>",
                            "<tr><td>2019-12-17</td><td>2022-03-29 16:20:20.373</td><td>833</td></tr>",
                            "<tr><td>2019-12-18</td><td>2022-03-29 16:20:20.373</td><td>832</td></tr>",
                            "<tr><td>2019-12-18</td><td>2022-03-29 16:20:20.373</td><td>832</td></tr>",
                            "<tr><td>2019-12-20</td><td>2022-03-29 16:20:20.373</td><td>830</td></tr>",
                            "<tr><td>2019-12-21</td><td>2022-03-29 16:20:20.373</td><td>829</td></tr>",
                            "<tr><td>2019-12-22</td><td>2022-03-29 16:20:20.373</td><td>828</td></tr>",
                            "<tr><td>2019-12-22</td><td>2022-03-29 16:20:20.373</td><td>828</td></tr>",
                            "<tr><td>2019-12-22</td><td>2022-03-29 16:20:20.373</td><td>828</td></tr>",
                            "<tr><td>2019-12-22</td><td>2022-03-29 16:20:20.373</td><td>828</td></tr>",
                            "<tr><td>2019-12-23</td><td>2022-03-29 16:20:20.373</td><td>827</td></tr>",
                            "<tr><td>2019-12-24</td><td>2022-03-29 16:20:20.373</td><td>826</td></tr>",
                            "<tr><td>2019-12-24</td><td>2022-03-29 16:20:20.373</td><td>826</td></tr>",
                            "<tr><td>2019-12-24</td><td>2022-03-29 16:20:20.373</td><td>826</td></tr>",
                            "<tr><td>2019-12-25</td><td>2022-03-29 16:20:20.373</td><td>825</td></tr>",
                            "<tr><td>2019-12-28</td><td>2022-03-29 16:20:20.373</td><td>822</td></tr>",
                            "<tr><td>2019-12-28</td><td>2022-03-29 16:20:20.373</td><td>822</td></tr>",
                            "<tr><td>2020-01-01</td><td>2022-03-29 16:20:20.373</td><td>818</td></tr>",
                            "<tr><td>2020-01-02</td><td>2022-03-29 16:20:20.373</td><td>817</td></tr>",
                            "<tr><td>2020-01-05</td><td>2022-03-29 16:20:20.373</td><td>814</td></tr>",
                            "<tr><td>2020-01-06</td><td>2022-03-29 16:20:20.373</td><td>813</td></tr>",
                            "<tr><td>2020-01-06</td><td>2022-03-29 16:20:20.373</td><td>813</td></tr>",
                            "<tr><td>2020-01-07</td><td>2022-03-29 16:20:20.373</td><td>812</td></tr>",
                            "<tr><td>2020-01-07</td><td>2022-03-29 16:20:20.373</td><td>812</td></tr>",
                            "<tr><td>2020-01-08</td><td>2022-03-29 16:20:20.373</td><td>811</td></tr>",
                            "<tr><td>2020-01-08</td><td>2022-03-29 16:20:20.373</td><td>811</td></tr>",
                            "<tr><td>2020-01-10</td><td>2022-03-29 16:20:20.373</td><td>809</td></tr>",
                            "<tr><td>2020-01-12</td><td>2022-03-29 16:20:20.373</td><td>807</td></tr>",
                            "<tr><td>2020-01-15</td><td>2022-03-29 16:20:20.373</td><td>804</td></tr>",
                            "<tr><td>2020-01-15</td><td>2022-03-29 16:20:20.373</td><td>804</td></tr>",
                            "<tr><td>2020-01-16</td><td>2022-03-29 16:20:20.373</td><td>803</td></tr>",
                            "<tr><td>2020-01-18</td><td>2022-03-29 16:20:20.373</td><td>801</td></tr>",
                            "<tr><td>2020-01-19</td><td>2022-03-29 16:20:20.373</td><td>800</td></tr>",
                            "<tr><td>2020-01-19</td><td>2022-03-29 16:20:20.373</td><td>800</td></tr>",
                            "<tr><td>2020-01-20</td><td>2022-03-29 16:20:20.373</td><td>799</td></tr>",
                            "<tr><td>2020-01-21</td><td>2022-03-29 16:20:20.373</td><td>798</td></tr>",
                            "<tr><td>2020-01-21</td><td>2022-03-29 16:20:20.373</td><td>798</td></tr>",
                            "<tr><td>2020-01-22</td><td>2022-03-29 16:20:20.373</td><td>797</td></tr>",
                            "<tr><td>2020-01-22</td><td>2022-03-29 16:20:20.373</td><td>797</td></tr>",
                            "<tr><td>2020-01-23</td><td>2022-03-29 16:20:20.373</td><td>796</td></tr>",
                            "<tr><td>2020-01-23</td><td>2022-03-29 16:20:20.373</td><td>796</td></tr>",
                            "<tr><td>2020-01-23</td><td>2022-03-29 16:20:20.373</td><td>796</td></tr>",
                            "<tr><td>2020-01-24</td><td>2022-03-29 16:20:20.373</td><td>795</td></tr>",
                            "<tr><td>2020-01-24</td><td>2022-03-29 16:20:20.373</td><td>795</td></tr>",
                            "<tr><td>2020-01-24</td><td>2022-03-29 16:20:20.373</td><td>795</td></tr>",
                            "<tr><td>2020-01-24</td><td>2022-03-29 16:20:20.373</td><td>795</td></tr>",
                            "<tr><td>2020-01-25</td><td>2022-03-29 16:20:20.373</td><td>794</td></tr>",
                            "<tr><td>2020-01-28</td><td>2022-03-29 16:20:20.373</td><td>791</td></tr>",
                            "<tr><td>2020-01-30</td><td>2022-03-29 16:20:20.373</td><td>789</td></tr>",
                            "<tr><td>2020-01-31</td><td>2022-03-29 16:20:20.373</td><td>788</td></tr>",
                            "<tr><td>2020-02-01</td><td>2022-03-29 16:20:20.373</td><td>787</td></tr>",
                            "<tr><td>2020-02-02</td><td>2022-03-29 16:20:20.373</td><td>786</td></tr>",
                            "</table>"
                        ]
                    }
                }
            ],
            "execution_count": 7
        }
    ]
}