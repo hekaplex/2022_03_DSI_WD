{
    "metadata": {
        "kernelspec": {
            "name": "SQL",
            "display_name": "SQL",
            "language": "sql"
        },
        "language_info": {
            "name": "sql",
            "version": ""
        }
    },
    "nbformat_minor": 2,
    "nbformat": 4,
    "cells": [
        {
            "cell_type": "code",
            "source": [
                ""
            ],
            "metadata": {
                "azdata_cell_guid": "1a6fe2af-6a9c-4509-a051-fa34a4824015"
            },
            "outputs": [],
            "execution_count": null
        }
    ]
}