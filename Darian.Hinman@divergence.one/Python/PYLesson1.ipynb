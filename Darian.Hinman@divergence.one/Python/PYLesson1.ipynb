{
 "cells": [
  {
   "cell_type": "code",
   "execution_count": 2,
   "metadata": {},
   "outputs": [],
   "source": [
    "import pandas as pd"
   ]
  },
  {
   "cell_type": "code",
   "execution_count": 1,
   "metadata": {},
   "outputs": [
    {
     "name": "stdout",
     "output_type": "stream",
     "text": [
      "Hello Darian Hinman! You are 24\n"
     ]
    }
   ],
   "source": [
    "Name = input(\"enter name here\")\n",
    "Age = input (\"enter age here\")\n",
    "print(\"Hello \"+ Name + \"! You are \" + Age)"
   ]
  },
  {
   "cell_type": "code",
   "execution_count": 5,
   "metadata": {},
   "outputs": [
    {
     "name": "stdout",
     "output_type": "stream",
     "text": [
      "Hello Darian Hinman\n",
      "Hello Darian Hinman\n",
      "Hello Darian Hinman\n",
      "Hello Darian Hinman\n",
      "Hello Darian Hinman\n",
      "Hello Darian Hinman\n",
      "\n"
     ]
    }
   ],
   "source": [
    "Name = input(\"enter name\")\n",
    "repeat = int(input(\"number of repeats\"))\n",
    "core_string = \"Hello \" + Name + \"\\n\"\n",
    "print(core_string * repeat)"
   ]
  },
  {
   "cell_type": "code",
   "execution_count": 7,
   "metadata": {},
   "outputs": [
    {
     "name": "stdout",
     "output_type": "stream",
     "text": [
      "Roses are Red\n",
      "Violets are Blue\n",
      "Today is sunny\n",
      "And I Love food (;\n"
     ]
    }
   ],
   "source": [
    "firstI = input(\"enter color\")\n",
    "secondI = input(\"enter color\")\n",
    "thirdI = input(\"enter adjective\")\n",
    "fourthI = input(\"enter person\")\n",
    "\n",
    "print(\"Roses are \" + firstI + \"\\n\" + \"Violets are \" + secondI + \"\\n\" + \"Today is \" + thirdI + \"\\n\" + \"And I Love \" + fourthI)"
   ]
  }
 ],
 "metadata": {
  "interpreter": {
   "hash": "62f01eb68a011330deb3c9d343cbc7b0f3d68daa490b4a952b9f672a9358624e"
  },
  "kernelspec": {
   "display_name": "Python 3.10.4 64-bit (windows store)",
   "language": "python",
   "name": "python3"
  },
  "language_info": {
   "codemirror_mode": {
    "name": "ipython",
    "version": 3
   },
   "file_extension": ".py",
   "mimetype": "text/x-python",
   "name": "python",
   "nbconvert_exporter": "python",
   "pygments_lexer": "ipython3",
   "version": "3.10.4"
  },
  "orig_nbformat": 4
 },
 "nbformat": 4,
 "nbformat_minor": 2
}
