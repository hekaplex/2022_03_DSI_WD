{
    "metadata": {
        "kernelspec": {
            "name": "SQL",
            "display_name": "SQL",
            "language": "sql"
        },
        "language_info": {
            "name": "sql",
            "version": ""
        }
    },
    "nbformat_minor": 2,
    "nbformat": 4,
    "cells": [
        {
            "cell_type": "code",
            "source": [
                "SELECT o.OrderID , ItemID \r\n",
                "FROM ORDERS O \r\n",
                "JOIN OrderDetails d \r\n",
                "ON o.OrderID = d.OrderID\r\n",
                "WHERE CustID = 10"
            ],
            "metadata": {
                "azdata_cell_guid": "ca93cd83-4754-4d73-a7cb-fbcda8f6c6fe"
            },
            "outputs": [
                {
                    "output_type": "display_data",
                    "data": {
                        "text/html": "(1 row affected)"
                    },
                    "metadata": {}
                },
                {
                    "output_type": "display_data",
                    "data": {
                        "text/html": "Total execution time: 00:00:00.148"
                    },
                    "metadata": {}
                },
                {
                    "output_type": "execute_result",
                    "metadata": {},
                    "execution_count": 5,
                    "data": {
                        "application/vnd.dataresource+json": {
                            "schema": {
                                "fields": [
                                    {
                                        "name": "OrderID"
                                    },
                                    {
                                        "name": "ItemID"
                                    }
                                ]
                            },
                            "data": [
                                {
                                    "0": "70",
                                    "1": "1"
                                }
                            ]
                        },
                        "text/html": [
                            "<table>",
                            "<tr><th>OrderID</th><th>ItemID</th></tr>",
                            "<tr><td>70</td><td>1</td></tr>",
                            "</table>"
                        ]
                    }
                }
            ],
            "execution_count": 5
        },
        {
            "cell_type": "code",
            "source": [
                "SELECT o.OrderID , SUM(quantity) QTY  \r\n",
                "FROM ORDERS O \r\n",
                "JOIN OrderDetails d \r\n",
                "ON o.OrderID = d.OrderID\r\n",
                "GROUP BY  o.OrderID"
            ],
            "metadata": {
                "azdata_cell_guid": "1455d4da-9c78-4ddc-b489-c485d7d1fc9a"
            },
            "outputs": [
                {
                    "output_type": "display_data",
                    "data": {
                        "text/html": "(46 rows affected)"
                    },
                    "metadata": {}
                },
                {
                    "output_type": "display_data",
                    "data": {
                        "text/html": "Total execution time: 00:00:00.076"
                    },
                    "metadata": {}
                },
                {
                    "output_type": "execute_result",
                    "metadata": {},
                    "execution_count": 6,
                    "data": {
                        "application/vnd.dataresource+json": {
                            "schema": {
                                "fields": [
                                    {
                                        "name": "OrderID"
                                    },
                                    {
                                        "name": "QTY"
                                    }
                                ]
                            },
                            "data": [
                                {
                                    "0": "19",
                                    "1": "1"
                                },
                                {
                                    "0": "29",
                                    "1": "2"
                                },
                                {
                                    "0": "32",
                                    "1": "1"
                                },
                                {
                                    "0": "70",
                                    "1": "1"
                                },
                                {
                                    "0": "89",
                                    "1": "1"
                                },
                                {
                                    "0": "97",
                                    "1": "2"
                                },
                                {
                                    "0": "118",
                                    "1": "1"
                                },
                                {
                                    "0": "144",
                                    "1": "1"
                                },
                                {
                                    "0": "158",
                                    "1": "1"
                                },
                                {
                                    "0": "165",
                                    "1": "1"
                                },
                                {
                                    "0": "180",
                                    "1": "1"
                                },
                                {
                                    "0": "231",
                                    "1": "1"
                                },
                                {
                                    "0": "242",
                                    "1": "2"
                                },
                                {
                                    "0": "264",
                                    "1": "3"
                                },
                                {
                                    "0": "298",
                                    "1": "1"
                                },
                                {
                                    "0": "321",
                                    "1": "1"
                                },
                                {
                                    "0": "381",
                                    "1": "1"
                                },
                                {
                                    "0": "392",
                                    "1": "1"
                                },
                                {
                                    "0": "413",
                                    "1": "1"
                                },
                                {
                                    "0": "442",
                                    "1": "1"
                                },
                                {
                                    "0": "479",
                                    "1": "3"
                                },
                                {
                                    "0": "491",
                                    "1": "1"
                                },
                                {
                                    "0": "494",
                                    "1": "1"
                                },
                                {
                                    "0": "523",
                                    "1": "1"
                                },
                                {
                                    "0": "548",
                                    "1": "1"
                                },
                                {
                                    "0": "550",
                                    "1": "2"
                                },
                                {
                                    "0": "601",
                                    "1": "2"
                                },
                                {
                                    "0": "606",
                                    "1": "1"
                                },
                                {
                                    "0": "607",
                                    "1": "2"
                                },
                                {
                                    "0": "624",
                                    "1": "1"
                                },
                                {
                                    "0": "627",
                                    "1": "1"
                                },
                                {
                                    "0": "630",
                                    "1": "3"
                                },
                                {
                                    "0": "631",
                                    "1": "1"
                                },
                                {
                                    "0": "651",
                                    "1": "1"
                                },
                                {
                                    "0": "658",
                                    "1": "1"
                                },
                                {
                                    "0": "687",
                                    "1": "2"
                                },
                                {
                                    "0": "693",
                                    "1": "5"
                                },
                                {
                                    "0": "703",
                                    "1": "1"
                                },
                                {
                                    "0": "773",
                                    "1": "1"
                                },
                                {
                                    "0": "778",
                                    "1": "2"
                                },
                                {
                                    "0": "796",
                                    "1": "3"
                                },
                                {
                                    "0": "800",
                                    "1": "2"
                                },
                                {
                                    "0": "802",
                                    "1": "2"
                                },
                                {
                                    "0": "824",
                                    "1": "3"
                                },
                                {
                                    "0": "827",
                                    "1": "1"
                                },
                                {
                                    "0": "829",
                                    "1": "4"
                                }
                            ]
                        },
                        "text/html": [
                            "<table>",
                            "<tr><th>OrderID</th><th>QTY</th></tr>",
                            "<tr><td>19</td><td>1</td></tr>",
                            "<tr><td>29</td><td>2</td></tr>",
                            "<tr><td>32</td><td>1</td></tr>",
                            "<tr><td>70</td><td>1</td></tr>",
                            "<tr><td>89</td><td>1</td></tr>",
                            "<tr><td>97</td><td>2</td></tr>",
                            "<tr><td>118</td><td>1</td></tr>",
                            "<tr><td>144</td><td>1</td></tr>",
                            "<tr><td>158</td><td>1</td></tr>",
                            "<tr><td>165</td><td>1</td></tr>",
                            "<tr><td>180</td><td>1</td></tr>",
                            "<tr><td>231</td><td>1</td></tr>",
                            "<tr><td>242</td><td>2</td></tr>",
                            "<tr><td>264</td><td>3</td></tr>",
                            "<tr><td>298</td><td>1</td></tr>",
                            "<tr><td>321</td><td>1</td></tr>",
                            "<tr><td>381</td><td>1</td></tr>",
                            "<tr><td>392</td><td>1</td></tr>",
                            "<tr><td>413</td><td>1</td></tr>",
                            "<tr><td>442</td><td>1</td></tr>",
                            "<tr><td>479</td><td>3</td></tr>",
                            "<tr><td>491</td><td>1</td></tr>",
                            "<tr><td>494</td><td>1</td></tr>",
                            "<tr><td>523</td><td>1</td></tr>",
                            "<tr><td>548</td><td>1</td></tr>",
                            "<tr><td>550</td><td>2</td></tr>",
                            "<tr><td>601</td><td>2</td></tr>",
                            "<tr><td>606</td><td>1</td></tr>",
                            "<tr><td>607</td><td>2</td></tr>",
                            "<tr><td>624</td><td>1</td></tr>",
                            "<tr><td>627</td><td>1</td></tr>",
                            "<tr><td>630</td><td>3</td></tr>",
                            "<tr><td>631</td><td>1</td></tr>",
                            "<tr><td>651</td><td>1</td></tr>",
                            "<tr><td>658</td><td>1</td></tr>",
                            "<tr><td>687</td><td>2</td></tr>",
                            "<tr><td>693</td><td>5</td></tr>",
                            "<tr><td>703</td><td>1</td></tr>",
                            "<tr><td>773</td><td>1</td></tr>",
                            "<tr><td>778</td><td>2</td></tr>",
                            "<tr><td>796</td><td>3</td></tr>",
                            "<tr><td>800</td><td>2</td></tr>",
                            "<tr><td>802</td><td>2</td></tr>",
                            "<tr><td>824</td><td>3</td></tr>",
                            "<tr><td>827</td><td>1</td></tr>",
                            "<tr><td>829</td><td>4</td></tr>",
                            "</table>"
                        ]
                    }
                }
            ],
            "execution_count": 6
        }
    ]
}