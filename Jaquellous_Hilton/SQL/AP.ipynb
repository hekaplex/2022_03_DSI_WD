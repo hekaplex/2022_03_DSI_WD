{
    "metadata": {
        "kernelspec": {
            "name": "SQL",
            "display_name": "SQL",
            "language": "sql"
        },
        "language_info": {
            "name": "sql",
            "version": ""
        }
    },
    "nbformat_minor": 2,
    "nbformat": 4,
    "cells": [
        {
            "cell_type": "code",
            "source": [
                "SELECT i.*,v.*\r\n",
                "FROM invoices i \r\n",
                "JOIN vendors v \r\n",
                "ON i.vendorid = v.vendorid \r\n",
                "WHERE v.vendorid = 37"
            ],
            "metadata": {
                "azdata_cell_guid": "c7efb319-6f43-4ccc-8066-91821edca3a3"
            },
            "outputs": [
                {
                    "output_type": "display_data",
                    "data": {
                        "text/html": "(3 rows affected)"
                    },
                    "metadata": {}
                },
                {
                    "output_type": "display_data",
                    "data": {
                        "text/html": "Total execution time: 00:00:00.067"
                    },
                    "metadata": {}
                },
                {
                    "output_type": "execute_result",
                    "metadata": {},
                    "execution_count": 2,
                    "data": {
                        "application/vnd.dataresource+json": {
                            "schema": {
                                "fields": [
                                    {
                                        "name": "InvoiceID"
                                    },
                                    {
                                        "name": "VendorID"
                                    },
                                    {
                                        "name": "InvoiceNumber"
                                    },
                                    {
                                        "name": "InvoiceDate"
                                    },
                                    {
                                        "name": "InvoiceTotal"
                                    },
                                    {
                                        "name": "PaymentTotal"
                                    },
                                    {
                                        "name": "CreditTotal"
                                    },
                                    {
                                        "name": "TermsID"
                                    },
                                    {
                                        "name": "InvoiceDueDate"
                                    },
                                    {
                                        "name": "PaymentDate"
                                    },
                                    {
                                        "name": "VendorID"
                                    },
                                    {
                                        "name": "VendorName"
                                    },
                                    {
                                        "name": "VendorAddress1"
                                    },
                                    {
                                        "name": "VendorAddress2"
                                    },
                                    {
                                        "name": "VendorCity"
                                    },
                                    {
                                        "name": "VendorState"
                                    },
                                    {
                                        "name": "VendorZipCode"
                                    },
                                    {
                                        "name": "VendorPhone"
                                    },
                                    {
                                        "name": "VendorContactLName"
                                    },
                                    {
                                        "name": "VendorContactFName"
                                    },
                                    {
                                        "name": "DefaultTermsID"
                                    },
                                    {
                                        "name": "DefaultAccountNo"
                                    }
                                ]
                            },
                            "data": [
                                {
                                    "0": "46",
                                    "1": "37",
                                    "2": "547481328",
                                    "3": "2019-12-03",
                                    "4": "224.00",
                                    "5": "224.00",
                                    "6": "0.00",
                                    "7": "3",
                                    "8": "2020-01-03",
                                    "9": "2020-01-04",
                                    "10": "37",
                                    "11": "Blue Cross",
                                    "12": "PO Box 9061",
                                    "13": "NULL",
                                    "14": "Oxnard",
                                    "15": "CA",
                                    "16": "93031",
                                    "17": "(800) 555-0912",
                                    "18": "Eliana",
                                    "19": "Nikolas",
                                    "20": "3",
                                    "21": "510"
                                },
                                {
                                    "0": "50",
                                    "1": "37",
                                    "2": "547479217",
                                    "3": "2019-12-07",
                                    "4": "116.00",
                                    "5": "116.00",
                                    "6": "0.00",
                                    "7": "3",
                                    "8": "2020-01-07",
                                    "9": "2020-01-07",
                                    "10": "37",
                                    "11": "Blue Cross",
                                    "12": "PO Box 9061",
                                    "13": "NULL",
                                    "14": "Oxnard",
                                    "15": "CA",
                                    "16": "93031",
                                    "17": "(800) 555-0912",
                                    "18": "Eliana",
                                    "19": "Nikolas",
                                    "20": "3",
                                    "21": "510"
                                },
                                {
                                    "0": "113",
                                    "1": "37",
                                    "2": "547480102",
                                    "3": "2020-02-01",
                                    "4": "224.00",
                                    "5": "0.00",
                                    "6": "0.00",
                                    "7": "3",
                                    "8": "2020-02-29",
                                    "9": "NULL",
                                    "10": "37",
                                    "11": "Blue Cross",
                                    "12": "PO Box 9061",
                                    "13": "NULL",
                                    "14": "Oxnard",
                                    "15": "CA",
                                    "16": "93031",
                                    "17": "(800) 555-0912",
                                    "18": "Eliana",
                                    "19": "Nikolas",
                                    "20": "3",
                                    "21": "510"
                                }
                            ]
                        },
                        "text/html": [
                            "<table>",
                            "<tr><th>InvoiceID</th><th>VendorID</th><th>InvoiceNumber</th><th>InvoiceDate</th><th>InvoiceTotal</th><th>PaymentTotal</th><th>CreditTotal</th><th>TermsID</th><th>InvoiceDueDate</th><th>PaymentDate</th><th>VendorID</th><th>VendorName</th><th>VendorAddress1</th><th>VendorAddress2</th><th>VendorCity</th><th>VendorState</th><th>VendorZipCode</th><th>VendorPhone</th><th>VendorContactLName</th><th>VendorContactFName</th><th>DefaultTermsID</th><th>DefaultAccountNo</th></tr>",
                            "<tr><td>46</td><td>37</td><td>547481328</td><td>2019-12-03</td><td>224.00</td><td>224.00</td><td>0.00</td><td>3</td><td>2020-01-03</td><td>2020-01-04</td><td>37</td><td>Blue Cross</td><td>PO Box 9061</td><td>NULL</td><td>Oxnard</td><td>CA</td><td>93031</td><td>(800) 555-0912</td><td>Eliana</td><td>Nikolas</td><td>3</td><td>510</td></tr>",
                            "<tr><td>50</td><td>37</td><td>547479217</td><td>2019-12-07</td><td>116.00</td><td>116.00</td><td>0.00</td><td>3</td><td>2020-01-07</td><td>2020-01-07</td><td>37</td><td>Blue Cross</td><td>PO Box 9061</td><td>NULL</td><td>Oxnard</td><td>CA</td><td>93031</td><td>(800) 555-0912</td><td>Eliana</td><td>Nikolas</td><td>3</td><td>510</td></tr>",
                            "<tr><td>113</td><td>37</td><td>547480102</td><td>2020-02-01</td><td>224.00</td><td>0.00</td><td>0.00</td><td>3</td><td>2020-02-29</td><td>NULL</td><td>37</td><td>Blue Cross</td><td>PO Box 9061</td><td>NULL</td><td>Oxnard</td><td>CA</td><td>93031</td><td>(800) 555-0912</td><td>Eliana</td><td>Nikolas</td><td>3</td><td>510</td></tr>",
                            "</table>"
                        ]
                    }
                }
            ],
            "execution_count": 2
        },
        {
            "cell_type": "code",
            "source": [
                "SELECT sum(i.invoicetotal),v.vendorname\r\n",
                "FROM invoices i \r\n",
                "JOIN vendors v \r\n",
                "ON i.vendorid = v.vendorid \r\n",
                "WHERE v.vendorid = 37\r\n",
                "GROUP BY v.vendorname"
            ],
            "metadata": {
                "azdata_cell_guid": "fca39f69-950c-4014-bfe8-bc7f409f1796"
            },
            "outputs": [
                {
                    "output_type": "display_data",
                    "data": {
                        "text/html": "(1 row affected)"
                    },
                    "metadata": {}
                },
                {
                    "output_type": "display_data",
                    "data": {
                        "text/html": "Total execution time: 00:00:00.062"
                    },
                    "metadata": {}
                },
                {
                    "output_type": "execute_result",
                    "metadata": {},
                    "execution_count": 4,
                    "data": {
                        "application/vnd.dataresource+json": {
                            "schema": {
                                "fields": [
                                    {
                                        "name": "(No column name)"
                                    },
                                    {
                                        "name": "vendorname"
                                    }
                                ]
                            },
                            "data": [
                                {
                                    "0": "564.00",
                                    "1": "Blue Cross"
                                }
                            ]
                        },
                        "text/html": [
                            "<table>",
                            "<tr><th>(No column name)</th><th>vendorname</th></tr>",
                            "<tr><td>564.00</td><td>Blue Cross</td></tr>",
                            "</table>"
                        ]
                    }
                }
            ],
            "execution_count": 4
        }
    ]
}